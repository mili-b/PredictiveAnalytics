{
  "nbformat": 4,
  "nbformat_minor": 0,
  "metadata": {
    "kernelspec": {
      "display_name": "Python 3",
      "language": "python",
      "name": "python3"
    },
    "language_info": {
      "codemirror_mode": {
        "name": "ipython",
        "version": 3
      },
      "file_extension": ".py",
      "mimetype": "text/x-python",
      "name": "python",
      "nbconvert_exporter": "python",
      "pygments_lexer": "ipython3",
      "version": "3.7.3"
    },
    "colab": {
      "name": "Copy of Copy data301.project2.of Ecommerce Purchases Exercise .ipynb",
      "provenance": [],
      "collapsed_sections": [],
      "include_colab_link": true
    }
  },
  "cells": [
    {
      "cell_type": "markdown",
      "metadata": {
        "id": "view-in-github",
        "colab_type": "text"
      },
      "source": [
        "<a href=\"https://colab.research.google.com/github/mili-b/PredictiveAnalytics/blob/main/Copy_of_Copy_data301_project2_of_Ecommerce_Purchases_Exercise_.ipynb\" target=\"_parent\"><img src=\"https://colab.research.google.com/assets/colab-badge.svg\" alt=\"Open In Colab\"/></a>"
      ]
    },
    {
      "cell_type": "markdown",
      "metadata": {
        "id": "fbbYQywFeGz1"
      },
      "source": [
        "# Ecommerce Purchases Exercise\n",
        "\n",
        "In this Exercise you will work with 'Fake Data' about some purchases done through Amazon! Follow the directions on the cells bellow and try your best to answer the questions and complete the tasks. Many of the tasks can be solved in 'different ways'.\n",
        "\n",
        "Do not get discouraged if the exercie does not make \"Real-World\", REMEMBER that all the data is made-up.\n",
        "\n",
        "Also note that all of these questions can be answered with one line of code.\n",
        "____\n",
        "*Import pandas and read in the Ecommerce Purchases csv file and set it to a DataFrame called ecom.*"
      ]
    },
    {
      "cell_type": "code",
      "metadata": {
        "id": "SEmjk8Hzw8BG"
      },
      "source": [
        "import pandas as pd"
      ],
      "execution_count": null,
      "outputs": []
    },
    {
      "cell_type": "code",
      "metadata": {
        "collapsed": true,
        "jupyter": {
          "outputs_hidden": true
        },
        "id": "2A1P9e3GeGz3"
      },
      "source": [
        "ecom = pd.read_csv('https://raw.githubusercontent.com/glopez21/ML-Data/main/EcommercePurchases.csv')"
      ],
      "execution_count": null,
      "outputs": []
    },
    {
      "cell_type": "code",
      "metadata": {
        "collapsed": true,
        "jupyter": {
          "outputs_hidden": true
        },
        "id": "ydw1YvM-eGz4",
        "colab": {
          "base_uri": "https://localhost:8080/"
        },
        "outputId": "026f70a5-4857-42f4-ebe2-98b86ef22531"
      },
      "source": [
        "ecom.dtypes"
      ],
      "execution_count": null,
      "outputs": [
        {
          "output_type": "execute_result",
          "data": {
            "text/plain": [
              "Address              object\n",
              "Lot                  object\n",
              "AM or PM             object\n",
              "Browser Info         object\n",
              "Company              object\n",
              "Credit Card           int64\n",
              "CC Exp Date          object\n",
              "CC Security Code      int64\n",
              "CC Provider          object\n",
              "Email                object\n",
              "Job                  object\n",
              "IP Address           object\n",
              "Language             object\n",
              "Purchase Price      float64\n",
              "dtype: object"
            ]
          },
          "metadata": {},
          "execution_count": 3
        }
      ]
    },
    {
      "cell_type": "markdown",
      "metadata": {
        "id": "RDG5PYSDeGz4"
      },
      "source": [
        "**Check the head of the DataFrame.**"
      ]
    },
    {
      "cell_type": "code",
      "metadata": {
        "jupyter": {
          "outputs_hidden": false
        },
        "id": "u2K7HypBeGz5",
        "colab": {
          "base_uri": "https://localhost:8080/",
          "height": 652
        },
        "outputId": "c534a861-0940-4a55-e7a9-512f0e4e60c3"
      },
      "source": [
        "ecom.head()"
      ],
      "execution_count": null,
      "outputs": [
        {
          "output_type": "execute_result",
          "data": {
            "text/plain": [
              "                                             Address    Lot AM or PM  \\\n",
              "0  16629 Pace Camp Apt. 448\\nAlexisborough, NE 77...  46 in       PM   \n",
              "1  9374 Jasmine Spurs Suite 508\\nSouth John, TN 8...  28 rn       PM   \n",
              "2                   Unit 0065 Box 5052\\nDPO AP 27450  94 vE       PM   \n",
              "3              7780 Julia Fords\\nNew Stacy, WA 45798  36 vm       PM   \n",
              "4  23012 Munoz Drive Suite 337\\nNew Cynthia, TX 5...  20 IE       AM   \n",
              "\n",
              "                                        Browser Info  \\\n",
              "0  Opera/9.56.(X11; Linux x86_64; sl-SI) Presto/2...   \n",
              "1  Opera/8.93.(Windows 98; Win 9x 4.90; en-US) Pr...   \n",
              "2  Mozilla/5.0 (compatible; MSIE 9.0; Windows NT ...   \n",
              "3  Mozilla/5.0 (Macintosh; Intel Mac OS X 10_8_0 ...   \n",
              "4  Opera/9.58.(X11; Linux x86_64; it-IT) Presto/2...   \n",
              "\n",
              "                           Company       Credit Card CC Exp Date  \\\n",
              "0                  Martinez-Herman  6011929061123406       02/20   \n",
              "1  Fletcher, Richards and Whitaker  3337758169645356       11/18   \n",
              "2       Simpson, Williams and Pham      675957666125       08/19   \n",
              "3  Williams, Marshall and Buchanan  6011578504430710       02/24   \n",
              "4        Brown, Watson and Andrews  6011456623207998       10/25   \n",
              "\n",
              "   CC Security Code                  CC Provider  \\\n",
              "0               900                 JCB 16 digit   \n",
              "1               561                   Mastercard   \n",
              "2               699                 JCB 16 digit   \n",
              "3               384                     Discover   \n",
              "4               678  Diners Club / Carte Blanche   \n",
              "\n",
              "                            Email                                     Job  \\\n",
              "0               pdunlap@yahoo.com  Scientist, product/process development   \n",
              "1              anthony41@reed.com                       Drilling engineer   \n",
              "2  amymiller@morales-harrison.com                Customer service manager   \n",
              "3     brent16@olson-robinson.info                       Drilling engineer   \n",
              "4     christopherwright@gmail.com                             Fine artist   \n",
              "\n",
              "        IP Address Language  Purchase Price  \n",
              "0  149.146.147.205       el           98.14  \n",
              "1     15.160.41.51       fr           70.73  \n",
              "2   132.207.160.22       de            0.95  \n",
              "3     30.250.74.19       es           78.04  \n",
              "4     24.140.33.94       es           77.82  "
            ],
            "text/html": [
              "\n",
              "  <div id=\"df-d7778028-bb05-4260-8e16-f0117ccbda60\">\n",
              "    <div class=\"colab-df-container\">\n",
              "      <div>\n",
              "<style scoped>\n",
              "    .dataframe tbody tr th:only-of-type {\n",
              "        vertical-align: middle;\n",
              "    }\n",
              "\n",
              "    .dataframe tbody tr th {\n",
              "        vertical-align: top;\n",
              "    }\n",
              "\n",
              "    .dataframe thead th {\n",
              "        text-align: right;\n",
              "    }\n",
              "</style>\n",
              "<table border=\"1\" class=\"dataframe\">\n",
              "  <thead>\n",
              "    <tr style=\"text-align: right;\">\n",
              "      <th></th>\n",
              "      <th>Address</th>\n",
              "      <th>Lot</th>\n",
              "      <th>AM or PM</th>\n",
              "      <th>Browser Info</th>\n",
              "      <th>Company</th>\n",
              "      <th>Credit Card</th>\n",
              "      <th>CC Exp Date</th>\n",
              "      <th>CC Security Code</th>\n",
              "      <th>CC Provider</th>\n",
              "      <th>Email</th>\n",
              "      <th>Job</th>\n",
              "      <th>IP Address</th>\n",
              "      <th>Language</th>\n",
              "      <th>Purchase Price</th>\n",
              "    </tr>\n",
              "  </thead>\n",
              "  <tbody>\n",
              "    <tr>\n",
              "      <th>0</th>\n",
              "      <td>16629 Pace Camp Apt. 448\\nAlexisborough, NE 77...</td>\n",
              "      <td>46 in</td>\n",
              "      <td>PM</td>\n",
              "      <td>Opera/9.56.(X11; Linux x86_64; sl-SI) Presto/2...</td>\n",
              "      <td>Martinez-Herman</td>\n",
              "      <td>6011929061123406</td>\n",
              "      <td>02/20</td>\n",
              "      <td>900</td>\n",
              "      <td>JCB 16 digit</td>\n",
              "      <td>pdunlap@yahoo.com</td>\n",
              "      <td>Scientist, product/process development</td>\n",
              "      <td>149.146.147.205</td>\n",
              "      <td>el</td>\n",
              "      <td>98.14</td>\n",
              "    </tr>\n",
              "    <tr>\n",
              "      <th>1</th>\n",
              "      <td>9374 Jasmine Spurs Suite 508\\nSouth John, TN 8...</td>\n",
              "      <td>28 rn</td>\n",
              "      <td>PM</td>\n",
              "      <td>Opera/8.93.(Windows 98; Win 9x 4.90; en-US) Pr...</td>\n",
              "      <td>Fletcher, Richards and Whitaker</td>\n",
              "      <td>3337758169645356</td>\n",
              "      <td>11/18</td>\n",
              "      <td>561</td>\n",
              "      <td>Mastercard</td>\n",
              "      <td>anthony41@reed.com</td>\n",
              "      <td>Drilling engineer</td>\n",
              "      <td>15.160.41.51</td>\n",
              "      <td>fr</td>\n",
              "      <td>70.73</td>\n",
              "    </tr>\n",
              "    <tr>\n",
              "      <th>2</th>\n",
              "      <td>Unit 0065 Box 5052\\nDPO AP 27450</td>\n",
              "      <td>94 vE</td>\n",
              "      <td>PM</td>\n",
              "      <td>Mozilla/5.0 (compatible; MSIE 9.0; Windows NT ...</td>\n",
              "      <td>Simpson, Williams and Pham</td>\n",
              "      <td>675957666125</td>\n",
              "      <td>08/19</td>\n",
              "      <td>699</td>\n",
              "      <td>JCB 16 digit</td>\n",
              "      <td>amymiller@morales-harrison.com</td>\n",
              "      <td>Customer service manager</td>\n",
              "      <td>132.207.160.22</td>\n",
              "      <td>de</td>\n",
              "      <td>0.95</td>\n",
              "    </tr>\n",
              "    <tr>\n",
              "      <th>3</th>\n",
              "      <td>7780 Julia Fords\\nNew Stacy, WA 45798</td>\n",
              "      <td>36 vm</td>\n",
              "      <td>PM</td>\n",
              "      <td>Mozilla/5.0 (Macintosh; Intel Mac OS X 10_8_0 ...</td>\n",
              "      <td>Williams, Marshall and Buchanan</td>\n",
              "      <td>6011578504430710</td>\n",
              "      <td>02/24</td>\n",
              "      <td>384</td>\n",
              "      <td>Discover</td>\n",
              "      <td>brent16@olson-robinson.info</td>\n",
              "      <td>Drilling engineer</td>\n",
              "      <td>30.250.74.19</td>\n",
              "      <td>es</td>\n",
              "      <td>78.04</td>\n",
              "    </tr>\n",
              "    <tr>\n",
              "      <th>4</th>\n",
              "      <td>23012 Munoz Drive Suite 337\\nNew Cynthia, TX 5...</td>\n",
              "      <td>20 IE</td>\n",
              "      <td>AM</td>\n",
              "      <td>Opera/9.58.(X11; Linux x86_64; it-IT) Presto/2...</td>\n",
              "      <td>Brown, Watson and Andrews</td>\n",
              "      <td>6011456623207998</td>\n",
              "      <td>10/25</td>\n",
              "      <td>678</td>\n",
              "      <td>Diners Club / Carte Blanche</td>\n",
              "      <td>christopherwright@gmail.com</td>\n",
              "      <td>Fine artist</td>\n",
              "      <td>24.140.33.94</td>\n",
              "      <td>es</td>\n",
              "      <td>77.82</td>\n",
              "    </tr>\n",
              "  </tbody>\n",
              "</table>\n",
              "</div>\n",
              "      <button class=\"colab-df-convert\" onclick=\"convertToInteractive('df-d7778028-bb05-4260-8e16-f0117ccbda60')\"\n",
              "              title=\"Convert this dataframe to an interactive table.\"\n",
              "              style=\"display:none;\">\n",
              "        \n",
              "  <svg xmlns=\"http://www.w3.org/2000/svg\" height=\"24px\"viewBox=\"0 0 24 24\"\n",
              "       width=\"24px\">\n",
              "    <path d=\"M0 0h24v24H0V0z\" fill=\"none\"/>\n",
              "    <path d=\"M18.56 5.44l.94 2.06.94-2.06 2.06-.94-2.06-.94-.94-2.06-.94 2.06-2.06.94zm-11 1L8.5 8.5l.94-2.06 2.06-.94-2.06-.94L8.5 2.5l-.94 2.06-2.06.94zm10 10l.94 2.06.94-2.06 2.06-.94-2.06-.94-.94-2.06-.94 2.06-2.06.94z\"/><path d=\"M17.41 7.96l-1.37-1.37c-.4-.4-.92-.59-1.43-.59-.52 0-1.04.2-1.43.59L10.3 9.45l-7.72 7.72c-.78.78-.78 2.05 0 2.83L4 21.41c.39.39.9.59 1.41.59.51 0 1.02-.2 1.41-.59l7.78-7.78 2.81-2.81c.8-.78.8-2.07 0-2.86zM5.41 20L4 18.59l7.72-7.72 1.47 1.35L5.41 20z\"/>\n",
              "  </svg>\n",
              "      </button>\n",
              "      \n",
              "  <style>\n",
              "    .colab-df-container {\n",
              "      display:flex;\n",
              "      flex-wrap:wrap;\n",
              "      gap: 12px;\n",
              "    }\n",
              "\n",
              "    .colab-df-convert {\n",
              "      background-color: #E8F0FE;\n",
              "      border: none;\n",
              "      border-radius: 50%;\n",
              "      cursor: pointer;\n",
              "      display: none;\n",
              "      fill: #1967D2;\n",
              "      height: 32px;\n",
              "      padding: 0 0 0 0;\n",
              "      width: 32px;\n",
              "    }\n",
              "\n",
              "    .colab-df-convert:hover {\n",
              "      background-color: #E2EBFA;\n",
              "      box-shadow: 0px 1px 2px rgba(60, 64, 67, 0.3), 0px 1px 3px 1px rgba(60, 64, 67, 0.15);\n",
              "      fill: #174EA6;\n",
              "    }\n",
              "\n",
              "    [theme=dark] .colab-df-convert {\n",
              "      background-color: #3B4455;\n",
              "      fill: #D2E3FC;\n",
              "    }\n",
              "\n",
              "    [theme=dark] .colab-df-convert:hover {\n",
              "      background-color: #434B5C;\n",
              "      box-shadow: 0px 1px 3px 1px rgba(0, 0, 0, 0.15);\n",
              "      filter: drop-shadow(0px 1px 2px rgba(0, 0, 0, 0.3));\n",
              "      fill: #FFFFFF;\n",
              "    }\n",
              "  </style>\n",
              "\n",
              "      <script>\n",
              "        const buttonEl =\n",
              "          document.querySelector('#df-d7778028-bb05-4260-8e16-f0117ccbda60 button.colab-df-convert');\n",
              "        buttonEl.style.display =\n",
              "          google.colab.kernel.accessAllowed ? 'block' : 'none';\n",
              "\n",
              "        async function convertToInteractive(key) {\n",
              "          const element = document.querySelector('#df-d7778028-bb05-4260-8e16-f0117ccbda60');\n",
              "          const dataTable =\n",
              "            await google.colab.kernel.invokeFunction('convertToInteractive',\n",
              "                                                     [key], {});\n",
              "          if (!dataTable) return;\n",
              "\n",
              "          const docLinkHtml = 'Like what you see? Visit the ' +\n",
              "            '<a target=\"_blank\" href=https://colab.research.google.com/notebooks/data_table.ipynb>data table notebook</a>'\n",
              "            + ' to learn more about interactive tables.';\n",
              "          element.innerHTML = '';\n",
              "          dataTable['output_type'] = 'display_data';\n",
              "          await google.colab.output.renderOutput(dataTable, element);\n",
              "          const docLink = document.createElement('div');\n",
              "          docLink.innerHTML = docLinkHtml;\n",
              "          element.appendChild(docLink);\n",
              "        }\n",
              "      </script>\n",
              "    </div>\n",
              "  </div>\n",
              "  "
            ]
          },
          "metadata": {},
          "execution_count": 4
        }
      ]
    },
    {
      "cell_type": "markdown",
      "metadata": {
        "id": "5kr6tLTFeGz6"
      },
      "source": [
        "***How many rows and columns are there?***"
      ]
    },
    {
      "cell_type": "code",
      "metadata": {
        "jupyter": {
          "outputs_hidden": false
        },
        "id": "4GcjD26_eGz7",
        "colab": {
          "base_uri": "https://localhost:8080/"
        },
        "outputId": "ca39ec96-633d-491d-f9f1-cde7370afbc9"
      },
      "source": [
        "# 10,000 rows and 14 columns\n",
        "\n",
        "ecom.shape"
      ],
      "execution_count": null,
      "outputs": [
        {
          "output_type": "execute_result",
          "data": {
            "text/plain": [
              "(10000, 14)"
            ]
          },
          "metadata": {},
          "execution_count": 5
        }
      ]
    },
    {
      "cell_type": "code",
      "source": [
        "ecom.columns"
      ],
      "metadata": {
        "colab": {
          "base_uri": "https://localhost:8080/"
        },
        "id": "tls8YRXS4yIp",
        "outputId": "26590987-2432-42bf-990f-e1dde0a716ac"
      },
      "execution_count": null,
      "outputs": [
        {
          "output_type": "execute_result",
          "data": {
            "text/plain": [
              "Index(['Address', 'Lot', 'AM or PM', 'Browser Info', 'Company', 'Credit Card',\n",
              "       'CC Exp Date', 'CC Security Code', 'CC Provider', 'Email', 'Job',\n",
              "       'IP Address', 'Language', 'Purchase Price'],\n",
              "      dtype='object')"
            ]
          },
          "metadata": {},
          "execution_count": 6
        }
      ]
    },
    {
      "cell_type": "markdown",
      "metadata": {
        "id": "H347HqLAeGz7"
      },
      "source": [
        "***What is the average Purchase Price?***"
      ]
    },
    {
      "cell_type": "code",
      "metadata": {
        "jupyter": {
          "outputs_hidden": false
        },
        "id": "3wKeWHn_eGz8",
        "colab": {
          "base_uri": "https://localhost:8080/"
        },
        "outputId": "bed9792c-d326-4def-9b5f-3a6b278747c2"
      },
      "source": [
        "#Average purchase price is 50.35\n",
        "\n",
        "ecom['Purchase Price'].mean()\n",
        "\n",
        "print(round(ecom['Purchase Price'].mean(), 2))\n",
        "\n"
      ],
      "execution_count": null,
      "outputs": [
        {
          "output_type": "stream",
          "name": "stdout",
          "text": [
            "50.35\n"
          ]
        }
      ]
    },
    {
      "cell_type": "markdown",
      "metadata": {
        "id": "AZGP7FrMeGz9"
      },
      "source": [
        "***What were the highest and lowest purchase prices?***"
      ]
    },
    {
      "cell_type": "code",
      "metadata": {
        "jupyter": {
          "outputs_hidden": false
        },
        "id": "bWKNtSw1eGz9",
        "colab": {
          "base_uri": "https://localhost:8080/"
        },
        "outputId": "6a564187-d5d8-477d-d9dc-1095a03b686f"
      },
      "source": [
        "# highest purchase price is 99.99\n",
        "\n",
        "ecom['Purchase Price'].max()"
      ],
      "execution_count": null,
      "outputs": [
        {
          "output_type": "execute_result",
          "data": {
            "text/plain": [
              "99.99"
            ]
          },
          "metadata": {},
          "execution_count": 8
        }
      ]
    },
    {
      "cell_type": "code",
      "metadata": {
        "jupyter": {
          "outputs_hidden": false
        },
        "id": "tZkMr3nReGz9",
        "colab": {
          "base_uri": "https://localhost:8080/"
        },
        "outputId": "7db4eaf0-2418-4417-bac3-5fb9ccf71278"
      },
      "source": [
        "# lowest purchase price is 0\n",
        "\n",
        "ecom['Purchase Price'].min()"
      ],
      "execution_count": null,
      "outputs": [
        {
          "output_type": "execute_result",
          "data": {
            "text/plain": [
              "0.0"
            ]
          },
          "metadata": {},
          "execution_count": 9
        }
      ]
    },
    {
      "cell_type": "markdown",
      "metadata": {
        "id": "cxeCIXiUeGz-"
      },
      "source": [
        "***How many people have English 'en' as their Language of choice on the website?***"
      ]
    },
    {
      "cell_type": "code",
      "metadata": {
        "jupyter": {
          "outputs_hidden": false
        },
        "id": "d3exf5sAeGz-",
        "colab": {
          "base_uri": "https://localhost:8080/"
        },
        "outputId": "600360a0-c72d-4f0d-e5dd-7b91157097ed"
      },
      "source": [
        "#using 'Address' (which is unique) as a proxy for people\n",
        "# 1098 - list english as language of choice\n",
        "\n",
        "#ecom['Company'].is_unique   #false\n",
        "#ecom['Email'].is_unique     #false\n",
        "ecom['Address'].is_unique     #true\n",
        "\n",
        "ecom.groupby(['Language'])['Address'].count()\n"
      ],
      "execution_count": null,
      "outputs": [
        {
          "output_type": "execute_result",
          "data": {
            "text/plain": [
              "Language\n",
              "de    1155\n",
              "el    1137\n",
              "en    1098\n",
              "es    1095\n",
              "fr    1097\n",
              "it    1086\n",
              "pt    1118\n",
              "ru    1155\n",
              "zh    1059\n",
              "Name: Address, dtype: int64"
            ]
          },
          "metadata": {},
          "execution_count": 10
        }
      ]
    },
    {
      "cell_type": "code",
      "metadata": {
        "id": "IvJgQ-Ct0hmD"
      },
      "source": [
        "#Alternately - using 'Company' (which is not unique) as a proxy for people\n",
        "#first remove duplicate Company names to get unique list of company/people\n",
        "\n",
        "ecom_dup = pd.read_csv('https://raw.githubusercontent.com/glopez21/ML-Data/main/EcommercePurchases.csv')\n"
      ],
      "execution_count": null,
      "outputs": []
    },
    {
      "cell_type": "code",
      "source": [
        "# dropping duplicate values in 'Company'\n",
        "ecom_dup.drop_duplicates(subset =\"Company\",\n",
        "                     keep = False, inplace = True)"
      ],
      "metadata": {
        "id": "8eqAdKOJk8ch"
      },
      "execution_count": null,
      "outputs": []
    },
    {
      "cell_type": "code",
      "source": [
        "#number of rows fall to 7,946 from 10,000\n",
        "ecom_dup.shape"
      ],
      "metadata": {
        "colab": {
          "base_uri": "https://localhost:8080/"
        },
        "id": "8_xMIEsck7xW",
        "outputId": "e1c0ae63-c52a-4f74-f947-2000309df39d"
      },
      "execution_count": null,
      "outputs": [
        {
          "output_type": "execute_result",
          "data": {
            "text/plain": [
              "(7946, 14)"
            ]
          },
          "metadata": {},
          "execution_count": 13
        }
      ]
    },
    {
      "cell_type": "code",
      "source": [
        "#886 unique people/companies list english (en) as language of choice\n",
        "\n",
        "ecom_dup.groupby(['Language'])['Company'].count()"
      ],
      "metadata": {
        "colab": {
          "base_uri": "https://localhost:8080/"
        },
        "id": "yicbh8fHrR9z",
        "outputId": "05f0f16b-c0b0-4d3e-94de-507b51188e01"
      },
      "execution_count": null,
      "outputs": [
        {
          "output_type": "execute_result",
          "data": {
            "text/plain": [
              "Language\n",
              "de    898\n",
              "el    906\n",
              "en    886\n",
              "es    888\n",
              "fr    890\n",
              "it    863\n",
              "pt    881\n",
              "ru    916\n",
              "zh    818\n",
              "Name: Company, dtype: int64"
            ]
          },
          "metadata": {},
          "execution_count": 14
        }
      ]
    },
    {
      "cell_type": "code",
      "source": [
        ""
      ],
      "metadata": {
        "id": "FAT_SR1ErSL0"
      },
      "execution_count": null,
      "outputs": []
    },
    {
      "cell_type": "markdown",
      "metadata": {
        "id": "Rb_jA2u7eGz_"
      },
      "source": [
        "***How many people have the job title of \"Lawyer\" ?***\n"
      ]
    },
    {
      "cell_type": "code",
      "metadata": {
        "jupyter": {
          "outputs_hidden": false
        },
        "id": "IiTuxjuVeGz_",
        "colab": {
          "base_uri": "https://localhost:8080/"
        },
        "outputId": "ab0d133c-9a6d-4911-ae2e-0db21005adbe"
      },
      "source": [
        "# similarly - using 'Address' (unique) as a proxy for people\n",
        "# lawyer title = 30 (using unique address to count)\n",
        "\n",
        "ecom.groupby(['Job'])['Address'].count().sort_values(ascending=False).head()"
      ],
      "execution_count": null,
      "outputs": [
        {
          "output_type": "execute_result",
          "data": {
            "text/plain": [
              "Job\n",
              "Interior and spatial designer        31\n",
              "Lawyer                               30\n",
              "Social researcher                    28\n",
              "Designer, jewellery                  27\n",
              "Research officer, political party    27\n",
              "Name: Address, dtype: int64"
            ]
          },
          "metadata": {},
          "execution_count": 15
        }
      ]
    },
    {
      "cell_type": "code",
      "metadata": {
        "id": "cefjHxuN1RlV",
        "colab": {
          "base_uri": "https://localhost:8080/"
        },
        "outputId": "71cd7cb3-058c-4eda-9f95-6af558e7a6e9"
      },
      "source": [
        "#However, using 'Company' (not unique) as a proxy for people\n",
        "#Lawyer title = 24 using Company to count after removing duplicates\n",
        "\n",
        "ecom_dup.groupby(['Job'])['Company'].count().sort_values(ascending=False).head()\n"
      ],
      "execution_count": null,
      "outputs": [
        {
          "output_type": "execute_result",
          "data": {
            "text/plain": [
              "Job\n",
              "Interior and spatial designer    27\n",
              "Lawyer                           24\n",
              "Radio broadcast assistant        24\n",
              "Social researcher                24\n",
              "Therapist, art                   22\n",
              "Name: Company, dtype: int64"
            ]
          },
          "metadata": {},
          "execution_count": 16
        }
      ]
    },
    {
      "cell_type": "markdown",
      "metadata": {
        "id": "52f6zZe-eG0A"
      },
      "source": [
        "***How many people made the purchase during the AM and how many people made the purchase during PM ?***\n",
        "\n",
        "*(Hint: Check out [value_counts()](http://pandas.pydata.org/pandas-docs/stable/generated/pandas.Series.value_counts.html) )*"
      ]
    },
    {
      "cell_type": "code",
      "metadata": {
        "id": "SPBkhEa02BNK",
        "colab": {
          "base_uri": "https://localhost:8080/"
        },
        "outputId": "17cf134b-2298-4864-a2e2-3c03062dec08"
      },
      "source": [
        "# 5068 made purchases in PM and 4932 made purchases in AM\n",
        "#with duplicate companies/people removed:\n",
        "# 4034 made purchases in PM and 3912 made purchases in AM\n",
        "\n",
        "ecom['AM or PM'].value_counts()"
      ],
      "execution_count": null,
      "outputs": [
        {
          "output_type": "execute_result",
          "data": {
            "text/plain": [
              "PM    5068\n",
              "AM    4932\n",
              "Name: AM or PM, dtype: int64"
            ]
          },
          "metadata": {},
          "execution_count": 17
        }
      ]
    },
    {
      "cell_type": "code",
      "source": [
        "ecom_dup['AM or PM'].value_counts()"
      ],
      "metadata": {
        "colab": {
          "base_uri": "https://localhost:8080/"
        },
        "id": "RErqBaMXvXEZ",
        "outputId": "cc74ff17-1500-464a-bbe5-147b76bc7dcf"
      },
      "execution_count": null,
      "outputs": [
        {
          "output_type": "execute_result",
          "data": {
            "text/plain": [
              "PM    4034\n",
              "AM    3912\n",
              "Name: AM or PM, dtype: int64"
            ]
          },
          "metadata": {},
          "execution_count": 24
        }
      ]
    },
    {
      "cell_type": "markdown",
      "metadata": {
        "id": "rH-Ul1JgeG0A"
      },
      "source": [
        "***What are the 5 most common Job Titles?***"
      ]
    },
    {
      "cell_type": "code",
      "metadata": {
        "jupyter": {
          "outputs_hidden": false
        },
        "id": "_oUqgJrWeG0B",
        "colab": {
          "base_uri": "https://localhost:8080/"
        },
        "outputId": "575e8d76-fb91-4577-ab6b-bd2857c7c916"
      },
      "source": [
        "# 5 most common job titles -  Interior and spatial designer, Lawyer, \n",
        "# Social researcher, Designer jewellery, Research officer political party, \n",
        "# purchasing manager\n",
        "\n",
        "ecom.groupby(['Job'])['Address'].count().sort_values(ascending=False).head(5)"
      ],
      "execution_count": null,
      "outputs": [
        {
          "output_type": "execute_result",
          "data": {
            "text/plain": [
              "Job\n",
              "Interior and spatial designer        31\n",
              "Lawyer                               30\n",
              "Social researcher                    28\n",
              "Designer, jewellery                  27\n",
              "Research officer, political party    27\n",
              "Name: Address, dtype: int64"
            ]
          },
          "metadata": {},
          "execution_count": 18
        }
      ]
    },
    {
      "cell_type": "code",
      "source": [
        "#with duplcates for people/company removed:\n",
        "#interior designer, lawyer, radio broadcaster, social researcher, therapist\n",
        "ecom_dup.groupby(['Job'])['Address'].count().sort_values(ascending=False).head(5)"
      ],
      "metadata": {
        "colab": {
          "base_uri": "https://localhost:8080/"
        },
        "id": "PaMDn-_Pd8hY",
        "outputId": "31e1cf33-661c-43f6-8e7b-0fc725481cbf"
      },
      "execution_count": null,
      "outputs": [
        {
          "output_type": "execute_result",
          "data": {
            "text/plain": [
              "Job\n",
              "Interior and spatial designer    27\n",
              "Lawyer                           24\n",
              "Radio broadcast assistant        24\n",
              "Social researcher                24\n",
              "Therapist, art                   22\n",
              "Name: Address, dtype: int64"
            ]
          },
          "metadata": {},
          "execution_count": 25
        }
      ]
    },
    {
      "cell_type": "markdown",
      "metadata": {
        "id": "k7o-K9KHeG0B"
      },
      "source": [
        "***Someone made a purchase that came from Lot: \"90 WT\" , what was the Purchase Price for this transaction?***"
      ]
    },
    {
      "cell_type": "code",
      "metadata": {
        "jupyter": {
          "outputs_hidden": false
        },
        "id": "Rv4DXr0DeG0B",
        "colab": {
          "base_uri": "https://localhost:8080/",
          "height": 266
        },
        "outputId": "13fb3c3d-8d16-4bbe-d446-23884b222eae"
      },
      "source": [
        "# Purchase price = 75.1\n",
        "\n",
        "ecom[ecom['Lot'] == '90 WT']"
      ],
      "execution_count": null,
      "outputs": [
        {
          "output_type": "execute_result",
          "data": {
            "text/plain": [
              "                                               Address    Lot AM or PM  \\\n",
              "513  50398 Mccoy Rest Suite 597\\nSouth Garyborough,...  90 WT       AM   \n",
              "\n",
              "                                          Browser Info     Company  \\\n",
              "513  Mozilla/5.0 (iPod; U; CPU iPhone OS 3_2 like M...  Bright PLC   \n",
              "\n",
              "      Credit Card CC Exp Date  CC Security Code       CC Provider  \\\n",
              "513  630438419693       11/19               173  American Express   \n",
              "\n",
              "                Email              Job     IP Address Language  Purchase Price  \n",
              "513  jesse00@page.net  Energy engineer  156.70.208.94       ru            75.1  "
            ],
            "text/html": [
              "\n",
              "  <div id=\"df-aa52bdf8-48ea-45bb-a3d9-5f95d57ee8a3\">\n",
              "    <div class=\"colab-df-container\">\n",
              "      <div>\n",
              "<style scoped>\n",
              "    .dataframe tbody tr th:only-of-type {\n",
              "        vertical-align: middle;\n",
              "    }\n",
              "\n",
              "    .dataframe tbody tr th {\n",
              "        vertical-align: top;\n",
              "    }\n",
              "\n",
              "    .dataframe thead th {\n",
              "        text-align: right;\n",
              "    }\n",
              "</style>\n",
              "<table border=\"1\" class=\"dataframe\">\n",
              "  <thead>\n",
              "    <tr style=\"text-align: right;\">\n",
              "      <th></th>\n",
              "      <th>Address</th>\n",
              "      <th>Lot</th>\n",
              "      <th>AM or PM</th>\n",
              "      <th>Browser Info</th>\n",
              "      <th>Company</th>\n",
              "      <th>Credit Card</th>\n",
              "      <th>CC Exp Date</th>\n",
              "      <th>CC Security Code</th>\n",
              "      <th>CC Provider</th>\n",
              "      <th>Email</th>\n",
              "      <th>Job</th>\n",
              "      <th>IP Address</th>\n",
              "      <th>Language</th>\n",
              "      <th>Purchase Price</th>\n",
              "    </tr>\n",
              "  </thead>\n",
              "  <tbody>\n",
              "    <tr>\n",
              "      <th>513</th>\n",
              "      <td>50398 Mccoy Rest Suite 597\\nSouth Garyborough,...</td>\n",
              "      <td>90 WT</td>\n",
              "      <td>AM</td>\n",
              "      <td>Mozilla/5.0 (iPod; U; CPU iPhone OS 3_2 like M...</td>\n",
              "      <td>Bright PLC</td>\n",
              "      <td>630438419693</td>\n",
              "      <td>11/19</td>\n",
              "      <td>173</td>\n",
              "      <td>American Express</td>\n",
              "      <td>jesse00@page.net</td>\n",
              "      <td>Energy engineer</td>\n",
              "      <td>156.70.208.94</td>\n",
              "      <td>ru</td>\n",
              "      <td>75.1</td>\n",
              "    </tr>\n",
              "  </tbody>\n",
              "</table>\n",
              "</div>\n",
              "      <button class=\"colab-df-convert\" onclick=\"convertToInteractive('df-aa52bdf8-48ea-45bb-a3d9-5f95d57ee8a3')\"\n",
              "              title=\"Convert this dataframe to an interactive table.\"\n",
              "              style=\"display:none;\">\n",
              "        \n",
              "  <svg xmlns=\"http://www.w3.org/2000/svg\" height=\"24px\"viewBox=\"0 0 24 24\"\n",
              "       width=\"24px\">\n",
              "    <path d=\"M0 0h24v24H0V0z\" fill=\"none\"/>\n",
              "    <path d=\"M18.56 5.44l.94 2.06.94-2.06 2.06-.94-2.06-.94-.94-2.06-.94 2.06-2.06.94zm-11 1L8.5 8.5l.94-2.06 2.06-.94-2.06-.94L8.5 2.5l-.94 2.06-2.06.94zm10 10l.94 2.06.94-2.06 2.06-.94-2.06-.94-.94-2.06-.94 2.06-2.06.94z\"/><path d=\"M17.41 7.96l-1.37-1.37c-.4-.4-.92-.59-1.43-.59-.52 0-1.04.2-1.43.59L10.3 9.45l-7.72 7.72c-.78.78-.78 2.05 0 2.83L4 21.41c.39.39.9.59 1.41.59.51 0 1.02-.2 1.41-.59l7.78-7.78 2.81-2.81c.8-.78.8-2.07 0-2.86zM5.41 20L4 18.59l7.72-7.72 1.47 1.35L5.41 20z\"/>\n",
              "  </svg>\n",
              "      </button>\n",
              "      \n",
              "  <style>\n",
              "    .colab-df-container {\n",
              "      display:flex;\n",
              "      flex-wrap:wrap;\n",
              "      gap: 12px;\n",
              "    }\n",
              "\n",
              "    .colab-df-convert {\n",
              "      background-color: #E8F0FE;\n",
              "      border: none;\n",
              "      border-radius: 50%;\n",
              "      cursor: pointer;\n",
              "      display: none;\n",
              "      fill: #1967D2;\n",
              "      height: 32px;\n",
              "      padding: 0 0 0 0;\n",
              "      width: 32px;\n",
              "    }\n",
              "\n",
              "    .colab-df-convert:hover {\n",
              "      background-color: #E2EBFA;\n",
              "      box-shadow: 0px 1px 2px rgba(60, 64, 67, 0.3), 0px 1px 3px 1px rgba(60, 64, 67, 0.15);\n",
              "      fill: #174EA6;\n",
              "    }\n",
              "\n",
              "    [theme=dark] .colab-df-convert {\n",
              "      background-color: #3B4455;\n",
              "      fill: #D2E3FC;\n",
              "    }\n",
              "\n",
              "    [theme=dark] .colab-df-convert:hover {\n",
              "      background-color: #434B5C;\n",
              "      box-shadow: 0px 1px 3px 1px rgba(0, 0, 0, 0.15);\n",
              "      filter: drop-shadow(0px 1px 2px rgba(0, 0, 0, 0.3));\n",
              "      fill: #FFFFFF;\n",
              "    }\n",
              "  </style>\n",
              "\n",
              "      <script>\n",
              "        const buttonEl =\n",
              "          document.querySelector('#df-aa52bdf8-48ea-45bb-a3d9-5f95d57ee8a3 button.colab-df-convert');\n",
              "        buttonEl.style.display =\n",
              "          google.colab.kernel.accessAllowed ? 'block' : 'none';\n",
              "\n",
              "        async function convertToInteractive(key) {\n",
              "          const element = document.querySelector('#df-aa52bdf8-48ea-45bb-a3d9-5f95d57ee8a3');\n",
              "          const dataTable =\n",
              "            await google.colab.kernel.invokeFunction('convertToInteractive',\n",
              "                                                     [key], {});\n",
              "          if (!dataTable) return;\n",
              "\n",
              "          const docLinkHtml = 'Like what you see? Visit the ' +\n",
              "            '<a target=\"_blank\" href=https://colab.research.google.com/notebooks/data_table.ipynb>data table notebook</a>'\n",
              "            + ' to learn more about interactive tables.';\n",
              "          element.innerHTML = '';\n",
              "          dataTable['output_type'] = 'display_data';\n",
              "          await google.colab.output.renderOutput(dataTable, element);\n",
              "          const docLink = document.createElement('div');\n",
              "          docLink.innerHTML = docLinkHtml;\n",
              "          element.appendChild(docLink);\n",
              "        }\n",
              "      </script>\n",
              "    </div>\n",
              "  </div>\n",
              "  "
            ]
          },
          "metadata": {},
          "execution_count": 19
        }
      ]
    },
    {
      "cell_type": "markdown",
      "metadata": {
        "id": "y19W0gJeeG0C"
      },
      "source": [
        "***What is the email of the person with the following Credit Card Number: 4926535242672853***"
      ]
    },
    {
      "cell_type": "code",
      "metadata": {
        "jupyter": {
          "outputs_hidden": false
        },
        "id": "jaXPp3hteG0C",
        "colab": {
          "base_uri": "https://localhost:8080/",
          "height": 249
        },
        "outputId": "f2cf39cf-b63e-4fbd-8e92-09717f0d0a33"
      },
      "source": [
        "# bondellen@williams-garza.com\n",
        "\n",
        "ecom[ecom['Credit Card'] == 4926535242672853]\n"
      ],
      "execution_count": null,
      "outputs": [
        {
          "output_type": "execute_result",
          "data": {
            "text/plain": [
              "                                                Address    Lot AM or PM  \\\n",
              "1234  2470 Maria Manors Suite 185\\nJoneshaven, MN 87251  82 UX       PM   \n",
              "\n",
              "                                           Browser Info  \\\n",
              "1234  Mozilla/5.0 (X11; Linux x86_64; rv:1.9.5.20) G...   \n",
              "\n",
              "                    Company       Credit Card CC Exp Date  CC Security Code  \\\n",
              "1234  Cole, King and Bowers  4926535242672853       09/21               188   \n",
              "\n",
              "           CC Provider                         Email  \\\n",
              "1234  American Express  bondellen@williams-garza.com   \n",
              "\n",
              "                                    Job    IP Address Language  Purchase Price  \n",
              "1234  Planning and development surveyor  159.182.3.50       ru           77.88  "
            ],
            "text/html": [
              "\n",
              "  <div id=\"df-c42edc8a-a17e-4274-a616-bd7b01d37815\">\n",
              "    <div class=\"colab-df-container\">\n",
              "      <div>\n",
              "<style scoped>\n",
              "    .dataframe tbody tr th:only-of-type {\n",
              "        vertical-align: middle;\n",
              "    }\n",
              "\n",
              "    .dataframe tbody tr th {\n",
              "        vertical-align: top;\n",
              "    }\n",
              "\n",
              "    .dataframe thead th {\n",
              "        text-align: right;\n",
              "    }\n",
              "</style>\n",
              "<table border=\"1\" class=\"dataframe\">\n",
              "  <thead>\n",
              "    <tr style=\"text-align: right;\">\n",
              "      <th></th>\n",
              "      <th>Address</th>\n",
              "      <th>Lot</th>\n",
              "      <th>AM or PM</th>\n",
              "      <th>Browser Info</th>\n",
              "      <th>Company</th>\n",
              "      <th>Credit Card</th>\n",
              "      <th>CC Exp Date</th>\n",
              "      <th>CC Security Code</th>\n",
              "      <th>CC Provider</th>\n",
              "      <th>Email</th>\n",
              "      <th>Job</th>\n",
              "      <th>IP Address</th>\n",
              "      <th>Language</th>\n",
              "      <th>Purchase Price</th>\n",
              "    </tr>\n",
              "  </thead>\n",
              "  <tbody>\n",
              "    <tr>\n",
              "      <th>1234</th>\n",
              "      <td>2470 Maria Manors Suite 185\\nJoneshaven, MN 87251</td>\n",
              "      <td>82 UX</td>\n",
              "      <td>PM</td>\n",
              "      <td>Mozilla/5.0 (X11; Linux x86_64; rv:1.9.5.20) G...</td>\n",
              "      <td>Cole, King and Bowers</td>\n",
              "      <td>4926535242672853</td>\n",
              "      <td>09/21</td>\n",
              "      <td>188</td>\n",
              "      <td>American Express</td>\n",
              "      <td>bondellen@williams-garza.com</td>\n",
              "      <td>Planning and development surveyor</td>\n",
              "      <td>159.182.3.50</td>\n",
              "      <td>ru</td>\n",
              "      <td>77.88</td>\n",
              "    </tr>\n",
              "  </tbody>\n",
              "</table>\n",
              "</div>\n",
              "      <button class=\"colab-df-convert\" onclick=\"convertToInteractive('df-c42edc8a-a17e-4274-a616-bd7b01d37815')\"\n",
              "              title=\"Convert this dataframe to an interactive table.\"\n",
              "              style=\"display:none;\">\n",
              "        \n",
              "  <svg xmlns=\"http://www.w3.org/2000/svg\" height=\"24px\"viewBox=\"0 0 24 24\"\n",
              "       width=\"24px\">\n",
              "    <path d=\"M0 0h24v24H0V0z\" fill=\"none\"/>\n",
              "    <path d=\"M18.56 5.44l.94 2.06.94-2.06 2.06-.94-2.06-.94-.94-2.06-.94 2.06-2.06.94zm-11 1L8.5 8.5l.94-2.06 2.06-.94-2.06-.94L8.5 2.5l-.94 2.06-2.06.94zm10 10l.94 2.06.94-2.06 2.06-.94-2.06-.94-.94-2.06-.94 2.06-2.06.94z\"/><path d=\"M17.41 7.96l-1.37-1.37c-.4-.4-.92-.59-1.43-.59-.52 0-1.04.2-1.43.59L10.3 9.45l-7.72 7.72c-.78.78-.78 2.05 0 2.83L4 21.41c.39.39.9.59 1.41.59.51 0 1.02-.2 1.41-.59l7.78-7.78 2.81-2.81c.8-.78.8-2.07 0-2.86zM5.41 20L4 18.59l7.72-7.72 1.47 1.35L5.41 20z\"/>\n",
              "  </svg>\n",
              "      </button>\n",
              "      \n",
              "  <style>\n",
              "    .colab-df-container {\n",
              "      display:flex;\n",
              "      flex-wrap:wrap;\n",
              "      gap: 12px;\n",
              "    }\n",
              "\n",
              "    .colab-df-convert {\n",
              "      background-color: #E8F0FE;\n",
              "      border: none;\n",
              "      border-radius: 50%;\n",
              "      cursor: pointer;\n",
              "      display: none;\n",
              "      fill: #1967D2;\n",
              "      height: 32px;\n",
              "      padding: 0 0 0 0;\n",
              "      width: 32px;\n",
              "    }\n",
              "\n",
              "    .colab-df-convert:hover {\n",
              "      background-color: #E2EBFA;\n",
              "      box-shadow: 0px 1px 2px rgba(60, 64, 67, 0.3), 0px 1px 3px 1px rgba(60, 64, 67, 0.15);\n",
              "      fill: #174EA6;\n",
              "    }\n",
              "\n",
              "    [theme=dark] .colab-df-convert {\n",
              "      background-color: #3B4455;\n",
              "      fill: #D2E3FC;\n",
              "    }\n",
              "\n",
              "    [theme=dark] .colab-df-convert:hover {\n",
              "      background-color: #434B5C;\n",
              "      box-shadow: 0px 1px 3px 1px rgba(0, 0, 0, 0.15);\n",
              "      filter: drop-shadow(0px 1px 2px rgba(0, 0, 0, 0.3));\n",
              "      fill: #FFFFFF;\n",
              "    }\n",
              "  </style>\n",
              "\n",
              "      <script>\n",
              "        const buttonEl =\n",
              "          document.querySelector('#df-c42edc8a-a17e-4274-a616-bd7b01d37815 button.colab-df-convert');\n",
              "        buttonEl.style.display =\n",
              "          google.colab.kernel.accessAllowed ? 'block' : 'none';\n",
              "\n",
              "        async function convertToInteractive(key) {\n",
              "          const element = document.querySelector('#df-c42edc8a-a17e-4274-a616-bd7b01d37815');\n",
              "          const dataTable =\n",
              "            await google.colab.kernel.invokeFunction('convertToInteractive',\n",
              "                                                     [key], {});\n",
              "          if (!dataTable) return;\n",
              "\n",
              "          const docLinkHtml = 'Like what you see? Visit the ' +\n",
              "            '<a target=\"_blank\" href=https://colab.research.google.com/notebooks/data_table.ipynb>data table notebook</a>'\n",
              "            + ' to learn more about interactive tables.';\n",
              "          element.innerHTML = '';\n",
              "          dataTable['output_type'] = 'display_data';\n",
              "          await google.colab.output.renderOutput(dataTable, element);\n",
              "          const docLink = document.createElement('div');\n",
              "          docLink.innerHTML = docLinkHtml;\n",
              "          element.appendChild(docLink);\n",
              "        }\n",
              "      </script>\n",
              "    </div>\n",
              "  </div>\n",
              "  "
            ]
          },
          "metadata": {},
          "execution_count": 20
        }
      ]
    },
    {
      "cell_type": "markdown",
      "metadata": {
        "id": "tj7QNKYreG0C"
      },
      "source": [
        "***How many people have American Express as their Credit Card Provider and made a purchase above $95 ?***"
      ]
    },
    {
      "cell_type": "code",
      "metadata": {
        "jupyter": {
          "outputs_hidden": false
        },
        "id": "2MGRNzvDeG0C",
        "colab": {
          "base_uri": "https://localhost:8080/"
        },
        "outputId": "35139aee-0f0c-4b80-f239-42516e9f4ffe"
      },
      "source": [
        "# 39 with American Express made purchases over $95\n",
        "\n",
        "ecom[(ecom['CC Provider'] == 'American Express') & (ecom['Purchase Price'] > 95.00)]\n",
        "ecom[(ecom['CC Provider'] == 'American Express') & (ecom['Purchase Price'] > 95.00)].count()\n"
      ],
      "execution_count": null,
      "outputs": [
        {
          "output_type": "execute_result",
          "data": {
            "text/plain": [
              "Address             39\n",
              "Lot                 39\n",
              "AM or PM            39\n",
              "Browser Info        39\n",
              "Company             39\n",
              "Credit Card         39\n",
              "CC Exp Date         39\n",
              "CC Security Code    39\n",
              "CC Provider         39\n",
              "Email               39\n",
              "Job                 39\n",
              "IP Address          39\n",
              "Language            39\n",
              "Purchase Price      39\n",
              "dtype: int64"
            ]
          },
          "metadata": {},
          "execution_count": 21
        }
      ]
    },
    {
      "cell_type": "code",
      "metadata": {
        "id": "Y5QlaosK3aPQ",
        "colab": {
          "base_uri": "https://localhost:8080/"
        },
        "outputId": "61cca264-c889-4360-850d-0ecc6c2d1a1b"
      },
      "source": [
        "# with dups removed - 31 with American Express made purchases over $95\n",
        "ecom_dup[(ecom_dup['CC Provider'] == 'American Express') & (ecom_dup['Purchase Price'] > 95.00)].count()\n"
      ],
      "execution_count": null,
      "outputs": [
        {
          "output_type": "execute_result",
          "data": {
            "text/plain": [
              "Address             31\n",
              "Lot                 31\n",
              "AM or PM            31\n",
              "Browser Info        31\n",
              "Company             31\n",
              "Credit Card         31\n",
              "CC Exp Date         31\n",
              "CC Security Code    31\n",
              "CC Provider         31\n",
              "Email               31\n",
              "Job                 31\n",
              "IP Address          31\n",
              "Language            31\n",
              "Purchase Price      31\n",
              "dtype: int64"
            ]
          },
          "metadata": {},
          "execution_count": 26
        }
      ]
    },
    {
      "cell_type": "markdown",
      "metadata": {
        "id": "EwTzWNnMeG0D"
      },
      "source": [
        "***Hard: How many people have a credit card that expires in 2025?***"
      ]
    },
    {
      "cell_type": "code",
      "metadata": {
        "jupyter": {
          "outputs_hidden": false
        },
        "id": "2xKC2jr0eG0D",
        "colab": {
          "base_uri": "https://localhost:8080/"
        },
        "outputId": "6ef158bb-e191-4761-957f-ec90f4e2d835"
      },
      "source": [
        "# 1033 credit cards expire in 2025\n",
        "\n",
        "#ecom[ecom['CC Exp Date'].str.contains('01/25')]   #this works\n",
        "ecom[ecom['CC Exp Date'].str.contains('25')]       #this works\n",
        "ecom[ecom['CC Exp Date'].str.contains('25')].count()"
      ],
      "execution_count": null,
      "outputs": [
        {
          "output_type": "execute_result",
          "data": {
            "text/plain": [
              "Address             1033\n",
              "Lot                 1033\n",
              "AM or PM            1033\n",
              "Browser Info        1033\n",
              "Company             1033\n",
              "Credit Card         1033\n",
              "CC Exp Date         1033\n",
              "CC Security Code    1033\n",
              "CC Provider         1033\n",
              "Email               1033\n",
              "Job                 1033\n",
              "IP Address          1033\n",
              "Language            1033\n",
              "Purchase Price      1033\n",
              "dtype: int64"
            ]
          },
          "metadata": {},
          "execution_count": 22
        }
      ]
    },
    {
      "cell_type": "code",
      "source": [
        "# with dups people removed - 823 credit cards expire in 2025\n",
        "ecom_dup[ecom_dup['CC Exp Date'].str.contains('25')].count()"
      ],
      "metadata": {
        "colab": {
          "base_uri": "https://localhost:8080/"
        },
        "id": "nVNNmYlffDBT",
        "outputId": "bd50ad3f-1131-44e8-95f1-4cac76c595d3"
      },
      "execution_count": null,
      "outputs": [
        {
          "output_type": "execute_result",
          "data": {
            "text/plain": [
              "Address             823\n",
              "Lot                 823\n",
              "AM or PM            823\n",
              "Browser Info        823\n",
              "Company             823\n",
              "Credit Card         823\n",
              "CC Exp Date         823\n",
              "CC Security Code    823\n",
              "CC Provider         823\n",
              "Email               823\n",
              "Job                 823\n",
              "IP Address          823\n",
              "Language            823\n",
              "Purchase Price      823\n",
              "dtype: int64"
            ]
          },
          "metadata": {},
          "execution_count": 27
        }
      ]
    },
    {
      "cell_type": "code",
      "metadata": {
        "id": "L-k1JyjY4wtX"
      },
      "source": [
        ""
      ],
      "execution_count": null,
      "outputs": []
    },
    {
      "cell_type": "markdown",
      "metadata": {
        "id": "pz9cLaYeeG0D"
      },
      "source": [
        "***Hard: What are the top 5 most popular email providers/hosts (e.g. gmail.com, yahoo.com, etc...)***"
      ]
    },
    {
      "cell_type": "code",
      "source": [
        "#most popular = hotmail.com, gmail.com, yahoo.com, smith.com, williams.com\n",
        "\n",
        "ecom['domain'] = ecom['Email'].str.split('@').str[1]\n",
        "ecom['domain'].value_counts()\n"
      ],
      "metadata": {
        "colab": {
          "base_uri": "https://localhost:8080/"
        },
        "id": "3n07jWX5LKQo",
        "outputId": "5791e77e-fc87-45d9-dddf-c0e8f382aa28"
      },
      "execution_count": null,
      "outputs": [
        {
          "output_type": "execute_result",
          "data": {
            "text/plain": [
              "hotmail.com            1638\n",
              "yahoo.com              1616\n",
              "gmail.com              1605\n",
              "smith.com                42\n",
              "williams.com             37\n",
              "                       ... \n",
              "booker.com                1\n",
              "woods-allen.biz           1\n",
              "richards-wilson.com       1\n",
              "morris-thomas.com         1\n",
              "wade-garner.com           1\n",
              "Name: domain, Length: 3416, dtype: int64"
            ]
          },
          "metadata": {},
          "execution_count": 23
        }
      ]
    },
    {
      "cell_type": "code",
      "source": [
        "# with dups removed - same 5 but different ranking\n",
        "ecom_dup['domain'] = ecom_dup['Email'].str.split('@').str[1]\n",
        "ecom_dup['domain'].value_counts()"
      ],
      "metadata": {
        "id": "_huKvUklLKDV",
        "colab": {
          "base_uri": "https://localhost:8080/"
        },
        "outputId": "06b658d4-b9cd-4c7f-c831-c7eb9a7f4d0c"
      },
      "execution_count": null,
      "outputs": [
        {
          "output_type": "execute_result",
          "data": {
            "text/plain": [
              "hotmail.com             1281\n",
              "gmail.com               1280\n",
              "yahoo.com               1274\n",
              "smith.com                 31\n",
              "williams.com              28\n",
              "                        ... \n",
              "buchanan.net               1\n",
              "black-powell.com           1\n",
              "roberts-petersen.biz       1\n",
              "scott-reynolds.org         1\n",
              "wade-garner.com            1\n",
              "Name: domain, Length: 2834, dtype: int64"
            ]
          },
          "metadata": {},
          "execution_count": 28
        }
      ]
    },
    {
      "cell_type": "markdown",
      "metadata": {
        "id": "DRtAuFZZeG0D"
      },
      "source": [
        "# Great Job!"
      ]
    },
    {
      "cell_type": "code",
      "source": [
        ""
      ],
      "metadata": {
        "id": "ScUd5kjNN8jj"
      },
      "execution_count": null,
      "outputs": []
    }
  ]
}