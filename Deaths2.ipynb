{
  "nbformat": 4,
  "nbformat_minor": 0,
  "metadata": {
    "colab": {
      "name": "Deaths2.ipynb",
      "provenance": [],
      "collapsed_sections": [],
      "authorship_tag": "ABX9TyP5n0oXb9IHo0zOw72wCBTy",
      "include_colab_link": true
    },
    "kernelspec": {
      "name": "python3",
      "display_name": "Python 3"
    },
    "language_info": {
      "name": "python"
    }
  },
  "cells": [
    {
      "cell_type": "markdown",
      "metadata": {
        "id": "view-in-github",
        "colab_type": "text"
      },
      "source": [
        "<a href=\"https://colab.research.google.com/github/mili-b/PredictiveAnalytics/blob/main/Deaths2.ipynb\" target=\"_parent\"><img src=\"https://colab.research.google.com/assets/colab-badge.svg\" alt=\"Open In Colab\"/></a>"
      ]
    },
    {
      "cell_type": "markdown",
      "source": [
        "### predict whether a state will will be high (above US median death rate) or low risk (below US median death rate) based on number of deaths and disease types"
      ],
      "metadata": {
        "id": "TpoTNBwk1fLw"
      }
    },
    {
      "cell_type": "markdown",
      "source": [
        "## LIBRARIES"
      ],
      "metadata": {
        "id": "lfrgQL-6FDso"
      }
    },
    {
      "cell_type": "code",
      "execution_count": 1,
      "metadata": {
        "id": "689TNoZTE2ry"
      },
      "outputs": [],
      "source": [
        "import pandas as pd\n",
        "import numpy as np\n",
        "import matplotlib.pyplot as plt\n",
        "import seaborn as sns\n",
        "%matplotlib inline\n",
        "\n",
        "from scipy.stats.mstats import winsorize\n",
        "\n"
      ]
    },
    {
      "cell_type": "markdown",
      "source": [
        "## import and examine data"
      ],
      "metadata": {
        "id": "VWVf3wSFFeQL"
      }
    },
    {
      "cell_type": "code",
      "source": [
        "df = pd.read_csv('https://raw.githubusercontent.com/mili-b/Data/main/death.csv')"
      ],
      "metadata": {
        "id": "LaSN4B_sFLUz"
      },
      "execution_count": 2,
      "outputs": []
    },
    {
      "cell_type": "code",
      "source": [
        "df.shape"
      ],
      "metadata": {
        "colab": {
          "base_uri": "https://localhost:8080/"
        },
        "id": "iL_I0SncFLZG",
        "outputId": "9a9b14b9-adfb-42d2-c5a5-afb188899024"
      },
      "execution_count": 3,
      "outputs": [
        {
          "output_type": "execute_result",
          "data": {
            "text/plain": [
              "(10296, 6)"
            ]
          },
          "metadata": {},
          "execution_count": 3
        }
      ]
    },
    {
      "cell_type": "code",
      "source": [
        "df.head()"
      ],
      "metadata": {
        "colab": {
          "base_uri": "https://localhost:8080/",
          "height": 206
        },
        "id": "zynMSmjiFLdL",
        "outputId": "6d9157db-e329-48c8-cfe7-175b1b35f527"
      },
      "execution_count": 4,
      "outputs": [
        {
          "output_type": "execute_result",
          "data": {
            "text/plain": [
              "   Year                                     113 Cause Name      Cause Name  \\\n",
              "0  2012  Nephritis, nephrotic syndrome and nephrosis (N...  Kidney disease   \n",
              "1  2016  Nephritis, nephrotic syndrome and nephrosis (N...  Kidney disease   \n",
              "2  2013  Nephritis, nephrotic syndrome and nephrosis (N...  Kidney disease   \n",
              "3  2000  Intentional self-harm (suicide) (*U03,X60-X84,...         Suicide   \n",
              "4  2014  Nephritis, nephrotic syndrome and nephrosis (N...  Kidney disease   \n",
              "\n",
              "                  State  Deaths  Age-adjusted Death Rate  \n",
              "0               Vermont      21                      2.6  \n",
              "1               Vermont      30                      3.7  \n",
              "2               Vermont      30                      3.8  \n",
              "3  District of Columbia      23                      3.8  \n",
              "4               Arizona     325                      4.1  "
            ],
            "text/html": [
              "\n",
              "  <div id=\"df-8a28a662-2785-440e-a34c-fb229c1a16f1\">\n",
              "    <div class=\"colab-df-container\">\n",
              "      <div>\n",
              "<style scoped>\n",
              "    .dataframe tbody tr th:only-of-type {\n",
              "        vertical-align: middle;\n",
              "    }\n",
              "\n",
              "    .dataframe tbody tr th {\n",
              "        vertical-align: top;\n",
              "    }\n",
              "\n",
              "    .dataframe thead th {\n",
              "        text-align: right;\n",
              "    }\n",
              "</style>\n",
              "<table border=\"1\" class=\"dataframe\">\n",
              "  <thead>\n",
              "    <tr style=\"text-align: right;\">\n",
              "      <th></th>\n",
              "      <th>Year</th>\n",
              "      <th>113 Cause Name</th>\n",
              "      <th>Cause Name</th>\n",
              "      <th>State</th>\n",
              "      <th>Deaths</th>\n",
              "      <th>Age-adjusted Death Rate</th>\n",
              "    </tr>\n",
              "  </thead>\n",
              "  <tbody>\n",
              "    <tr>\n",
              "      <th>0</th>\n",
              "      <td>2012</td>\n",
              "      <td>Nephritis, nephrotic syndrome and nephrosis (N...</td>\n",
              "      <td>Kidney disease</td>\n",
              "      <td>Vermont</td>\n",
              "      <td>21</td>\n",
              "      <td>2.6</td>\n",
              "    </tr>\n",
              "    <tr>\n",
              "      <th>1</th>\n",
              "      <td>2016</td>\n",
              "      <td>Nephritis, nephrotic syndrome and nephrosis (N...</td>\n",
              "      <td>Kidney disease</td>\n",
              "      <td>Vermont</td>\n",
              "      <td>30</td>\n",
              "      <td>3.7</td>\n",
              "    </tr>\n",
              "    <tr>\n",
              "      <th>2</th>\n",
              "      <td>2013</td>\n",
              "      <td>Nephritis, nephrotic syndrome and nephrosis (N...</td>\n",
              "      <td>Kidney disease</td>\n",
              "      <td>Vermont</td>\n",
              "      <td>30</td>\n",
              "      <td>3.8</td>\n",
              "    </tr>\n",
              "    <tr>\n",
              "      <th>3</th>\n",
              "      <td>2000</td>\n",
              "      <td>Intentional self-harm (suicide) (*U03,X60-X84,...</td>\n",
              "      <td>Suicide</td>\n",
              "      <td>District of Columbia</td>\n",
              "      <td>23</td>\n",
              "      <td>3.8</td>\n",
              "    </tr>\n",
              "    <tr>\n",
              "      <th>4</th>\n",
              "      <td>2014</td>\n",
              "      <td>Nephritis, nephrotic syndrome and nephrosis (N...</td>\n",
              "      <td>Kidney disease</td>\n",
              "      <td>Arizona</td>\n",
              "      <td>325</td>\n",
              "      <td>4.1</td>\n",
              "    </tr>\n",
              "  </tbody>\n",
              "</table>\n",
              "</div>\n",
              "      <button class=\"colab-df-convert\" onclick=\"convertToInteractive('df-8a28a662-2785-440e-a34c-fb229c1a16f1')\"\n",
              "              title=\"Convert this dataframe to an interactive table.\"\n",
              "              style=\"display:none;\">\n",
              "        \n",
              "  <svg xmlns=\"http://www.w3.org/2000/svg\" height=\"24px\"viewBox=\"0 0 24 24\"\n",
              "       width=\"24px\">\n",
              "    <path d=\"M0 0h24v24H0V0z\" fill=\"none\"/>\n",
              "    <path d=\"M18.56 5.44l.94 2.06.94-2.06 2.06-.94-2.06-.94-.94-2.06-.94 2.06-2.06.94zm-11 1L8.5 8.5l.94-2.06 2.06-.94-2.06-.94L8.5 2.5l-.94 2.06-2.06.94zm10 10l.94 2.06.94-2.06 2.06-.94-2.06-.94-.94-2.06-.94 2.06-2.06.94z\"/><path d=\"M17.41 7.96l-1.37-1.37c-.4-.4-.92-.59-1.43-.59-.52 0-1.04.2-1.43.59L10.3 9.45l-7.72 7.72c-.78.78-.78 2.05 0 2.83L4 21.41c.39.39.9.59 1.41.59.51 0 1.02-.2 1.41-.59l7.78-7.78 2.81-2.81c.8-.78.8-2.07 0-2.86zM5.41 20L4 18.59l7.72-7.72 1.47 1.35L5.41 20z\"/>\n",
              "  </svg>\n",
              "      </button>\n",
              "      \n",
              "  <style>\n",
              "    .colab-df-container {\n",
              "      display:flex;\n",
              "      flex-wrap:wrap;\n",
              "      gap: 12px;\n",
              "    }\n",
              "\n",
              "    .colab-df-convert {\n",
              "      background-color: #E8F0FE;\n",
              "      border: none;\n",
              "      border-radius: 50%;\n",
              "      cursor: pointer;\n",
              "      display: none;\n",
              "      fill: #1967D2;\n",
              "      height: 32px;\n",
              "      padding: 0 0 0 0;\n",
              "      width: 32px;\n",
              "    }\n",
              "\n",
              "    .colab-df-convert:hover {\n",
              "      background-color: #E2EBFA;\n",
              "      box-shadow: 0px 1px 2px rgba(60, 64, 67, 0.3), 0px 1px 3px 1px rgba(60, 64, 67, 0.15);\n",
              "      fill: #174EA6;\n",
              "    }\n",
              "\n",
              "    [theme=dark] .colab-df-convert {\n",
              "      background-color: #3B4455;\n",
              "      fill: #D2E3FC;\n",
              "    }\n",
              "\n",
              "    [theme=dark] .colab-df-convert:hover {\n",
              "      background-color: #434B5C;\n",
              "      box-shadow: 0px 1px 3px 1px rgba(0, 0, 0, 0.15);\n",
              "      filter: drop-shadow(0px 1px 2px rgba(0, 0, 0, 0.3));\n",
              "      fill: #FFFFFF;\n",
              "    }\n",
              "  </style>\n",
              "\n",
              "      <script>\n",
              "        const buttonEl =\n",
              "          document.querySelector('#df-8a28a662-2785-440e-a34c-fb229c1a16f1 button.colab-df-convert');\n",
              "        buttonEl.style.display =\n",
              "          google.colab.kernel.accessAllowed ? 'block' : 'none';\n",
              "\n",
              "        async function convertToInteractive(key) {\n",
              "          const element = document.querySelector('#df-8a28a662-2785-440e-a34c-fb229c1a16f1');\n",
              "          const dataTable =\n",
              "            await google.colab.kernel.invokeFunction('convertToInteractive',\n",
              "                                                     [key], {});\n",
              "          if (!dataTable) return;\n",
              "\n",
              "          const docLinkHtml = 'Like what you see? Visit the ' +\n",
              "            '<a target=\"_blank\" href=https://colab.research.google.com/notebooks/data_table.ipynb>data table notebook</a>'\n",
              "            + ' to learn more about interactive tables.';\n",
              "          element.innerHTML = '';\n",
              "          dataTable['output_type'] = 'display_data';\n",
              "          await google.colab.output.renderOutput(dataTable, element);\n",
              "          const docLink = document.createElement('div');\n",
              "          docLink.innerHTML = docLinkHtml;\n",
              "          element.appendChild(docLink);\n",
              "        }\n",
              "      </script>\n",
              "    </div>\n",
              "  </div>\n",
              "  "
            ]
          },
          "metadata": {},
          "execution_count": 4
        }
      ]
    },
    {
      "cell_type": "code",
      "source": [
        "df.info()"
      ],
      "metadata": {
        "colab": {
          "base_uri": "https://localhost:8080/"
        },
        "id": "Aba_jGAtFLhE",
        "outputId": "ead9a103-6e11-4697-eb46-5af012562e6f"
      },
      "execution_count": 5,
      "outputs": [
        {
          "output_type": "stream",
          "name": "stdout",
          "text": [
            "<class 'pandas.core.frame.DataFrame'>\n",
            "RangeIndex: 10296 entries, 0 to 10295\n",
            "Data columns (total 6 columns):\n",
            " #   Column                   Non-Null Count  Dtype  \n",
            "---  ------                   --------------  -----  \n",
            " 0   Year                     10296 non-null  int64  \n",
            " 1   113 Cause Name           10296 non-null  object \n",
            " 2   Cause Name               10296 non-null  object \n",
            " 3   State                    10296 non-null  object \n",
            " 4   Deaths                   10296 non-null  int64  \n",
            " 5   Age-adjusted Death Rate  10296 non-null  float64\n",
            "dtypes: float64(1), int64(2), object(3)\n",
            "memory usage: 482.8+ KB\n"
          ]
        }
      ]
    },
    {
      "cell_type": "code",
      "source": [
        "# 11 causes\n",
        "df['113 Cause Name'].nunique()"
      ],
      "metadata": {
        "colab": {
          "base_uri": "https://localhost:8080/"
        },
        "id": "yJzFsUMTFLk9",
        "outputId": "448c3f27-5523-4cb5-8003-027a0abb0604"
      },
      "execution_count": 6,
      "outputs": [
        {
          "output_type": "execute_result",
          "data": {
            "text/plain": [
              "11"
            ]
          },
          "metadata": {},
          "execution_count": 6
        }
      ]
    },
    {
      "cell_type": "code",
      "source": [
        "df['113 Cause Name'].unique()"
      ],
      "metadata": {
        "colab": {
          "base_uri": "https://localhost:8080/"
        },
        "id": "rM7qIZtUFLov",
        "outputId": "134f6559-473c-49e7-db1c-77630ade9709"
      },
      "execution_count": 7,
      "outputs": [
        {
          "output_type": "execute_result",
          "data": {
            "text/plain": [
              "array(['Nephritis, nephrotic syndrome and nephrosis (N00-N07,N17-N19,N25-N27)',\n",
              "       'Intentional self-harm (suicide) (*U03,X60-X84,Y87.0)',\n",
              "       \"Alzheimer's disease (G30)\", 'Influenza and pneumonia (J09-J18)',\n",
              "       'Diabetes mellitus (E10-E14)',\n",
              "       'Chronic lower respiratory diseases (J40-J47)',\n",
              "       'Accidents (unintentional injuries) (V01-X59,Y85-Y86)',\n",
              "       'Cerebrovascular diseases (I60-I69)',\n",
              "       'Diseases of heart (I00-I09,I11,I13,I20-I51)',\n",
              "       'Malignant neoplasms (C00-C97)', 'All Causes'], dtype=object)"
            ]
          },
          "metadata": {},
          "execution_count": 7
        }
      ]
    },
    {
      "cell_type": "code",
      "source": [
        "# 'cause name' appears to be a shortened version of '113 Cause Name'\n",
        "\n",
        "df['Cause Name'].unique()"
      ],
      "metadata": {
        "colab": {
          "base_uri": "https://localhost:8080/"
        },
        "id": "Fc4UPkTOFLs6",
        "outputId": "dc0d7f44-8c63-4a1d-d360-e6fbc8ef8929"
      },
      "execution_count": 8,
      "outputs": [
        {
          "output_type": "execute_result",
          "data": {
            "text/plain": [
              "array(['Kidney disease', 'Suicide', \"Alzheimer's disease\",\n",
              "       'Influenza and pneumonia', 'Diabetes', 'CLRD',\n",
              "       'Unintentional injuries', 'Stroke', 'Heart disease', 'Cancer',\n",
              "       'All causes'], dtype=object)"
            ]
          },
          "metadata": {},
          "execution_count": 8
        }
      ]
    },
    {
      "cell_type": "code",
      "source": [
        "df['Cause Name'].nunique()"
      ],
      "metadata": {
        "colab": {
          "base_uri": "https://localhost:8080/"
        },
        "id": "noDzC9RQFLwa",
        "outputId": "18a5dad9-ec16-4785-dd47-0a9de1eb5f38"
      },
      "execution_count": 9,
      "outputs": [
        {
          "output_type": "execute_result",
          "data": {
            "text/plain": [
              "11"
            ]
          },
          "metadata": {},
          "execution_count": 9
        }
      ]
    },
    {
      "cell_type": "code",
      "source": [
        "# covers the period 1999-2016 = 18 years\n",
        "df['Year'].unique()"
      ],
      "metadata": {
        "colab": {
          "base_uri": "https://localhost:8080/"
        },
        "id": "MsKJ0SWRFL0m",
        "outputId": "6012a249-1d96-4526-e00a-897538561f6d"
      },
      "execution_count": 10,
      "outputs": [
        {
          "output_type": "execute_result",
          "data": {
            "text/plain": [
              "array([2012, 2016, 2013, 2000, 2014, 2009, 2011, 2015, 2001, 1999, 2006,\n",
              "       2002, 2003, 2008, 2005, 2004, 2007, 2010])"
            ]
          },
          "metadata": {},
          "execution_count": 10
        }
      ]
    },
    {
      "cell_type": "code",
      "source": [
        "df['Year'].nunique()"
      ],
      "metadata": {
        "colab": {
          "base_uri": "https://localhost:8080/"
        },
        "id": "rR_Y8outFL4O",
        "outputId": "1d589066-e7db-4c2d-9a2f-629758f53297"
      },
      "execution_count": 11,
      "outputs": [
        {
          "output_type": "execute_result",
          "data": {
            "text/plain": [
              "18"
            ]
          },
          "metadata": {},
          "execution_count": 11
        }
      ]
    },
    {
      "cell_type": "code",
      "source": [
        "# data for 51 states (including District of Columbia) and US overall\n",
        "\n",
        "df['State'].nunique()"
      ],
      "metadata": {
        "colab": {
          "base_uri": "https://localhost:8080/"
        },
        "id": "MyAV1VWqFL8H",
        "outputId": "a7c7720c-96ad-4804-fc61-3f84dc50d6b1"
      },
      "execution_count": 12,
      "outputs": [
        {
          "output_type": "execute_result",
          "data": {
            "text/plain": [
              "52"
            ]
          },
          "metadata": {},
          "execution_count": 12
        }
      ]
    },
    {
      "cell_type": "code",
      "source": [
        "df['State'].unique()"
      ],
      "metadata": {
        "colab": {
          "base_uri": "https://localhost:8080/"
        },
        "id": "FVnYNd4tFMAU",
        "outputId": "b2f403ba-dfae-4704-ab3d-d79b778c329e"
      },
      "execution_count": 13,
      "outputs": [
        {
          "output_type": "execute_result",
          "data": {
            "text/plain": [
              "array(['Vermont', 'District of Columbia', 'Arizona', 'South Dakota',\n",
              "       'Washington', 'Iowa', 'New York', 'Massachusetts', 'New Jersey',\n",
              "       'California', 'North Dakota', 'Rhode Island', 'Alaska', 'Oregon',\n",
              "       'Wyoming', 'Idaho', 'Connecticut', 'Minnesota', 'Illinois',\n",
              "       'Montana', 'New Hampshire', 'Hawaii', 'Maryland', 'Florida',\n",
              "       'Colorado', 'Nevada', 'Utah', 'Delaware', 'New Mexico', 'Nebraska',\n",
              "       'Ohio', 'Michigan', 'Maine', 'Tennessee', 'Pennsylvania', 'Texas',\n",
              "       'Georgia', 'Louisiana', 'Indiana', 'United States', 'Mississippi',\n",
              "       'South Carolina', 'Virginia', 'Kansas', 'Wisconsin',\n",
              "       'North Carolina', 'Alabama', 'Kentucky', 'Missouri', 'Oklahoma',\n",
              "       'West Virginia', 'Arkansas'], dtype=object)"
            ]
          },
          "metadata": {},
          "execution_count": 13
        }
      ]
    },
    {
      "cell_type": "markdown",
      "source": [
        "# DATA MANIPULATION/TRANSFORMATION"
      ],
      "metadata": {
        "id": "fzfcnvd-HH2I"
      }
    },
    {
      "cell_type": "markdown",
      "source": [
        "#### **Outliers**"
      ],
      "metadata": {
        "id": "btckj7ogYOan"
      }
    },
    {
      "cell_type": "code",
      "source": [
        "df.describe()"
      ],
      "metadata": {
        "colab": {
          "base_uri": "https://localhost:8080/",
          "height": 300
        },
        "id": "M0oj4WFDXoAa",
        "outputId": "8b20ffa1-350d-492e-a919-6a1d2778822b"
      },
      "execution_count": 14,
      "outputs": [
        {
          "output_type": "execute_result",
          "data": {
            "text/plain": [
              "               Year        Deaths  Age-adjusted Death Rate\n",
              "count  10296.000000  1.029600e+04             10296.000000\n",
              "mean    2007.500000  1.536793e+04               128.037383\n",
              "std        5.188379  1.121457e+05               224.381865\n",
              "min     1999.000000  2.100000e+01                 2.600000\n",
              "25%     2003.000000  6.060000e+02                19.200000\n",
              "50%     2007.500000  1.704500e+03                35.800000\n",
              "75%     2012.000000  5.678000e+03               153.025000\n",
              "max     2016.000000  2.744248e+06              1087.300000"
            ],
            "text/html": [
              "\n",
              "  <div id=\"df-a9ea68f5-b23c-4d56-b918-290d4611d4e9\">\n",
              "    <div class=\"colab-df-container\">\n",
              "      <div>\n",
              "<style scoped>\n",
              "    .dataframe tbody tr th:only-of-type {\n",
              "        vertical-align: middle;\n",
              "    }\n",
              "\n",
              "    .dataframe tbody tr th {\n",
              "        vertical-align: top;\n",
              "    }\n",
              "\n",
              "    .dataframe thead th {\n",
              "        text-align: right;\n",
              "    }\n",
              "</style>\n",
              "<table border=\"1\" class=\"dataframe\">\n",
              "  <thead>\n",
              "    <tr style=\"text-align: right;\">\n",
              "      <th></th>\n",
              "      <th>Year</th>\n",
              "      <th>Deaths</th>\n",
              "      <th>Age-adjusted Death Rate</th>\n",
              "    </tr>\n",
              "  </thead>\n",
              "  <tbody>\n",
              "    <tr>\n",
              "      <th>count</th>\n",
              "      <td>10296.000000</td>\n",
              "      <td>1.029600e+04</td>\n",
              "      <td>10296.000000</td>\n",
              "    </tr>\n",
              "    <tr>\n",
              "      <th>mean</th>\n",
              "      <td>2007.500000</td>\n",
              "      <td>1.536793e+04</td>\n",
              "      <td>128.037383</td>\n",
              "    </tr>\n",
              "    <tr>\n",
              "      <th>std</th>\n",
              "      <td>5.188379</td>\n",
              "      <td>1.121457e+05</td>\n",
              "      <td>224.381865</td>\n",
              "    </tr>\n",
              "    <tr>\n",
              "      <th>min</th>\n",
              "      <td>1999.000000</td>\n",
              "      <td>2.100000e+01</td>\n",
              "      <td>2.600000</td>\n",
              "    </tr>\n",
              "    <tr>\n",
              "      <th>25%</th>\n",
              "      <td>2003.000000</td>\n",
              "      <td>6.060000e+02</td>\n",
              "      <td>19.200000</td>\n",
              "    </tr>\n",
              "    <tr>\n",
              "      <th>50%</th>\n",
              "      <td>2007.500000</td>\n",
              "      <td>1.704500e+03</td>\n",
              "      <td>35.800000</td>\n",
              "    </tr>\n",
              "    <tr>\n",
              "      <th>75%</th>\n",
              "      <td>2012.000000</td>\n",
              "      <td>5.678000e+03</td>\n",
              "      <td>153.025000</td>\n",
              "    </tr>\n",
              "    <tr>\n",
              "      <th>max</th>\n",
              "      <td>2016.000000</td>\n",
              "      <td>2.744248e+06</td>\n",
              "      <td>1087.300000</td>\n",
              "    </tr>\n",
              "  </tbody>\n",
              "</table>\n",
              "</div>\n",
              "      <button class=\"colab-df-convert\" onclick=\"convertToInteractive('df-a9ea68f5-b23c-4d56-b918-290d4611d4e9')\"\n",
              "              title=\"Convert this dataframe to an interactive table.\"\n",
              "              style=\"display:none;\">\n",
              "        \n",
              "  <svg xmlns=\"http://www.w3.org/2000/svg\" height=\"24px\"viewBox=\"0 0 24 24\"\n",
              "       width=\"24px\">\n",
              "    <path d=\"M0 0h24v24H0V0z\" fill=\"none\"/>\n",
              "    <path d=\"M18.56 5.44l.94 2.06.94-2.06 2.06-.94-2.06-.94-.94-2.06-.94 2.06-2.06.94zm-11 1L8.5 8.5l.94-2.06 2.06-.94-2.06-.94L8.5 2.5l-.94 2.06-2.06.94zm10 10l.94 2.06.94-2.06 2.06-.94-2.06-.94-.94-2.06-.94 2.06-2.06.94z\"/><path d=\"M17.41 7.96l-1.37-1.37c-.4-.4-.92-.59-1.43-.59-.52 0-1.04.2-1.43.59L10.3 9.45l-7.72 7.72c-.78.78-.78 2.05 0 2.83L4 21.41c.39.39.9.59 1.41.59.51 0 1.02-.2 1.41-.59l7.78-7.78 2.81-2.81c.8-.78.8-2.07 0-2.86zM5.41 20L4 18.59l7.72-7.72 1.47 1.35L5.41 20z\"/>\n",
              "  </svg>\n",
              "      </button>\n",
              "      \n",
              "  <style>\n",
              "    .colab-df-container {\n",
              "      display:flex;\n",
              "      flex-wrap:wrap;\n",
              "      gap: 12px;\n",
              "    }\n",
              "\n",
              "    .colab-df-convert {\n",
              "      background-color: #E8F0FE;\n",
              "      border: none;\n",
              "      border-radius: 50%;\n",
              "      cursor: pointer;\n",
              "      display: none;\n",
              "      fill: #1967D2;\n",
              "      height: 32px;\n",
              "      padding: 0 0 0 0;\n",
              "      width: 32px;\n",
              "    }\n",
              "\n",
              "    .colab-df-convert:hover {\n",
              "      background-color: #E2EBFA;\n",
              "      box-shadow: 0px 1px 2px rgba(60, 64, 67, 0.3), 0px 1px 3px 1px rgba(60, 64, 67, 0.15);\n",
              "      fill: #174EA6;\n",
              "    }\n",
              "\n",
              "    [theme=dark] .colab-df-convert {\n",
              "      background-color: #3B4455;\n",
              "      fill: #D2E3FC;\n",
              "    }\n",
              "\n",
              "    [theme=dark] .colab-df-convert:hover {\n",
              "      background-color: #434B5C;\n",
              "      box-shadow: 0px 1px 3px 1px rgba(0, 0, 0, 0.15);\n",
              "      filter: drop-shadow(0px 1px 2px rgba(0, 0, 0, 0.3));\n",
              "      fill: #FFFFFF;\n",
              "    }\n",
              "  </style>\n",
              "\n",
              "      <script>\n",
              "        const buttonEl =\n",
              "          document.querySelector('#df-a9ea68f5-b23c-4d56-b918-290d4611d4e9 button.colab-df-convert');\n",
              "        buttonEl.style.display =\n",
              "          google.colab.kernel.accessAllowed ? 'block' : 'none';\n",
              "\n",
              "        async function convertToInteractive(key) {\n",
              "          const element = document.querySelector('#df-a9ea68f5-b23c-4d56-b918-290d4611d4e9');\n",
              "          const dataTable =\n",
              "            await google.colab.kernel.invokeFunction('convertToInteractive',\n",
              "                                                     [key], {});\n",
              "          if (!dataTable) return;\n",
              "\n",
              "          const docLinkHtml = 'Like what you see? Visit the ' +\n",
              "            '<a target=\"_blank\" href=https://colab.research.google.com/notebooks/data_table.ipynb>data table notebook</a>'\n",
              "            + ' to learn more about interactive tables.';\n",
              "          element.innerHTML = '';\n",
              "          dataTable['output_type'] = 'display_data';\n",
              "          await google.colab.output.renderOutput(dataTable, element);\n",
              "          const docLink = document.createElement('div');\n",
              "          docLink.innerHTML = docLinkHtml;\n",
              "          element.appendChild(docLink);\n",
              "        }\n",
              "      </script>\n",
              "    </div>\n",
              "  </div>\n",
              "  "
            ]
          },
          "metadata": {},
          "execution_count": 14
        }
      ]
    },
    {
      "cell_type": "code",
      "source": [
        "df.hist(bins=20, figsize=(11,6))"
      ],
      "metadata": {
        "colab": {
          "base_uri": "https://localhost:8080/",
          "height": 480
        },
        "id": "tF8wVT5_XnzI",
        "outputId": "277cbaed-2b8f-4fde-dbb6-4e5c7f212c1a"
      },
      "execution_count": 15,
      "outputs": [
        {
          "output_type": "execute_result",
          "data": {
            "text/plain": [
              "array([[<matplotlib.axes._subplots.AxesSubplot object at 0x7f46c268fa50>,\n",
              "        <matplotlib.axes._subplots.AxesSubplot object at 0x7f46c2660a10>],\n",
              "       [<matplotlib.axes._subplots.AxesSubplot object at 0x7f46c262f4d0>,\n",
              "        <matplotlib.axes._subplots.AxesSubplot object at 0x7f46c25cb610>]],\n",
              "      dtype=object)"
            ]
          },
          "metadata": {},
          "execution_count": 15
        },
        {
          "output_type": "display_data",
          "data": {
            "text/plain": [
              "<Figure size 792x432 with 4 Axes>"
            ],
            "image/png": "[encoded data removed]"
          },
          "metadata": {
            "needs_background": "light"
          }
        }
      ]
    },
    {
      "cell_type": "code",
      "source": [
        "plt.figure(figsize=(11,5))\n",
        "boxplot = df.boxplot(column=['Deaths'])"
      ],
      "metadata": {
        "colab": {
          "base_uri": "https://localhost:8080/",
          "height": 331
        },
        "id": "25C_qqoxYfhQ",
        "outputId": "42ea5d09-003c-4114-f96b-faf66bf016f7"
      },
      "execution_count": 16,
      "outputs": [
        {
          "output_type": "display_data",
          "data": {
            "text/plain": [
              "<Figure size 792x360 with 1 Axes>"
            ],
            "image/png": "[encoded data removed]"
          },
          "metadata": {
            "needs_background": "light"
          }
        }
      ]
    },
    {
      "cell_type": "code",
      "source": [
        "plt.figure(figsize=(11,5))\n",
        "boxplot = df.boxplot(column=['Age-adjusted Death Rate'])"
      ],
      "metadata": {
        "colab": {
          "base_uri": "https://localhost:8080/",
          "height": 320
        },
        "id": "q81OHjwnYflY",
        "outputId": "522610b2-19c6-467a-b134-8c8bc681768a"
      },
      "execution_count": 17,
      "outputs": [
        {
          "output_type": "display_data",
          "data": {
            "text/plain": [
              "<Figure size 792x360 with 1 Axes>"
            ],
            "image/png": "[encoded data removed]"
          },
          "metadata": {
            "needs_background": "light"
          }
        }
      ]
    },
    {
      "cell_type": "markdown",
      "source": [
        "based on histograms and boxplots, 'Deaths' and 'Age-adjusted Death Rate' are right skewed with outliers.\n",
        "\n",
        "we can use Winsorize to address outliers"
      ],
      "metadata": {
        "id": "W5DyDl1VaLhC"
      }
    },
    {
      "cell_type": "code",
      "source": [
        "from scipy.stats.mstats import winsorize"
      ],
      "metadata": {
        "id": "myTlldQLYfpw"
      },
      "execution_count": 18,
      "outputs": []
    },
    {
      "cell_type": "code",
      "source": [
        "# CREATE NEW COLUMNS 'W_Deaths', and 'W_Age Adjusted Death Rate' to address outliers\n",
        "\n",
        "\n",
        "df['W_Deaths'] = winsorize(df['Deaths'],(0, 0.15))\n",
        "  \n",
        "plt.boxplot(df['W_Deaths'])\n",
        "plt.title(\"Winsorized Deaths\")\n",
        "plt.show()"
      ],
      "metadata": {
        "colab": {
          "base_uri": "https://localhost:8080/",
          "height": 281
        },
        "id": "z2QQnF2nYfuB",
        "outputId": "62d0ea64-b367-4d43-fa42-57c4f8492f06"
      },
      "execution_count": 19,
      "outputs": [
        {
          "output_type": "display_data",
          "data": {
            "text/plain": [
              "<Figure size 432x288 with 1 Axes>"
            ],
            "image/png": "[encoded data removed]"
          },
          "metadata": {
            "needs_background": "light"
          }
        }
      ]
    },
    {
      "cell_type": "code",
      "source": [
        "df['W_Age Adjusted Death Rate'] = winsorize(df['Age-adjusted Death Rate'],(0, 0.10))\n",
        "plt.boxplot(df['W_Age Adjusted Death Rate'])\n",
        "plt.title(\"Winsorized Age-adjustedDeath Rate\")\n",
        "plt.show()"
      ],
      "metadata": {
        "colab": {
          "base_uri": "https://localhost:8080/",
          "height": 281
        },
        "id": "IpZ2bXgUYfx6",
        "outputId": "6a0d2191-5172-43e0-e398-5f325186375b"
      },
      "execution_count": 20,
      "outputs": [
        {
          "output_type": "display_data",
          "data": {
            "text/plain": [
              "<Figure size 432x288 with 1 Axes>"
            ],
            "image/png": "[encoded data removed]"
          },
          "metadata": {
            "needs_background": "light"
          }
        }
      ]
    },
    {
      "cell_type": "code",
      "source": [
        "df.columns"
      ],
      "metadata": {
        "colab": {
          "base_uri": "https://localhost:8080/"
        },
        "id": "ZeHqWsEcZJXZ",
        "outputId": "97682e35-a837-4021-fcb9-882fed63b2b8"
      },
      "execution_count": 21,
      "outputs": [
        {
          "output_type": "execute_result",
          "data": {
            "text/plain": [
              "Index(['Year', '113 Cause Name', 'Cause Name', 'State', 'Deaths',\n",
              "       'Age-adjusted Death Rate', 'W_Deaths', 'W_Age Adjusted Death Rate'],\n",
              "      dtype='object')"
            ]
          },
          "metadata": {},
          "execution_count": 21
        }
      ]
    },
    {
      "cell_type": "code",
      "source": [
        "df.head(3)"
      ],
      "metadata": {
        "colab": {
          "base_uri": "https://localhost:8080/",
          "height": 257
        },
        "id": "OxUveMFKZJbg",
        "outputId": "df9a09c3-57e6-40a8-c9da-d7b4849efbce"
      },
      "execution_count": 22,
      "outputs": [
        {
          "output_type": "execute_result",
          "data": {
            "text/plain": [
              "   Year                                     113 Cause Name      Cause Name  \\\n",
              "0  2012  Nephritis, nephrotic syndrome and nephrosis (N...  Kidney disease   \n",
              "1  2016  Nephritis, nephrotic syndrome and nephrosis (N...  Kidney disease   \n",
              "2  2013  Nephritis, nephrotic syndrome and nephrosis (N...  Kidney disease   \n",
              "\n",
              "     State  Deaths  Age-adjusted Death Rate  W_Deaths  \\\n",
              "0  Vermont      21                      2.6        21   \n",
              "1  Vermont      30                      3.7        30   \n",
              "2  Vermont      30                      3.8        30   \n",
              "\n",
              "   W_Age Adjusted Death Rate  \n",
              "0                        2.6  \n",
              "1                        3.7  \n",
              "2                        3.8  "
            ],
            "text/html": [
              "\n",
              "  <div id=\"df-1d683261-47bf-4640-acb5-3cd1ab440d23\">\n",
              "    <div class=\"colab-df-container\">\n",
              "      <div>\n",
              "<style scoped>\n",
              "    .dataframe tbody tr th:only-of-type {\n",
              "        vertical-align: middle;\n",
              "    }\n",
              "\n",
              "    .dataframe tbody tr th {\n",
              "        vertical-align: top;\n",
              "    }\n",
              "\n",
              "    .dataframe thead th {\n",
              "        text-align: right;\n",
              "    }\n",
              "</style>\n",
              "<table border=\"1\" class=\"dataframe\">\n",
              "  <thead>\n",
              "    <tr style=\"text-align: right;\">\n",
              "      <th></th>\n",
              "      <th>Year</th>\n",
              "      <th>113 Cause Name</th>\n",
              "      <th>Cause Name</th>\n",
              "      <th>State</th>\n",
              "      <th>Deaths</th>\n",
              "      <th>Age-adjusted Death Rate</th>\n",
              "      <th>W_Deaths</th>\n",
              "      <th>W_Age Adjusted Death Rate</th>\n",
              "    </tr>\n",
              "  </thead>\n",
              "  <tbody>\n",
              "    <tr>\n",
              "      <th>0</th>\n",
              "      <td>2012</td>\n",
              "      <td>Nephritis, nephrotic syndrome and nephrosis (N...</td>\n",
              "      <td>Kidney disease</td>\n",
              "      <td>Vermont</td>\n",
              "      <td>21</td>\n",
              "      <td>2.6</td>\n",
              "      <td>21</td>\n",
              "      <td>2.6</td>\n",
              "    </tr>\n",
              "    <tr>\n",
              "      <th>1</th>\n",
              "      <td>2016</td>\n",
              "      <td>Nephritis, nephrotic syndrome and nephrosis (N...</td>\n",
              "      <td>Kidney disease</td>\n",
              "      <td>Vermont</td>\n",
              "      <td>30</td>\n",
              "      <td>3.7</td>\n",
              "      <td>30</td>\n",
              "      <td>3.7</td>\n",
              "    </tr>\n",
              "    <tr>\n",
              "      <th>2</th>\n",
              "      <td>2013</td>\n",
              "      <td>Nephritis, nephrotic syndrome and nephrosis (N...</td>\n",
              "      <td>Kidney disease</td>\n",
              "      <td>Vermont</td>\n",
              "      <td>30</td>\n",
              "      <td>3.8</td>\n",
              "      <td>30</td>\n",
              "      <td>3.8</td>\n",
              "    </tr>\n",
              "  </tbody>\n",
              "</table>\n",
              "</div>\n",
              "      <button class=\"colab-df-convert\" onclick=\"convertToInteractive('df-1d683261-47bf-4640-acb5-3cd1ab440d23')\"\n",
              "              title=\"Convert this dataframe to an interactive table.\"\n",
              "              style=\"display:none;\">\n",
              "        \n",
              "  <svg xmlns=\"http://www.w3.org/2000/svg\" height=\"24px\"viewBox=\"0 0 24 24\"\n",
              "       width=\"24px\">\n",
              "    <path d=\"M0 0h24v24H0V0z\" fill=\"none\"/>\n",
              "    <path d=\"M18.56 5.44l.94 2.06.94-2.06 2.06-.94-2.06-.94-.94-2.06-.94 2.06-2.06.94zm-11 1L8.5 8.5l.94-2.06 2.06-.94-2.06-.94L8.5 2.5l-.94 2.06-2.06.94zm10 10l.94 2.06.94-2.06 2.06-.94-2.06-.94-.94-2.06-.94 2.06-2.06.94z\"/><path d=\"M17.41 7.96l-1.37-1.37c-.4-.4-.92-.59-1.43-.59-.52 0-1.04.2-1.43.59L10.3 9.45l-7.72 7.72c-.78.78-.78 2.05 0 2.83L4 21.41c.39.39.9.59 1.41.59.51 0 1.02-.2 1.41-.59l7.78-7.78 2.81-2.81c.8-.78.8-2.07 0-2.86zM5.41 20L4 18.59l7.72-7.72 1.47 1.35L5.41 20z\"/>\n",
              "  </svg>\n",
              "      </button>\n",
              "      \n",
              "  <style>\n",
              "    .colab-df-container {\n",
              "      display:flex;\n",
              "      flex-wrap:wrap;\n",
              "      gap: 12px;\n",
              "    }\n",
              "\n",
              "    .colab-df-convert {\n",
              "      background-color: #E8F0FE;\n",
              "      border: none;\n",
              "      border-radius: 50%;\n",
              "      cursor: pointer;\n",
              "      display: none;\n",
              "      fill: #1967D2;\n",
              "      height: 32px;\n",
              "      padding: 0 0 0 0;\n",
              "      width: 32px;\n",
              "    }\n",
              "\n",
              "    .colab-df-convert:hover {\n",
              "      background-color: #E2EBFA;\n",
              "      box-shadow: 0px 1px 2px rgba(60, 64, 67, 0.3), 0px 1px 3px 1px rgba(60, 64, 67, 0.15);\n",
              "      fill: #174EA6;\n",
              "    }\n",
              "\n",
              "    [theme=dark] .colab-df-convert {\n",
              "      background-color: #3B4455;\n",
              "      fill: #D2E3FC;\n",
              "    }\n",
              "\n",
              "    [theme=dark] .colab-df-convert:hover {\n",
              "      background-color: #434B5C;\n",
              "      box-shadow: 0px 1px 3px 1px rgba(0, 0, 0, 0.15);\n",
              "      filter: drop-shadow(0px 1px 2px rgba(0, 0, 0, 0.3));\n",
              "      fill: #FFFFFF;\n",
              "    }\n",
              "  </style>\n",
              "\n",
              "      <script>\n",
              "        const buttonEl =\n",
              "          document.querySelector('#df-1d683261-47bf-4640-acb5-3cd1ab440d23 button.colab-df-convert');\n",
              "        buttonEl.style.display =\n",
              "          google.colab.kernel.accessAllowed ? 'block' : 'none';\n",
              "\n",
              "        async function convertToInteractive(key) {\n",
              "          const element = document.querySelector('#df-1d683261-47bf-4640-acb5-3cd1ab440d23');\n",
              "          const dataTable =\n",
              "            await google.colab.kernel.invokeFunction('convertToInteractive',\n",
              "                                                     [key], {});\n",
              "          if (!dataTable) return;\n",
              "\n",
              "          const docLinkHtml = 'Like what you see? Visit the ' +\n",
              "            '<a target=\"_blank\" href=https://colab.research.google.com/notebooks/data_table.ipynb>data table notebook</a>'\n",
              "            + ' to learn more about interactive tables.';\n",
              "          element.innerHTML = '';\n",
              "          dataTable['output_type'] = 'display_data';\n",
              "          await google.colab.output.renderOutput(dataTable, element);\n",
              "          const docLink = document.createElement('div');\n",
              "          docLink.innerHTML = docLinkHtml;\n",
              "          element.appendChild(docLink);\n",
              "        }\n",
              "      </script>\n",
              "    </div>\n",
              "  </div>\n",
              "  "
            ]
          },
          "metadata": {},
          "execution_count": 22
        }
      ]
    },
    {
      "cell_type": "code",
      "source": [
        "# MEANS AND MEDIANS - MEANS OF WINSORIZE DATA CHANGE, MEDIAN SAME\n",
        "\n",
        "df[['Deaths','Age-adjusted Death Rate','W_Deaths','W_Age Adjusted Death Rate']].mean()"
      ],
      "metadata": {
        "colab": {
          "base_uri": "https://localhost:8080/"
        },
        "id": "H-IdXyIuZJfd",
        "outputId": "a82165f6-a6bb-46fd-d1b6-54c88700addb"
      },
      "execution_count": 23,
      "outputs": [
        {
          "output_type": "execute_result",
          "data": {
            "text/plain": [
              "Deaths                       15367.932789\n",
              "Age-adjusted Death Rate        128.037383\n",
              "W_Deaths                      3749.196387\n",
              "W_Age Adjusted Death Rate       78.946455\n",
              "dtype: float64"
            ]
          },
          "metadata": {},
          "execution_count": 23
        }
      ]
    },
    {
      "cell_type": "code",
      "source": [
        "df[['Deaths','Age-adjusted Death Rate','W_Deaths','W_Age Adjusted Death Rate']].median()"
      ],
      "metadata": {
        "colab": {
          "base_uri": "https://localhost:8080/"
        },
        "id": "RBiV4udwZJi1",
        "outputId": "9ed8f428-54c4-4b1b-f8b4-d5fec6059052"
      },
      "execution_count": 24,
      "outputs": [
        {
          "output_type": "execute_result",
          "data": {
            "text/plain": [
              "Deaths                       1704.5\n",
              "Age-adjusted Death Rate        35.8\n",
              "W_Deaths                     1704.5\n",
              "W_Age Adjusted Death Rate      35.8\n",
              "dtype: float64"
            ]
          },
          "metadata": {},
          "execution_count": 24
        }
      ]
    },
    {
      "cell_type": "code",
      "source": [
        "# histograms of winsorized varaibles show less concentration\n",
        "\n",
        "df.hist(bins=20, figsize=(11,8))"
      ],
      "metadata": {
        "colab": {
          "base_uri": "https://localhost:8080/",
          "height": 625
        },
        "id": "NtTDy9KrZKES",
        "outputId": "d9960f86-c07f-40cf-e9e2-69ab41e93db6"
      },
      "execution_count": 25,
      "outputs": [
        {
          "output_type": "execute_result",
          "data": {
            "text/plain": [
              "array([[<matplotlib.axes._subplots.AxesSubplot object at 0x7f46c1d2f450>,\n",
              "        <matplotlib.axes._subplots.AxesSubplot object at 0x7f46c1d5fad0>],\n",
              "       [<matplotlib.axes._subplots.AxesSubplot object at 0x7f46c1d1f110>,\n",
              "        <matplotlib.axes._subplots.AxesSubplot object at 0x7f46c1cd3710>],\n",
              "       [<matplotlib.axes._subplots.AxesSubplot object at 0x7f46c1c87ed0>,\n",
              "        <matplotlib.axes._subplots.AxesSubplot object at 0x7f46c1c48450>]],\n",
              "      dtype=object)"
            ]
          },
          "metadata": {},
          "execution_count": 25
        },
        {
          "output_type": "display_data",
          "data": {
            "text/plain": [
              "<Figure size 792x576 with 6 Axes>"
            ],
            "image/png": "[encoded data removed]"
          },
          "metadata": {
            "needs_background": "light"
          }
        }
      ]
    },
    {
      "cell_type": "code",
      "source": [
        "\n",
        "plt.subplots(figsize=(14,10))\n",
        "sns.distplot(df[df['State_dum'] == 0]['Age-adjusted Death Rate'], bins=30, kde=False, color='red', label='State Death Rate Exceed US Median')\n",
        "sns.distplot(df[df['State_dum'] == 1]['Age-adjusted Death Rate'], bins=30, kde=False, color='blue', label='State Death Rate Below US Median')\n",
        "plt.legend(loc = 1)\n"
      ],
      "metadata": {
        "colab": {
          "base_uri": "https://localhost:8080/",
          "height": 680
        },
        "id": "V_bUnWCZYf1W",
        "outputId": "e59a4f0d-7f34-4d0e-abd8-0f3c8e571a4d"
      },
      "execution_count": 92,
      "outputs": [
        {
          "output_type": "stream",
          "name": "stderr",
          "text": [
            "/usr/local/lib/python3.7/dist-packages/seaborn/distributions.py:2619: FutureWarning: `distplot` is a deprecated function and will be removed in a future version. Please adapt your code to use either `displot` (a figure-level function with similar flexibility) or `histplot` (an axes-level function for histograms).\n",
            "  warnings.warn(msg, FutureWarning)\n"
          ]
        },
        {
          "output_type": "execute_result",
          "data": {
            "text/plain": [
              "<matplotlib.legend.Legend at 0x7f46b9464a50>"
            ]
          },
          "metadata": {},
          "execution_count": 92
        },
        {
          "output_type": "display_data",
          "data": {
            "text/plain": [
              "<Figure size 1008x720 with 1 Axes>"
            ],
            "image/png": "[encoded data removed]"
          },
          "metadata": {
            "needs_background": "light"
          }
        }
      ]
    },
    {
      "cell_type": "markdown",
      "source": [
        "#### **drop column '113 cause name'** - since same infor captured in column 'cause name'"
      ],
      "metadata": {
        "id": "uZTy7KtwLtXn"
      }
    },
    {
      "cell_type": "code",
      "source": [
        "df.drop(['113 Cause Name'], axis=1, inplace=True)\n"
      ],
      "metadata": {
        "id": "qeN4VkXEL-w7"
      },
      "execution_count": 26,
      "outputs": []
    },
    {
      "cell_type": "markdown",
      "source": [
        "#### **create new column called Region**"
      ],
      "metadata": {
        "id": "olOo0BwEJKVn"
      }
    },
    {
      "cell_type": "code",
      "source": [
        "# CREATE A NEW COLUMN CALLED REGION - BASED ON STATES \n",
        "\n",
        "df['Region'] = df['State']\n",
        "df.head(2)"
      ],
      "metadata": {
        "colab": {
          "base_uri": "https://localhost:8080/",
          "height": 112
        },
        "id": "P3nVz6caILql",
        "outputId": "f1951431-6dc7-41a4-c5d9-2647a1c13ea7"
      },
      "execution_count": 27,
      "outputs": [
        {
          "output_type": "execute_result",
          "data": {
            "text/plain": [
              "   Year      Cause Name    State  Deaths  Age-adjusted Death Rate  W_Deaths  \\\n",
              "0  2012  Kidney disease  Vermont      21                      2.6        21   \n",
              "1  2016  Kidney disease  Vermont      30                      3.7        30   \n",
              "\n",
              "   W_Age Adjusted Death Rate   Region  \n",
              "0                        2.6  Vermont  \n",
              "1                        3.7  Vermont  "
            ],
            "text/html": [
              "\n",
              "  <div id=\"df-0a7f0581-f7a1-4d75-99e2-f8e56d3bb1de\">\n",
              "    <div class=\"colab-df-container\">\n",
              "      <div>\n",
              "<style scoped>\n",
              "    .dataframe tbody tr th:only-of-type {\n",
              "        vertical-align: middle;\n",
              "    }\n",
              "\n",
              "    .dataframe tbody tr th {\n",
              "        vertical-align: top;\n",
              "    }\n",
              "\n",
              "    .dataframe thead th {\n",
              "        text-align: right;\n",
              "    }\n",
              "</style>\n",
              "<table border=\"1\" class=\"dataframe\">\n",
              "  <thead>\n",
              "    <tr style=\"text-align: right;\">\n",
              "      <th></th>\n",
              "      <th>Year</th>\n",
              "      <th>Cause Name</th>\n",
              "      <th>State</th>\n",
              "      <th>Deaths</th>\n",
              "      <th>Age-adjusted Death Rate</th>\n",
              "      <th>W_Deaths</th>\n",
              "      <th>W_Age Adjusted Death Rate</th>\n",
              "      <th>Region</th>\n",
              "    </tr>\n",
              "  </thead>\n",
              "  <tbody>\n",
              "    <tr>\n",
              "      <th>0</th>\n",
              "      <td>2012</td>\n",
              "      <td>Kidney disease</td>\n",
              "      <td>Vermont</td>\n",
              "      <td>21</td>\n",
              "      <td>2.6</td>\n",
              "      <td>21</td>\n",
              "      <td>2.6</td>\n",
              "      <td>Vermont</td>\n",
              "    </tr>\n",
              "    <tr>\n",
              "      <th>1</th>\n",
              "      <td>2016</td>\n",
              "      <td>Kidney disease</td>\n",
              "      <td>Vermont</td>\n",
              "      <td>30</td>\n",
              "      <td>3.7</td>\n",
              "      <td>30</td>\n",
              "      <td>3.7</td>\n",
              "      <td>Vermont</td>\n",
              "    </tr>\n",
              "  </tbody>\n",
              "</table>\n",
              "</div>\n",
              "      <button class=\"colab-df-convert\" onclick=\"convertToInteractive('df-0a7f0581-f7a1-4d75-99e2-f8e56d3bb1de')\"\n",
              "              title=\"Convert this dataframe to an interactive table.\"\n",
              "              style=\"display:none;\">\n",
              "        \n",
              "  <svg xmlns=\"http://www.w3.org/2000/svg\" height=\"24px\"viewBox=\"0 0 24 24\"\n",
              "       width=\"24px\">\n",
              "    <path d=\"M0 0h24v24H0V0z\" fill=\"none\"/>\n",
              "    <path d=\"M18.56 5.44l.94 2.06.94-2.06 2.06-.94-2.06-.94-.94-2.06-.94 2.06-2.06.94zm-11 1L8.5 8.5l.94-2.06 2.06-.94-2.06-.94L8.5 2.5l-.94 2.06-2.06.94zm10 10l.94 2.06.94-2.06 2.06-.94-2.06-.94-.94-2.06-.94 2.06-2.06.94z\"/><path d=\"M17.41 7.96l-1.37-1.37c-.4-.4-.92-.59-1.43-.59-.52 0-1.04.2-1.43.59L10.3 9.45l-7.72 7.72c-.78.78-.78 2.05 0 2.83L4 21.41c.39.39.9.59 1.41.59.51 0 1.02-.2 1.41-.59l7.78-7.78 2.81-2.81c.8-.78.8-2.07 0-2.86zM5.41 20L4 18.59l7.72-7.72 1.47 1.35L5.41 20z\"/>\n",
              "  </svg>\n",
              "      </button>\n",
              "      \n",
              "  <style>\n",
              "    .colab-df-container {\n",
              "      display:flex;\n",
              "      flex-wrap:wrap;\n",
              "      gap: 12px;\n",
              "    }\n",
              "\n",
              "    .colab-df-convert {\n",
              "      background-color: #E8F0FE;\n",
              "      border: none;\n",
              "      border-radius: 50%;\n",
              "      cursor: pointer;\n",
              "      display: none;\n",
              "      fill: #1967D2;\n",
              "      height: 32px;\n",
              "      padding: 0 0 0 0;\n",
              "      width: 32px;\n",
              "    }\n",
              "\n",
              "    .colab-df-convert:hover {\n",
              "      background-color: #E2EBFA;\n",
              "      box-shadow: 0px 1px 2px rgba(60, 64, 67, 0.3), 0px 1px 3px 1px rgba(60, 64, 67, 0.15);\n",
              "      fill: #174EA6;\n",
              "    }\n",
              "\n",
              "    [theme=dark] .colab-df-convert {\n",
              "      background-color: #3B4455;\n",
              "      fill: #D2E3FC;\n",
              "    }\n",
              "\n",
              "    [theme=dark] .colab-df-convert:hover {\n",
              "      background-color: #434B5C;\n",
              "      box-shadow: 0px 1px 3px 1px rgba(0, 0, 0, 0.15);\n",
              "      filter: drop-shadow(0px 1px 2px rgba(0, 0, 0, 0.3));\n",
              "      fill: #FFFFFF;\n",
              "    }\n",
              "  </style>\n",
              "\n",
              "      <script>\n",
              "        const buttonEl =\n",
              "          document.querySelector('#df-0a7f0581-f7a1-4d75-99e2-f8e56d3bb1de button.colab-df-convert');\n",
              "        buttonEl.style.display =\n",
              "          google.colab.kernel.accessAllowed ? 'block' : 'none';\n",
              "\n",
              "        async function convertToInteractive(key) {\n",
              "          const element = document.querySelector('#df-0a7f0581-f7a1-4d75-99e2-f8e56d3bb1de');\n",
              "          const dataTable =\n",
              "            await google.colab.kernel.invokeFunction('convertToInteractive',\n",
              "                                                     [key], {});\n",
              "          if (!dataTable) return;\n",
              "\n",
              "          const docLinkHtml = 'Like what you see? Visit the ' +\n",
              "            '<a target=\"_blank\" href=https://colab.research.google.com/notebooks/data_table.ipynb>data table notebook</a>'\n",
              "            + ' to learn more about interactive tables.';\n",
              "          element.innerHTML = '';\n",
              "          dataTable['output_type'] = 'display_data';\n",
              "          await google.colab.output.renderOutput(dataTable, element);\n",
              "          const docLink = document.createElement('div');\n",
              "          docLink.innerHTML = docLinkHtml;\n",
              "          element.appendChild(docLink);\n",
              "        }\n",
              "      </script>\n",
              "    </div>\n",
              "  </div>\n",
              "  "
            ]
          },
          "metadata": {},
          "execution_count": 27
        }
      ]
    },
    {
      "cell_type": "code",
      "source": [
        "# REDEFINE REGION COLUMN - BASED ON CENSUS BUREAU DEFINTION OF 4 REGIONS\n",
        "\n",
        "# Census Bureau - 4 regions of US - W, MW, NE, S - create these plus US\n",
        "# https://www.businessinsider.com/regions-of-united-states-2018-5#-and-the-west-4\n",
        "#Northeast=Maine, New Hampshire, Vermont, Massachusetts, Rhode Island, Connecticut, New York, New Jersey, and Pennsylvania.\n",
        "#Midwest=Ohio, Michigan, Indiana, Wisconsin, Illinois, Minnesota, Iowa, Missouri, North Dakota, South Dakota, Nebraska, and Kansas.\n",
        "#South=Delaware, Maryland, Virginia, West Virginia, Kentucky, North Carolina, South Carolina, Tennessee, Georgia, Florida, Alabama, Mississippi, Arkansas, Louisiana, Texas, and Oklahoma and District of Columbia\n",
        "#West=Montana, Idaho, Wyoming, Colorado, New Mexico, Arizona, Utah, Nevada, California, Oregon, Washington, Alaska, and Hawaii\n",
        "\n",
        "df['Region'] = df['Region'].replace({'Maine':'NE','New Hampshire':'NE','Vermont':'NE','Massachusetts':'NE','Rhode Island':'NE','Connecticut':'NE','New York':'NE','New Jersey':'NE','Pennsylvania':'NE',\n",
        "'Ohio':'MW','Michigan':'MW','Indiana':'MW','Wisconsin':'MW','Illinois':'MW','Minnesota':'MW','Iowa':'MW','Missouri':'MW','North Dakota':'MW','South Dakota':'MW','Nebraska':'MW','Kansas':'MW',\n",
        "'Delaware':'S','Maryland':'S','Virginia':'S','West Virginia':'S','Kentucky':'S','North Carolina':'S','South Carolina':'S','Tennessee':'S','Georgia':'S','Florida':'S','Alabama':'S','Mississippi':'S','Arkansas':'S','Louisiana':'S','Texas':'S','Oklahoma':'S','District of Columbia':'S',\n",
        "'Montana':'W','Idaho':'W','Wyoming':'W','Colorado':'W','New Mexico':'W','Arizona':'W','Utah':'W','Nevada':'W','California':'W','Oregon':'W','Washington':'W','Alaska':'W','Hawaii':'W',\n",
        "'United States':'US'})\n",
        "\n",
        "df.head(5)"
      ],
      "metadata": {
        "colab": {
          "base_uri": "https://localhost:8080/",
          "height": 206
        },
        "id": "z3yWe_jnFMD8",
        "outputId": "ec5aeb87-16ff-40f6-ddb9-8ffee07c2ca7"
      },
      "execution_count": 28,
      "outputs": [
        {
          "output_type": "execute_result",
          "data": {
            "text/plain": [
              "   Year      Cause Name                 State  Deaths  \\\n",
              "0  2012  Kidney disease               Vermont      21   \n",
              "1  2016  Kidney disease               Vermont      30   \n",
              "2  2013  Kidney disease               Vermont      30   \n",
              "3  2000         Suicide  District of Columbia      23   \n",
              "4  2014  Kidney disease               Arizona     325   \n",
              "\n",
              "   Age-adjusted Death Rate  W_Deaths  W_Age Adjusted Death Rate Region  \n",
              "0                      2.6        21                        2.6     NE  \n",
              "1                      3.7        30                        3.7     NE  \n",
              "2                      3.8        30                        3.8     NE  \n",
              "3                      3.8        23                        3.8      S  \n",
              "4                      4.1       325                        4.1      W  "
            ],
            "text/html": [
              "\n",
              "  <div id=\"df-6e4f4422-e6bd-47b1-b03b-09cc14d9b669\">\n",
              "    <div class=\"colab-df-container\">\n",
              "      <div>\n",
              "<style scoped>\n",
              "    .dataframe tbody tr th:only-of-type {\n",
              "        vertical-align: middle;\n",
              "    }\n",
              "\n",
              "    .dataframe tbody tr th {\n",
              "        vertical-align: top;\n",
              "    }\n",
              "\n",
              "    .dataframe thead th {\n",
              "        text-align: right;\n",
              "    }\n",
              "</style>\n",
              "<table border=\"1\" class=\"dataframe\">\n",
              "  <thead>\n",
              "    <tr style=\"text-align: right;\">\n",
              "      <th></th>\n",
              "      <th>Year</th>\n",
              "      <th>Cause Name</th>\n",
              "      <th>State</th>\n",
              "      <th>Deaths</th>\n",
              "      <th>Age-adjusted Death Rate</th>\n",
              "      <th>W_Deaths</th>\n",
              "      <th>W_Age Adjusted Death Rate</th>\n",
              "      <th>Region</th>\n",
              "    </tr>\n",
              "  </thead>\n",
              "  <tbody>\n",
              "    <tr>\n",
              "      <th>0</th>\n",
              "      <td>2012</td>\n",
              "      <td>Kidney disease</td>\n",
              "      <td>Vermont</td>\n",
              "      <td>21</td>\n",
              "      <td>2.6</td>\n",
              "      <td>21</td>\n",
              "      <td>2.6</td>\n",
              "      <td>NE</td>\n",
              "    </tr>\n",
              "    <tr>\n",
              "      <th>1</th>\n",
              "      <td>2016</td>\n",
              "      <td>Kidney disease</td>\n",
              "      <td>Vermont</td>\n",
              "      <td>30</td>\n",
              "      <td>3.7</td>\n",
              "      <td>30</td>\n",
              "      <td>3.7</td>\n",
              "      <td>NE</td>\n",
              "    </tr>\n",
              "    <tr>\n",
              "      <th>2</th>\n",
              "      <td>2013</td>\n",
              "      <td>Kidney disease</td>\n",
              "      <td>Vermont</td>\n",
              "      <td>30</td>\n",
              "      <td>3.8</td>\n",
              "      <td>30</td>\n",
              "      <td>3.8</td>\n",
              "      <td>NE</td>\n",
              "    </tr>\n",
              "    <tr>\n",
              "      <th>3</th>\n",
              "      <td>2000</td>\n",
              "      <td>Suicide</td>\n",
              "      <td>District of Columbia</td>\n",
              "      <td>23</td>\n",
              "      <td>3.8</td>\n",
              "      <td>23</td>\n",
              "      <td>3.8</td>\n",
              "      <td>S</td>\n",
              "    </tr>\n",
              "    <tr>\n",
              "      <th>4</th>\n",
              "      <td>2014</td>\n",
              "      <td>Kidney disease</td>\n",
              "      <td>Arizona</td>\n",
              "      <td>325</td>\n",
              "      <td>4.1</td>\n",
              "      <td>325</td>\n",
              "      <td>4.1</td>\n",
              "      <td>W</td>\n",
              "    </tr>\n",
              "  </tbody>\n",
              "</table>\n",
              "</div>\n",
              "      <button class=\"colab-df-convert\" onclick=\"convertToInteractive('df-6e4f4422-e6bd-47b1-b03b-09cc14d9b669')\"\n",
              "              title=\"Convert this dataframe to an interactive table.\"\n",
              "              style=\"display:none;\">\n",
              "        \n",
              "  <svg xmlns=\"http://www.w3.org/2000/svg\" height=\"24px\"viewBox=\"0 0 24 24\"\n",
              "       width=\"24px\">\n",
              "    <path d=\"M0 0h24v24H0V0z\" fill=\"none\"/>\n",
              "    <path d=\"M18.56 5.44l.94 2.06.94-2.06 2.06-.94-2.06-.94-.94-2.06-.94 2.06-2.06.94zm-11 1L8.5 8.5l.94-2.06 2.06-.94-2.06-.94L8.5 2.5l-.94 2.06-2.06.94zm10 10l.94 2.06.94-2.06 2.06-.94-2.06-.94-.94-2.06-.94 2.06-2.06.94z\"/><path d=\"M17.41 7.96l-1.37-1.37c-.4-.4-.92-.59-1.43-.59-.52 0-1.04.2-1.43.59L10.3 9.45l-7.72 7.72c-.78.78-.78 2.05 0 2.83L4 21.41c.39.39.9.59 1.41.59.51 0 1.02-.2 1.41-.59l7.78-7.78 2.81-2.81c.8-.78.8-2.07 0-2.86zM5.41 20L4 18.59l7.72-7.72 1.47 1.35L5.41 20z\"/>\n",
              "  </svg>\n",
              "      </button>\n",
              "      \n",
              "  <style>\n",
              "    .colab-df-container {\n",
              "      display:flex;\n",
              "      flex-wrap:wrap;\n",
              "      gap: 12px;\n",
              "    }\n",
              "\n",
              "    .colab-df-convert {\n",
              "      background-color: #E8F0FE;\n",
              "      border: none;\n",
              "      border-radius: 50%;\n",
              "      cursor: pointer;\n",
              "      display: none;\n",
              "      fill: #1967D2;\n",
              "      height: 32px;\n",
              "      padding: 0 0 0 0;\n",
              "      width: 32px;\n",
              "    }\n",
              "\n",
              "    .colab-df-convert:hover {\n",
              "      background-color: #E2EBFA;\n",
              "      box-shadow: 0px 1px 2px rgba(60, 64, 67, 0.3), 0px 1px 3px 1px rgba(60, 64, 67, 0.15);\n",
              "      fill: #174EA6;\n",
              "    }\n",
              "\n",
              "    [theme=dark] .colab-df-convert {\n",
              "      background-color: #3B4455;\n",
              "      fill: #D2E3FC;\n",
              "    }\n",
              "\n",
              "    [theme=dark] .colab-df-convert:hover {\n",
              "      background-color: #434B5C;\n",
              "      box-shadow: 0px 1px 3px 1px rgba(0, 0, 0, 0.15);\n",
              "      filter: drop-shadow(0px 1px 2px rgba(0, 0, 0, 0.3));\n",
              "      fill: #FFFFFF;\n",
              "    }\n",
              "  </style>\n",
              "\n",
              "      <script>\n",
              "        const buttonEl =\n",
              "          document.querySelector('#df-6e4f4422-e6bd-47b1-b03b-09cc14d9b669 button.colab-df-convert');\n",
              "        buttonEl.style.display =\n",
              "          google.colab.kernel.accessAllowed ? 'block' : 'none';\n",
              "\n",
              "        async function convertToInteractive(key) {\n",
              "          const element = document.querySelector('#df-6e4f4422-e6bd-47b1-b03b-09cc14d9b669');\n",
              "          const dataTable =\n",
              "            await google.colab.kernel.invokeFunction('convertToInteractive',\n",
              "                                                     [key], {});\n",
              "          if (!dataTable) return;\n",
              "\n",
              "          const docLinkHtml = 'Like what you see? Visit the ' +\n",
              "            '<a target=\"_blank\" href=https://colab.research.google.com/notebooks/data_table.ipynb>data table notebook</a>'\n",
              "            + ' to learn more about interactive tables.';\n",
              "          element.innerHTML = '';\n",
              "          dataTable['output_type'] = 'display_data';\n",
              "          await google.colab.output.renderOutput(dataTable, element);\n",
              "          const docLink = document.createElement('div');\n",
              "          docLink.innerHTML = docLinkHtml;\n",
              "          element.appendChild(docLink);\n",
              "        }\n",
              "      </script>\n",
              "    </div>\n",
              "  </div>\n",
              "  "
            ]
          },
          "metadata": {},
          "execution_count": 28
        }
      ]
    },
    {
      "cell_type": "code",
      "source": [
        "\n",
        "df['Region'].value_counts()"
      ],
      "metadata": {
        "colab": {
          "base_uri": "https://localhost:8080/"
        },
        "id": "nTKqpMP3FMIH",
        "outputId": "0c10d73b-96bd-4dc2-aeab-6013372cb534"
      },
      "execution_count": 29,
      "outputs": [
        {
          "output_type": "execute_result",
          "data": {
            "text/plain": [
              "S     3366\n",
              "W     2574\n",
              "MW    2376\n",
              "NE    1782\n",
              "US     198\n",
              "Name: Region, dtype: int64"
            ]
          },
          "metadata": {},
          "execution_count": 29
        }
      ]
    },
    {
      "cell_type": "markdown",
      "source": [
        "#### ***create new column State_dum, coded as (0,1) ***- to use for model building\n",
        "\n",
        "#### Target variable = states\n",
        "#### code states as:\n",
        "#### 0 = states exceeding  median U.S. age-adjusted death rate of 37.55 (states doing worse than US median - state death rate exceeds US death rate)\n",
        "#### 1 = states less than or equal median U.S. death rate"
      ],
      "metadata": {
        "id": "nQmKxNECJsMZ"
      }
    },
    {
      "cell_type": "code",
      "source": [
        "# MEAN, MEDIAN DEATH RATE FOR US\n",
        "\n",
        "# dataframe US\n",
        "\n",
        "dfUS = df[df['State'] == 'United States']\n",
        "dfUS.head(2)"
      ],
      "metadata": {
        "colab": {
          "base_uri": "https://localhost:8080/",
          "height": 112
        },
        "id": "7fPBOlneQX4l",
        "outputId": "559bfae8-4795-4a24-cb56-de9f2322e847"
      },
      "execution_count": 30,
      "outputs": [
        {
          "output_type": "execute_result",
          "data": {
            "text/plain": [
              "     Year Cause Name          State  Deaths  Age-adjusted Death Rate  \\\n",
              "489  2000    Suicide  United States   29350                     10.4   \n",
              "510  1999    Suicide  United States   29199                     10.5   \n",
              "\n",
              "     W_Deaths  W_Age Adjusted Death Rate Region  \n",
              "489     12036                       10.4     US  \n",
              "510     12036                       10.5     US  "
            ],
            "text/html": [
              "\n",
              "  <div id=\"df-06bf1f87-a0ea-43e0-84c8-b4308e36cc97\">\n",
              "    <div class=\"colab-df-container\">\n",
              "      <div>\n",
              "<style scoped>\n",
              "    .dataframe tbody tr th:only-of-type {\n",
              "        vertical-align: middle;\n",
              "    }\n",
              "\n",
              "    .dataframe tbody tr th {\n",
              "        vertical-align: top;\n",
              "    }\n",
              "\n",
              "    .dataframe thead th {\n",
              "        text-align: right;\n",
              "    }\n",
              "</style>\n",
              "<table border=\"1\" class=\"dataframe\">\n",
              "  <thead>\n",
              "    <tr style=\"text-align: right;\">\n",
              "      <th></th>\n",
              "      <th>Year</th>\n",
              "      <th>Cause Name</th>\n",
              "      <th>State</th>\n",
              "      <th>Deaths</th>\n",
              "      <th>Age-adjusted Death Rate</th>\n",
              "      <th>W_Deaths</th>\n",
              "      <th>W_Age Adjusted Death Rate</th>\n",
              "      <th>Region</th>\n",
              "    </tr>\n",
              "  </thead>\n",
              "  <tbody>\n",
              "    <tr>\n",
              "      <th>489</th>\n",
              "      <td>2000</td>\n",
              "      <td>Suicide</td>\n",
              "      <td>United States</td>\n",
              "      <td>29350</td>\n",
              "      <td>10.4</td>\n",
              "      <td>12036</td>\n",
              "      <td>10.4</td>\n",
              "      <td>US</td>\n",
              "    </tr>\n",
              "    <tr>\n",
              "      <th>510</th>\n",
              "      <td>1999</td>\n",
              "      <td>Suicide</td>\n",
              "      <td>United States</td>\n",
              "      <td>29199</td>\n",
              "      <td>10.5</td>\n",
              "      <td>12036</td>\n",
              "      <td>10.5</td>\n",
              "      <td>US</td>\n",
              "    </tr>\n",
              "  </tbody>\n",
              "</table>\n",
              "</div>\n",
              "      <button class=\"colab-df-convert\" onclick=\"convertToInteractive('df-06bf1f87-a0ea-43e0-84c8-b4308e36cc97')\"\n",
              "              title=\"Convert this dataframe to an interactive table.\"\n",
              "              style=\"display:none;\">\n",
              "        \n",
              "  <svg xmlns=\"http://www.w3.org/2000/svg\" height=\"24px\"viewBox=\"0 0 24 24\"\n",
              "       width=\"24px\">\n",
              "    <path d=\"M0 0h24v24H0V0z\" fill=\"none\"/>\n",
              "    <path d=\"M18.56 5.44l.94 2.06.94-2.06 2.06-.94-2.06-.94-.94-2.06-.94 2.06-2.06.94zm-11 1L8.5 8.5l.94-2.06 2.06-.94-2.06-.94L8.5 2.5l-.94 2.06-2.06.94zm10 10l.94 2.06.94-2.06 2.06-.94-2.06-.94-.94-2.06-.94 2.06-2.06.94z\"/><path d=\"M17.41 7.96l-1.37-1.37c-.4-.4-.92-.59-1.43-.59-.52 0-1.04.2-1.43.59L10.3 9.45l-7.72 7.72c-.78.78-.78 2.05 0 2.83L4 21.41c.39.39.9.59 1.41.59.51 0 1.02-.2 1.41-.59l7.78-7.78 2.81-2.81c.8-.78.8-2.07 0-2.86zM5.41 20L4 18.59l7.72-7.72 1.47 1.35L5.41 20z\"/>\n",
              "  </svg>\n",
              "      </button>\n",
              "      \n",
              "  <style>\n",
              "    .colab-df-container {\n",
              "      display:flex;\n",
              "      flex-wrap:wrap;\n",
              "      gap: 12px;\n",
              "    }\n",
              "\n",
              "    .colab-df-convert {\n",
              "      background-color: #E8F0FE;\n",
              "      border: none;\n",
              "      border-radius: 50%;\n",
              "      cursor: pointer;\n",
              "      display: none;\n",
              "      fill: #1967D2;\n",
              "      height: 32px;\n",
              "      padding: 0 0 0 0;\n",
              "      width: 32px;\n",
              "    }\n",
              "\n",
              "    .colab-df-convert:hover {\n",
              "      background-color: #E2EBFA;\n",
              "      box-shadow: 0px 1px 2px rgba(60, 64, 67, 0.3), 0px 1px 3px 1px rgba(60, 64, 67, 0.15);\n",
              "      fill: #174EA6;\n",
              "    }\n",
              "\n",
              "    [theme=dark] .colab-df-convert {\n",
              "      background-color: #3B4455;\n",
              "      fill: #D2E3FC;\n",
              "    }\n",
              "\n",
              "    [theme=dark] .colab-df-convert:hover {\n",
              "      background-color: #434B5C;\n",
              "      box-shadow: 0px 1px 3px 1px rgba(0, 0, 0, 0.15);\n",
              "      filter: drop-shadow(0px 1px 2px rgba(0, 0, 0, 0.3));\n",
              "      fill: #FFFFFF;\n",
              "    }\n",
              "  </style>\n",
              "\n",
              "      <script>\n",
              "        const buttonEl =\n",
              "          document.querySelector('#df-06bf1f87-a0ea-43e0-84c8-b4308e36cc97 button.colab-df-convert');\n",
              "        buttonEl.style.display =\n",
              "          google.colab.kernel.accessAllowed ? 'block' : 'none';\n",
              "\n",
              "        async function convertToInteractive(key) {\n",
              "          const element = document.querySelector('#df-06bf1f87-a0ea-43e0-84c8-b4308e36cc97');\n",
              "          const dataTable =\n",
              "            await google.colab.kernel.invokeFunction('convertToInteractive',\n",
              "                                                     [key], {});\n",
              "          if (!dataTable) return;\n",
              "\n",
              "          const docLinkHtml = 'Like what you see? Visit the ' +\n",
              "            '<a target=\"_blank\" href=https://colab.research.google.com/notebooks/data_table.ipynb>data table notebook</a>'\n",
              "            + ' to learn more about interactive tables.';\n",
              "          element.innerHTML = '';\n",
              "          dataTable['output_type'] = 'display_data';\n",
              "          await google.colab.output.renderOutput(dataTable, element);\n",
              "          const docLink = document.createElement('div');\n",
              "          docLink.innerHTML = docLinkHtml;\n",
              "          element.appendChild(docLink);\n",
              "        }\n",
              "      </script>\n",
              "    </div>\n",
              "  </div>\n",
              "  "
            ]
          },
          "metadata": {},
          "execution_count": 30
        }
      ]
    },
    {
      "cell_type": "code",
      "source": [
        "\n",
        "dfUS['Age-adjusted Death Rate'].mean()"
      ],
      "metadata": {
        "colab": {
          "base_uri": "https://localhost:8080/"
        },
        "id": "BBPCtFiKFMMA",
        "outputId": "40e0d056-e5df-45be-9df6-2ec6cf03dcbf"
      },
      "execution_count": 31,
      "outputs": [
        {
          "output_type": "execute_result",
          "data": {
            "text/plain": [
              "126.07575757575756"
            ]
          },
          "metadata": {},
          "execution_count": 31
        }
      ]
    },
    {
      "cell_type": "code",
      "source": [
        "dfUS['Age-adjusted Death Rate'].median()"
      ],
      "metadata": {
        "colab": {
          "base_uri": "https://localhost:8080/"
        },
        "id": "4q1-LKhdFMQK",
        "outputId": "cfbeb455-7829-4260-d819-2a5b773a3bfc"
      },
      "execution_count": 32,
      "outputs": [
        {
          "output_type": "execute_result",
          "data": {
            "text/plain": [
              "37.55"
            ]
          },
          "metadata": {},
          "execution_count": 32
        }
      ]
    },
    {
      "cell_type": "code",
      "source": [
        "# MEAN, MEDIAN DEATH RATE OVERALL\n",
        "\n",
        "df['Age-adjusted Death Rate'].mean()"
      ],
      "metadata": {
        "colab": {
          "base_uri": "https://localhost:8080/"
        },
        "id": "RIMnxi67FMT3",
        "outputId": "5f9b457e-2fab-4fd6-bc83-c83677e74746"
      },
      "execution_count": 33,
      "outputs": [
        {
          "output_type": "execute_result",
          "data": {
            "text/plain": [
              "128.03738344988352"
            ]
          },
          "metadata": {},
          "execution_count": 33
        }
      ]
    },
    {
      "cell_type": "code",
      "source": [
        "df['Age-adjusted Death Rate'].median()"
      ],
      "metadata": {
        "colab": {
          "base_uri": "https://localhost:8080/"
        },
        "id": "1yAQcagEFMXc",
        "outputId": "a674cabc-8a46-482d-db9b-5de38ef920a0"
      },
      "execution_count": 34,
      "outputs": [
        {
          "output_type": "execute_result",
          "data": {
            "text/plain": [
              "35.8"
            ]
          },
          "metadata": {},
          "execution_count": 34
        }
      ]
    },
    {
      "cell_type": "code",
      "source": [
        "#create new col and assign value 1 to all\n",
        "df['State_dum'] = 1 \n",
        "\n",
        "#use adjusted death rate column to assign values > 37.55 to 0 in state_dum column\n",
        "df.loc[df['Age-adjusted Death Rate'] > 37.55, 'State_dum'] = 0 "
      ],
      "metadata": {
        "id": "QQ47wvgnRVVT"
      },
      "execution_count": 35,
      "outputs": []
    },
    {
      "cell_type": "code",
      "source": [
        "df['State_dum'].value_counts()"
      ],
      "metadata": {
        "colab": {
          "base_uri": "https://localhost:8080/"
        },
        "id": "VqnqD_KVRVY3",
        "outputId": "5f25f5b8-6f61-4a98-ad99-b39a8d709534"
      },
      "execution_count": 36,
      "outputs": [
        {
          "output_type": "execute_result",
          "data": {
            "text/plain": [
              "1    5331\n",
              "0    4965\n",
              "Name: State_dum, dtype: int64"
            ]
          },
          "metadata": {},
          "execution_count": 36
        }
      ]
    },
    {
      "cell_type": "code",
      "source": [
        "df.head(3)"
      ],
      "metadata": {
        "colab": {
          "base_uri": "https://localhost:8080/",
          "height": 143
        },
        "id": "yKWr9MqERVc4",
        "outputId": "eafa25e0-d94e-4466-e6e1-fe47be39369e"
      },
      "execution_count": 37,
      "outputs": [
        {
          "output_type": "execute_result",
          "data": {
            "text/plain": [
              "   Year      Cause Name    State  Deaths  Age-adjusted Death Rate  W_Deaths  \\\n",
              "0  2012  Kidney disease  Vermont      21                      2.6        21   \n",
              "1  2016  Kidney disease  Vermont      30                      3.7        30   \n",
              "2  2013  Kidney disease  Vermont      30                      3.8        30   \n",
              "\n",
              "   W_Age Adjusted Death Rate Region  State_dum  \n",
              "0                        2.6     NE          1  \n",
              "1                        3.7     NE          1  \n",
              "2                        3.8     NE          1  "
            ],
            "text/html": [
              "\n",
              "  <div id=\"df-d26fe3c9-32b8-4c09-8880-6dd78d9ccdf5\">\n",
              "    <div class=\"colab-df-container\">\n",
              "      <div>\n",
              "<style scoped>\n",
              "    .dataframe tbody tr th:only-of-type {\n",
              "        vertical-align: middle;\n",
              "    }\n",
              "\n",
              "    .dataframe tbody tr th {\n",
              "        vertical-align: top;\n",
              "    }\n",
              "\n",
              "    .dataframe thead th {\n",
              "        text-align: right;\n",
              "    }\n",
              "</style>\n",
              "<table border=\"1\" class=\"dataframe\">\n",
              "  <thead>\n",
              "    <tr style=\"text-align: right;\">\n",
              "      <th></th>\n",
              "      <th>Year</th>\n",
              "      <th>Cause Name</th>\n",
              "      <th>State</th>\n",
              "      <th>Deaths</th>\n",
              "      <th>Age-adjusted Death Rate</th>\n",
              "      <th>W_Deaths</th>\n",
              "      <th>W_Age Adjusted Death Rate</th>\n",
              "      <th>Region</th>\n",
              "      <th>State_dum</th>\n",
              "    </tr>\n",
              "  </thead>\n",
              "  <tbody>\n",
              "    <tr>\n",
              "      <th>0</th>\n",
              "      <td>2012</td>\n",
              "      <td>Kidney disease</td>\n",
              "      <td>Vermont</td>\n",
              "      <td>21</td>\n",
              "      <td>2.6</td>\n",
              "      <td>21</td>\n",
              "      <td>2.6</td>\n",
              "      <td>NE</td>\n",
              "      <td>1</td>\n",
              "    </tr>\n",
              "    <tr>\n",
              "      <th>1</th>\n",
              "      <td>2016</td>\n",
              "      <td>Kidney disease</td>\n",
              "      <td>Vermont</td>\n",
              "      <td>30</td>\n",
              "      <td>3.7</td>\n",
              "      <td>30</td>\n",
              "      <td>3.7</td>\n",
              "      <td>NE</td>\n",
              "      <td>1</td>\n",
              "    </tr>\n",
              "    <tr>\n",
              "      <th>2</th>\n",
              "      <td>2013</td>\n",
              "      <td>Kidney disease</td>\n",
              "      <td>Vermont</td>\n",
              "      <td>30</td>\n",
              "      <td>3.8</td>\n",
              "      <td>30</td>\n",
              "      <td>3.8</td>\n",
              "      <td>NE</td>\n",
              "      <td>1</td>\n",
              "    </tr>\n",
              "  </tbody>\n",
              "</table>\n",
              "</div>\n",
              "      <button class=\"colab-df-convert\" onclick=\"convertToInteractive('df-d26fe3c9-32b8-4c09-8880-6dd78d9ccdf5')\"\n",
              "              title=\"Convert this dataframe to an interactive table.\"\n",
              "              style=\"display:none;\">\n",
              "        \n",
              "  <svg xmlns=\"http://www.w3.org/2000/svg\" height=\"24px\"viewBox=\"0 0 24 24\"\n",
              "       width=\"24px\">\n",
              "    <path d=\"M0 0h24v24H0V0z\" fill=\"none\"/>\n",
              "    <path d=\"M18.56 5.44l.94 2.06.94-2.06 2.06-.94-2.06-.94-.94-2.06-.94 2.06-2.06.94zm-11 1L8.5 8.5l.94-2.06 2.06-.94-2.06-.94L8.5 2.5l-.94 2.06-2.06.94zm10 10l.94 2.06.94-2.06 2.06-.94-2.06-.94-.94-2.06-.94 2.06-2.06.94z\"/><path d=\"M17.41 7.96l-1.37-1.37c-.4-.4-.92-.59-1.43-.59-.52 0-1.04.2-1.43.59L10.3 9.45l-7.72 7.72c-.78.78-.78 2.05 0 2.83L4 21.41c.39.39.9.59 1.41.59.51 0 1.02-.2 1.41-.59l7.78-7.78 2.81-2.81c.8-.78.8-2.07 0-2.86zM5.41 20L4 18.59l7.72-7.72 1.47 1.35L5.41 20z\"/>\n",
              "  </svg>\n",
              "      </button>\n",
              "      \n",
              "  <style>\n",
              "    .colab-df-container {\n",
              "      display:flex;\n",
              "      flex-wrap:wrap;\n",
              "      gap: 12px;\n",
              "    }\n",
              "\n",
              "    .colab-df-convert {\n",
              "      background-color: #E8F0FE;\n",
              "      border: none;\n",
              "      border-radius: 50%;\n",
              "      cursor: pointer;\n",
              "      display: none;\n",
              "      fill: #1967D2;\n",
              "      height: 32px;\n",
              "      padding: 0 0 0 0;\n",
              "      width: 32px;\n",
              "    }\n",
              "\n",
              "    .colab-df-convert:hover {\n",
              "      background-color: #E2EBFA;\n",
              "      box-shadow: 0px 1px 2px rgba(60, 64, 67, 0.3), 0px 1px 3px 1px rgba(60, 64, 67, 0.15);\n",
              "      fill: #174EA6;\n",
              "    }\n",
              "\n",
              "    [theme=dark] .colab-df-convert {\n",
              "      background-color: #3B4455;\n",
              "      fill: #D2E3FC;\n",
              "    }\n",
              "\n",
              "    [theme=dark] .colab-df-convert:hover {\n",
              "      background-color: #434B5C;\n",
              "      box-shadow: 0px 1px 3px 1px rgba(0, 0, 0, 0.15);\n",
              "      filter: drop-shadow(0px 1px 2px rgba(0, 0, 0, 0.3));\n",
              "      fill: #FFFFFF;\n",
              "    }\n",
              "  </style>\n",
              "\n",
              "      <script>\n",
              "        const buttonEl =\n",
              "          document.querySelector('#df-d26fe3c9-32b8-4c09-8880-6dd78d9ccdf5 button.colab-df-convert');\n",
              "        buttonEl.style.display =\n",
              "          google.colab.kernel.accessAllowed ? 'block' : 'none';\n",
              "\n",
              "        async function convertToInteractive(key) {\n",
              "          const element = document.querySelector('#df-d26fe3c9-32b8-4c09-8880-6dd78d9ccdf5');\n",
              "          const dataTable =\n",
              "            await google.colab.kernel.invokeFunction('convertToInteractive',\n",
              "                                                     [key], {});\n",
              "          if (!dataTable) return;\n",
              "\n",
              "          const docLinkHtml = 'Like what you see? Visit the ' +\n",
              "            '<a target=\"_blank\" href=https://colab.research.google.com/notebooks/data_table.ipynb>data table notebook</a>'\n",
              "            + ' to learn more about interactive tables.';\n",
              "          element.innerHTML = '';\n",
              "          dataTable['output_type'] = 'display_data';\n",
              "          await google.colab.output.renderOutput(dataTable, element);\n",
              "          const docLink = document.createElement('div');\n",
              "          docLink.innerHTML = docLinkHtml;\n",
              "          element.appendChild(docLink);\n",
              "        }\n",
              "      </script>\n",
              "    </div>\n",
              "  </div>\n",
              "  "
            ]
          },
          "metadata": {},
          "execution_count": 37
        }
      ]
    },
    {
      "cell_type": "markdown",
      "source": [
        "# VISUALIZATIONS"
      ],
      "metadata": {
        "id": "y5FfEQyiSppo"
      }
    },
    {
      "cell_type": "markdown",
      "source": [
        "### US and States overall"
      ],
      "metadata": {
        "id": "mqn9kn6qeWC-"
      }
    },
    {
      "cell_type": "code",
      "source": [
        "# HIGHEST MEAN AND MEDIAN DEATH RATES APPEAR TO BE CONCENTRATED ON SOUTHERN STATES\n",
        "# HAWAII HAS THE LOWEST RATES\n",
        "# Mean death rate - \n",
        "\n",
        "plt.figure(figsize=(11, 5))\n",
        "df.groupby(['State'])['Age-adjusted Death Rate'].mean().sort_values(ascending=False).plot(kind='bar')\n",
        "plt.title('Average Death Rate 1999-2016 - US and States')"
      ],
      "metadata": {
        "colab": {
          "base_uri": "https://localhost:8080/",
          "height": 457
        },
        "id": "yVyeGNuJ2qyj",
        "outputId": "c18a9e21-b246-4329-e3f6-ef776477445c"
      },
      "execution_count": 63,
      "outputs": [
        {
          "output_type": "execute_result",
          "data": {
            "text/plain": [
              "Text(0.5, 1.0, 'Average Death Rate 1999-2016 - US and States')"
            ]
          },
          "metadata": {},
          "execution_count": 63
        },
        {
          "output_type": "display_data",
          "data": {
            "text/plain": [
              "<Figure size 792x360 with 1 Axes>"
            ],
            "image/png": "[encoded data removed]"
          },
          "metadata": {
            "needs_background": "light"
          }
        }
      ]
    },
    {
      "cell_type": "code",
      "source": [
        "# Median death rate\n",
        "\n",
        "plt.figure(figsize=(11, 5))\n",
        "df.groupby(['State'])['Age-adjusted Death Rate'].median().sort_values(ascending=False).plot(kind='bar')\n",
        "plt.title('Median Death Rate 1999-2016 - US and States')"
      ],
      "metadata": {
        "colab": {
          "base_uri": "https://localhost:8080/",
          "height": 457
        },
        "id": "LKW5CrnA2qf3",
        "outputId": "e088f99c-f60b-4fc8-96bc-cf95127c049b"
      },
      "execution_count": 65,
      "outputs": [
        {
          "output_type": "execute_result",
          "data": {
            "text/plain": [
              "Text(0.5, 1.0, 'Median Death Rate 1999-2016 - US and States')"
            ]
          },
          "metadata": {},
          "execution_count": 65
        },
        {
          "output_type": "display_data",
          "data": {
            "text/plain": [
              "<Figure size 792x360 with 1 Axes>"
            ],
            "image/png": "[encoded data removed]"
          },
          "metadata": {
            "needs_background": "light"
          }
        }
      ]
    },
    {
      "cell_type": "code",
      "source": [
        "dfUS = df[df['State'] == 'United States']\n",
        "dfUS.head(2)"
      ],
      "metadata": {
        "colab": {
          "base_uri": "https://localhost:8080/",
          "height": 112
        },
        "id": "6e1u0IvJRV_a",
        "outputId": "a3f2116a-97a2-4ae1-8018-157ee20cd382"
      },
      "execution_count": 38,
      "outputs": [
        {
          "output_type": "execute_result",
          "data": {
            "text/plain": [
              "     Year Cause Name          State  Deaths  Age-adjusted Death Rate  \\\n",
              "489  2000    Suicide  United States   29350                     10.4   \n",
              "510  1999    Suicide  United States   29199                     10.5   \n",
              "\n",
              "     W_Deaths  W_Age Adjusted Death Rate Region  State_dum  \n",
              "489     12036                       10.4     US          1  \n",
              "510     12036                       10.5     US          1  "
            ],
            "text/html": [
              "\n",
              "  <div id=\"df-88b50633-1821-4615-a1a9-f114423e693e\">\n",
              "    <div class=\"colab-df-container\">\n",
              "      <div>\n",
              "<style scoped>\n",
              "    .dataframe tbody tr th:only-of-type {\n",
              "        vertical-align: middle;\n",
              "    }\n",
              "\n",
              "    .dataframe tbody tr th {\n",
              "        vertical-align: top;\n",
              "    }\n",
              "\n",
              "    .dataframe thead th {\n",
              "        text-align: right;\n",
              "    }\n",
              "</style>\n",
              "<table border=\"1\" class=\"dataframe\">\n",
              "  <thead>\n",
              "    <tr style=\"text-align: right;\">\n",
              "      <th></th>\n",
              "      <th>Year</th>\n",
              "      <th>Cause Name</th>\n",
              "      <th>State</th>\n",
              "      <th>Deaths</th>\n",
              "      <th>Age-adjusted Death Rate</th>\n",
              "      <th>W_Deaths</th>\n",
              "      <th>W_Age Adjusted Death Rate</th>\n",
              "      <th>Region</th>\n",
              "      <th>State_dum</th>\n",
              "    </tr>\n",
              "  </thead>\n",
              "  <tbody>\n",
              "    <tr>\n",
              "      <th>489</th>\n",
              "      <td>2000</td>\n",
              "      <td>Suicide</td>\n",
              "      <td>United States</td>\n",
              "      <td>29350</td>\n",
              "      <td>10.4</td>\n",
              "      <td>12036</td>\n",
              "      <td>10.4</td>\n",
              "      <td>US</td>\n",
              "      <td>1</td>\n",
              "    </tr>\n",
              "    <tr>\n",
              "      <th>510</th>\n",
              "      <td>1999</td>\n",
              "      <td>Suicide</td>\n",
              "      <td>United States</td>\n",
              "      <td>29199</td>\n",
              "      <td>10.5</td>\n",
              "      <td>12036</td>\n",
              "      <td>10.5</td>\n",
              "      <td>US</td>\n",
              "      <td>1</td>\n",
              "    </tr>\n",
              "  </tbody>\n",
              "</table>\n",
              "</div>\n",
              "      <button class=\"colab-df-convert\" onclick=\"convertToInteractive('df-88b50633-1821-4615-a1a9-f114423e693e')\"\n",
              "              title=\"Convert this dataframe to an interactive table.\"\n",
              "              style=\"display:none;\">\n",
              "        \n",
              "  <svg xmlns=\"http://www.w3.org/2000/svg\" height=\"24px\"viewBox=\"0 0 24 24\"\n",
              "       width=\"24px\">\n",
              "    <path d=\"M0 0h24v24H0V0z\" fill=\"none\"/>\n",
              "    <path d=\"M18.56 5.44l.94 2.06.94-2.06 2.06-.94-2.06-.94-.94-2.06-.94 2.06-2.06.94zm-11 1L8.5 8.5l.94-2.06 2.06-.94-2.06-.94L8.5 2.5l-.94 2.06-2.06.94zm10 10l.94 2.06.94-2.06 2.06-.94-2.06-.94-.94-2.06-.94 2.06-2.06.94z\"/><path d=\"M17.41 7.96l-1.37-1.37c-.4-.4-.92-.59-1.43-.59-.52 0-1.04.2-1.43.59L10.3 9.45l-7.72 7.72c-.78.78-.78 2.05 0 2.83L4 21.41c.39.39.9.59 1.41.59.51 0 1.02-.2 1.41-.59l7.78-7.78 2.81-2.81c.8-.78.8-2.07 0-2.86zM5.41 20L4 18.59l7.72-7.72 1.47 1.35L5.41 20z\"/>\n",
              "  </svg>\n",
              "      </button>\n",
              "      \n",
              "  <style>\n",
              "    .colab-df-container {\n",
              "      display:flex;\n",
              "      flex-wrap:wrap;\n",
              "      gap: 12px;\n",
              "    }\n",
              "\n",
              "    .colab-df-convert {\n",
              "      background-color: #E8F0FE;\n",
              "      border: none;\n",
              "      border-radius: 50%;\n",
              "      cursor: pointer;\n",
              "      display: none;\n",
              "      fill: #1967D2;\n",
              "      height: 32px;\n",
              "      padding: 0 0 0 0;\n",
              "      width: 32px;\n",
              "    }\n",
              "\n",
              "    .colab-df-convert:hover {\n",
              "      background-color: #E2EBFA;\n",
              "      box-shadow: 0px 1px 2px rgba(60, 64, 67, 0.3), 0px 1px 3px 1px rgba(60, 64, 67, 0.15);\n",
              "      fill: #174EA6;\n",
              "    }\n",
              "\n",
              "    [theme=dark] .colab-df-convert {\n",
              "      background-color: #3B4455;\n",
              "      fill: #D2E3FC;\n",
              "    }\n",
              "\n",
              "    [theme=dark] .colab-df-convert:hover {\n",
              "      background-color: #434B5C;\n",
              "      box-shadow: 0px 1px 3px 1px rgba(0, 0, 0, 0.15);\n",
              "      filter: drop-shadow(0px 1px 2px rgba(0, 0, 0, 0.3));\n",
              "      fill: #FFFFFF;\n",
              "    }\n",
              "  </style>\n",
              "\n",
              "      <script>\n",
              "        const buttonEl =\n",
              "          document.querySelector('#df-88b50633-1821-4615-a1a9-f114423e693e button.colab-df-convert');\n",
              "        buttonEl.style.display =\n",
              "          google.colab.kernel.accessAllowed ? 'block' : 'none';\n",
              "\n",
              "        async function convertToInteractive(key) {\n",
              "          const element = document.querySelector('#df-88b50633-1821-4615-a1a9-f114423e693e');\n",
              "          const dataTable =\n",
              "            await google.colab.kernel.invokeFunction('convertToInteractive',\n",
              "                                                     [key], {});\n",
              "          if (!dataTable) return;\n",
              "\n",
              "          const docLinkHtml = 'Like what you see? Visit the ' +\n",
              "            '<a target=\"_blank\" href=https://colab.research.google.com/notebooks/data_table.ipynb>data table notebook</a>'\n",
              "            + ' to learn more about interactive tables.';\n",
              "          element.innerHTML = '';\n",
              "          dataTable['output_type'] = 'display_data';\n",
              "          await google.colab.output.renderOutput(dataTable, element);\n",
              "          const docLink = document.createElement('div');\n",
              "          docLink.innerHTML = docLinkHtml;\n",
              "          element.appendChild(docLink);\n",
              "        }\n",
              "      </script>\n",
              "    </div>\n",
              "  </div>\n",
              "  "
            ]
          },
          "metadata": {},
          "execution_count": 38
        }
      ]
    },
    {
      "cell_type": "code",
      "source": [
        "# TOTAL, AVERAGE, MEDIAN NUMBER DEATHS\n",
        "\n",
        "plt.figure(figsize=(10, 4))\n",
        "dfUS.groupby(['Year'])['Deaths'].sum().plot()\n",
        "plt.title('US - Total Number of Deaths 1999-2016')"
      ],
      "metadata": {
        "colab": {
          "base_uri": "https://localhost:8080/",
          "height": 313
        },
        "id": "LuL9RNuZRWCh",
        "outputId": "e1951efc-477d-41c6-8775-04ace2b8d1d3"
      },
      "execution_count": 39,
      "outputs": [
        {
          "output_type": "execute_result",
          "data": {
            "text/plain": [
              "Text(0.5, 1.0, 'US - Total Number of Deaths 1999-2016')"
            ]
          },
          "metadata": {},
          "execution_count": 39
        },
        {
          "output_type": "display_data",
          "data": {
            "text/plain": [
              "<Figure size 720x288 with 1 Axes>"
            ],
            "image/png": "[encoded data removed]"
          },
          "metadata": {
            "needs_background": "light"
          }
        }
      ]
    },
    {
      "cell_type": "code",
      "source": [
        "\n",
        "plt.figure(figsize=(10, 4))\n",
        "dfUS.groupby(['Year'])['Deaths'].mean().plot()\n",
        "plt.title('US - Mean Number of Deaths 1999-2016')"
      ],
      "metadata": {
        "colab": {
          "base_uri": "https://localhost:8080/",
          "height": 313
        },
        "id": "4jthBAWHRWGZ",
        "outputId": "52f68642-28b5-4057-cfed-6637fdbf7f26"
      },
      "execution_count": 40,
      "outputs": [
        {
          "output_type": "execute_result",
          "data": {
            "text/plain": [
              "Text(0.5, 1.0, 'US - Mean Number of Deaths 1999-2016')"
            ]
          },
          "metadata": {},
          "execution_count": 40
        },
        {
          "output_type": "display_data",
          "data": {
            "text/plain": [
              "<Figure size 720x288 with 1 Axes>"
            ],
            "image/png": "[encoded data removed]"
          },
          "metadata": {
            "needs_background": "light"
          }
        }
      ]
    },
    {
      "cell_type": "code",
      "source": [
        "plt.figure(figsize=(10, 4))\n",
        "dfUS.groupby(['Year'])['Deaths'].median().plot()\n",
        "plt.title('US - Median Number of Deaths 1999-2016')\n"
      ],
      "metadata": {
        "colab": {
          "base_uri": "https://localhost:8080/",
          "height": 313
        },
        "id": "mBSFLhfGRWKE",
        "outputId": "4ca686cf-30b3-4db3-97b6-22fe0d1c509a"
      },
      "execution_count": 41,
      "outputs": [
        {
          "output_type": "execute_result",
          "data": {
            "text/plain": [
              "Text(0.5, 1.0, 'US - Median Number of Deaths 1999-2016')"
            ]
          },
          "metadata": {},
          "execution_count": 41
        },
        {
          "output_type": "display_data",
          "data": {
            "text/plain": [
              "<Figure size 720x288 with 1 Axes>"
            ],
            "image/png": "[encoded data removed]"
          },
          "metadata": {
            "needs_background": "light"
          }
        }
      ]
    },
    {
      "cell_type": "markdown",
      "source": [
        "## Causes"
      ],
      "metadata": {
        "id": "RDGKs_gF4_V0"
      }
    },
    {
      "cell_type": "code",
      "source": [
        "# HEART DISIEASE AND CANCER ARE THE LEADING CAUSES OF DEATH - BY FAR\n",
        "\n",
        "# leading cause of death over the period\n",
        "df.groupby(['Cause Name'])['Deaths'].sum().sort_values(ascending=False)"
      ],
      "metadata": {
        "colab": {
          "base_uri": "https://localhost:8080/"
        },
        "id": "d64x2wmGRWOB",
        "outputId": "3e356f99-953c-4def-fd82-097a6629c818"
      },
      "execution_count": 42,
      "outputs": [
        {
          "output_type": "execute_result",
          "data": {
            "text/plain": [
              "Cause Name\n",
              "All causes                 89830132\n",
              "Heart disease              23150366\n",
              "Cancer                     20489072\n",
              "Stroke                      5160280\n",
              "CLRD                        4869452\n",
              "Unintentional injuries      4355768\n",
              "Alzheimer's disease         2746824\n",
              "Diabetes                    2632758\n",
              "Influenza and pneumonia     2077938\n",
              "Kidney disease              1615960\n",
              "Suicide                     1299686\n",
              "Name: Deaths, dtype: int64"
            ]
          },
          "metadata": {},
          "execution_count": 42
        }
      ]
    },
    {
      "cell_type": "code",
      "source": [
        "# remove 'All cause' and plot\n",
        "# heart disease and cancer by far = leading causes of death in US\n",
        "df2 = df[df['Cause Name'] != 'All causes']\n",
        "df2.groupby(['Cause Name'])['Deaths'].sum().sort_values(ascending=False).plot(kind='bar')"
      ],
      "metadata": {
        "colab": {
          "base_uri": "https://localhost:8080/",
          "height": 425
        },
        "id": "kmgsciloRWRv",
        "outputId": "7ed7b547-bf80-4c4e-cde8-df75f4971385"
      },
      "execution_count": 43,
      "outputs": [
        {
          "output_type": "execute_result",
          "data": {
            "text/plain": [
              "<matplotlib.axes._subplots.AxesSubplot at 0x7f46c1d99a10>"
            ]
          },
          "metadata": {},
          "execution_count": 43
        },
        {
          "output_type": "display_data",
          "data": {
            "text/plain": [
              "<Figure size 432x288 with 1 Axes>"
            ],
            "image/png": "[encoded data removed]"
          },
          "metadata": {
            "needs_background": "light"
          }
        }
      ]
    },
    {
      "cell_type": "code",
      "source": [
        "# WHERE ARE THE LEADING CAUSES OF DEATH CONCENTRATED\n",
        "# Heart Disease concentrated in the South\n",
        "\n",
        "dfHeartD = df[df['Cause Name'] == 'Heart disease']\n",
        "dfHeartD.head(3)"
      ],
      "metadata": {
        "colab": {
          "base_uri": "https://localhost:8080/",
          "height": 143
        },
        "id": "68-HftzpRWV7",
        "outputId": "6790df4c-ff67-43fc-ed79-18d4b2771a44"
      },
      "execution_count": 44,
      "outputs": [
        {
          "output_type": "execute_result",
          "data": {
            "text/plain": [
              "      Year     Cause Name      State  Deaths  Age-adjusted Death Rate  \\\n",
              "7488  2016  Heart disease  Minnesota    7825                    114.9   \n",
              "7489  2014  Heart disease  Minnesota    7659                    116.5   \n",
              "7490  2015  Heart disease  Minnesota    7844                    116.6   \n",
              "\n",
              "      W_Deaths  W_Age Adjusted Death Rate Region  State_dum  \n",
              "7488      7825                      114.9     MW          0  \n",
              "7489      7659                      116.5     MW          0  \n",
              "7490      7844                      116.6     MW          0  "
            ],
            "text/html": [
              "\n",
              "  <div id=\"df-9b581d44-cb26-48af-b10a-49fb216a5be9\">\n",
              "    <div class=\"colab-df-container\">\n",
              "      <div>\n",
              "<style scoped>\n",
              "    .dataframe tbody tr th:only-of-type {\n",
              "        vertical-align: middle;\n",
              "    }\n",
              "\n",
              "    .dataframe tbody tr th {\n",
              "        vertical-align: top;\n",
              "    }\n",
              "\n",
              "    .dataframe thead th {\n",
              "        text-align: right;\n",
              "    }\n",
              "</style>\n",
              "<table border=\"1\" class=\"dataframe\">\n",
              "  <thead>\n",
              "    <tr style=\"text-align: right;\">\n",
              "      <th></th>\n",
              "      <th>Year</th>\n",
              "      <th>Cause Name</th>\n",
              "      <th>State</th>\n",
              "      <th>Deaths</th>\n",
              "      <th>Age-adjusted Death Rate</th>\n",
              "      <th>W_Deaths</th>\n",
              "      <th>W_Age Adjusted Death Rate</th>\n",
              "      <th>Region</th>\n",
              "      <th>State_dum</th>\n",
              "    </tr>\n",
              "  </thead>\n",
              "  <tbody>\n",
              "    <tr>\n",
              "      <th>7488</th>\n",
              "      <td>2016</td>\n",
              "      <td>Heart disease</td>\n",
              "      <td>Minnesota</td>\n",
              "      <td>7825</td>\n",
              "      <td>114.9</td>\n",
              "      <td>7825</td>\n",
              "      <td>114.9</td>\n",
              "      <td>MW</td>\n",
              "      <td>0</td>\n",
              "    </tr>\n",
              "    <tr>\n",
              "      <th>7489</th>\n",
              "      <td>2014</td>\n",
              "      <td>Heart disease</td>\n",
              "      <td>Minnesota</td>\n",
              "      <td>7659</td>\n",
              "      <td>116.5</td>\n",
              "      <td>7659</td>\n",
              "      <td>116.5</td>\n",
              "      <td>MW</td>\n",
              "      <td>0</td>\n",
              "    </tr>\n",
              "    <tr>\n",
              "      <th>7490</th>\n",
              "      <td>2015</td>\n",
              "      <td>Heart disease</td>\n",
              "      <td>Minnesota</td>\n",
              "      <td>7844</td>\n",
              "      <td>116.6</td>\n",
              "      <td>7844</td>\n",
              "      <td>116.6</td>\n",
              "      <td>MW</td>\n",
              "      <td>0</td>\n",
              "    </tr>\n",
              "  </tbody>\n",
              "</table>\n",
              "</div>\n",
              "      <button class=\"colab-df-convert\" onclick=\"convertToInteractive('df-9b581d44-cb26-48af-b10a-49fb216a5be9')\"\n",
              "              title=\"Convert this dataframe to an interactive table.\"\n",
              "              style=\"display:none;\">\n",
              "        \n",
              "  <svg xmlns=\"http://www.w3.org/2000/svg\" height=\"24px\"viewBox=\"0 0 24 24\"\n",
              "       width=\"24px\">\n",
              "    <path d=\"M0 0h24v24H0V0z\" fill=\"none\"/>\n",
              "    <path d=\"M18.56 5.44l.94 2.06.94-2.06 2.06-.94-2.06-.94-.94-2.06-.94 2.06-2.06.94zm-11 1L8.5 8.5l.94-2.06 2.06-.94-2.06-.94L8.5 2.5l-.94 2.06-2.06.94zm10 10l.94 2.06.94-2.06 2.06-.94-2.06-.94-.94-2.06-.94 2.06-2.06.94z\"/><path d=\"M17.41 7.96l-1.37-1.37c-.4-.4-.92-.59-1.43-.59-.52 0-1.04.2-1.43.59L10.3 9.45l-7.72 7.72c-.78.78-.78 2.05 0 2.83L4 21.41c.39.39.9.59 1.41.59.51 0 1.02-.2 1.41-.59l7.78-7.78 2.81-2.81c.8-.78.8-2.07 0-2.86zM5.41 20L4 18.59l7.72-7.72 1.47 1.35L5.41 20z\"/>\n",
              "  </svg>\n",
              "      </button>\n",
              "      \n",
              "  <style>\n",
              "    .colab-df-container {\n",
              "      display:flex;\n",
              "      flex-wrap:wrap;\n",
              "      gap: 12px;\n",
              "    }\n",
              "\n",
              "    .colab-df-convert {\n",
              "      background-color: #E8F0FE;\n",
              "      border: none;\n",
              "      border-radius: 50%;\n",
              "      cursor: pointer;\n",
              "      display: none;\n",
              "      fill: #1967D2;\n",
              "      height: 32px;\n",
              "      padding: 0 0 0 0;\n",
              "      width: 32px;\n",
              "    }\n",
              "\n",
              "    .colab-df-convert:hover {\n",
              "      background-color: #E2EBFA;\n",
              "      box-shadow: 0px 1px 2px rgba(60, 64, 67, 0.3), 0px 1px 3px 1px rgba(60, 64, 67, 0.15);\n",
              "      fill: #174EA6;\n",
              "    }\n",
              "\n",
              "    [theme=dark] .colab-df-convert {\n",
              "      background-color: #3B4455;\n",
              "      fill: #D2E3FC;\n",
              "    }\n",
              "\n",
              "    [theme=dark] .colab-df-convert:hover {\n",
              "      background-color: #434B5C;\n",
              "      box-shadow: 0px 1px 3px 1px rgba(0, 0, 0, 0.15);\n",
              "      filter: drop-shadow(0px 1px 2px rgba(0, 0, 0, 0.3));\n",
              "      fill: #FFFFFF;\n",
              "    }\n",
              "  </style>\n",
              "\n",
              "      <script>\n",
              "        const buttonEl =\n",
              "          document.querySelector('#df-9b581d44-cb26-48af-b10a-49fb216a5be9 button.colab-df-convert');\n",
              "        buttonEl.style.display =\n",
              "          google.colab.kernel.accessAllowed ? 'block' : 'none';\n",
              "\n",
              "        async function convertToInteractive(key) {\n",
              "          const element = document.querySelector('#df-9b581d44-cb26-48af-b10a-49fb216a5be9');\n",
              "          const dataTable =\n",
              "            await google.colab.kernel.invokeFunction('convertToInteractive',\n",
              "                                                     [key], {});\n",
              "          if (!dataTable) return;\n",
              "\n",
              "          const docLinkHtml = 'Like what you see? Visit the ' +\n",
              "            '<a target=\"_blank\" href=https://colab.research.google.com/notebooks/data_table.ipynb>data table notebook</a>'\n",
              "            + ' to learn more about interactive tables.';\n",
              "          element.innerHTML = '';\n",
              "          dataTable['output_type'] = 'display_data';\n",
              "          await google.colab.output.renderOutput(dataTable, element);\n",
              "          const docLink = document.createElement('div');\n",
              "          docLink.innerHTML = docLinkHtml;\n",
              "          element.appendChild(docLink);\n",
              "        }\n",
              "      </script>\n",
              "    </div>\n",
              "  </div>\n",
              "  "
            ]
          },
          "metadata": {},
          "execution_count": 44
        }
      ]
    },
    {
      "cell_type": "code",
      "source": [
        "plt.figure(figsize=(11,6))\n",
        "dfHeartD.groupby(['Region'])['Age-adjusted Death Rate'].median().sort_values(ascending=False).plot(kind='bar')\n",
        "plt.title('Heart Disease Median Death Rate by Region')"
      ],
      "metadata": {
        "colab": {
          "base_uri": "https://localhost:8080/",
          "height": 431
        },
        "id": "Q2ceW5XbRWZY",
        "outputId": "c4f843c6-a719-41e9-bafc-e7a37ae5d6f9"
      },
      "execution_count": 47,
      "outputs": [
        {
          "output_type": "execute_result",
          "data": {
            "text/plain": [
              "Text(0.5, 1.0, 'Heart Disease Median Death Rate by Region')"
            ]
          },
          "metadata": {},
          "execution_count": 47
        },
        {
          "output_type": "display_data",
          "data": {
            "text/plain": [
              "<Figure size 792x432 with 1 Axes>"
            ],
            "image/png": "[encoded data removed]"
          },
          "metadata": {
            "needs_background": "light"
          }
        }
      ]
    },
    {
      "cell_type": "code",
      "source": [
        "plt.figure(figsize=(11,6))\n",
        "dfHeartD.groupby(['State'])['Age-adjusted Death Rate'].median().sort_values(ascending=False).plot(kind='bar')\n",
        "plt.title('Heart Disease Median Death Rate by State')"
      ],
      "metadata": {
        "colab": {
          "base_uri": "https://localhost:8080/",
          "height": 511
        },
        "id": "CC9oi_ssvG75",
        "outputId": "42a20413-1a83-44c0-e90a-f9e908dd9f48"
      },
      "execution_count": 48,
      "outputs": [
        {
          "output_type": "execute_result",
          "data": {
            "text/plain": [
              "Text(0.5, 1.0, 'Heart Disease Median Death Rate by State')"
            ]
          },
          "metadata": {},
          "execution_count": 48
        },
        {
          "output_type": "display_data",
          "data": {
            "text/plain": [
              "<Figure size 792x432 with 1 Axes>"
            ],
            "image/png": "[encoded data removed]"
          },
          "metadata": {
            "needs_background": "light"
          }
        }
      ]
    },
    {
      "cell_type": "code",
      "source": [
        "dfCancer = df[df['Cause Name'] == 'Cancer']\n",
        "dfCancer.head(3)"
      ],
      "metadata": {
        "colab": {
          "base_uri": "https://localhost:8080/",
          "height": 143
        },
        "id": "dd7syja35psy",
        "outputId": "a5ad8e6a-7a75-4182-a160-11ed3c4ba93f"
      },
      "execution_count": 66,
      "outputs": [
        {
          "output_type": "execute_result",
          "data": {
            "text/plain": [
              "      Year Cause Name State  Deaths  Age-adjusted Death Rate  W_Deaths  \\\n",
              "7496  2016     Cancer  Utah    3125                    122.4      3125   \n",
              "7497  2009     Cancer  Utah    2555                    124.7      2555   \n",
              "7498  2015     Cancer  Utah    3091                    125.2      3091   \n",
              "\n",
              "      W_Age Adjusted Death Rate Region  State_dum  \n",
              "7496                      122.4      W          0  \n",
              "7497                      124.7      W          0  \n",
              "7498                      125.2      W          0  "
            ],
            "text/html": [
              "\n",
              "  <div id=\"df-4bb507c9-62f1-4f58-a38d-33252941d305\">\n",
              "    <div class=\"colab-df-container\">\n",
              "      <div>\n",
              "<style scoped>\n",
              "    .dataframe tbody tr th:only-of-type {\n",
              "        vertical-align: middle;\n",
              "    }\n",
              "\n",
              "    .dataframe tbody tr th {\n",
              "        vertical-align: top;\n",
              "    }\n",
              "\n",
              "    .dataframe thead th {\n",
              "        text-align: right;\n",
              "    }\n",
              "</style>\n",
              "<table border=\"1\" class=\"dataframe\">\n",
              "  <thead>\n",
              "    <tr style=\"text-align: right;\">\n",
              "      <th></th>\n",
              "      <th>Year</th>\n",
              "      <th>Cause Name</th>\n",
              "      <th>State</th>\n",
              "      <th>Deaths</th>\n",
              "      <th>Age-adjusted Death Rate</th>\n",
              "      <th>W_Deaths</th>\n",
              "      <th>W_Age Adjusted Death Rate</th>\n",
              "      <th>Region</th>\n",
              "      <th>State_dum</th>\n",
              "    </tr>\n",
              "  </thead>\n",
              "  <tbody>\n",
              "    <tr>\n",
              "      <th>7496</th>\n",
              "      <td>2016</td>\n",
              "      <td>Cancer</td>\n",
              "      <td>Utah</td>\n",
              "      <td>3125</td>\n",
              "      <td>122.4</td>\n",
              "      <td>3125</td>\n",
              "      <td>122.4</td>\n",
              "      <td>W</td>\n",
              "      <td>0</td>\n",
              "    </tr>\n",
              "    <tr>\n",
              "      <th>7497</th>\n",
              "      <td>2009</td>\n",
              "      <td>Cancer</td>\n",
              "      <td>Utah</td>\n",
              "      <td>2555</td>\n",
              "      <td>124.7</td>\n",
              "      <td>2555</td>\n",
              "      <td>124.7</td>\n",
              "      <td>W</td>\n",
              "      <td>0</td>\n",
              "    </tr>\n",
              "    <tr>\n",
              "      <th>7498</th>\n",
              "      <td>2015</td>\n",
              "      <td>Cancer</td>\n",
              "      <td>Utah</td>\n",
              "      <td>3091</td>\n",
              "      <td>125.2</td>\n",
              "      <td>3091</td>\n",
              "      <td>125.2</td>\n",
              "      <td>W</td>\n",
              "      <td>0</td>\n",
              "    </tr>\n",
              "  </tbody>\n",
              "</table>\n",
              "</div>\n",
              "      <button class=\"colab-df-convert\" onclick=\"convertToInteractive('df-4bb507c9-62f1-4f58-a38d-33252941d305')\"\n",
              "              title=\"Convert this dataframe to an interactive table.\"\n",
              "              style=\"display:none;\">\n",
              "        \n",
              "  <svg xmlns=\"http://www.w3.org/2000/svg\" height=\"24px\"viewBox=\"0 0 24 24\"\n",
              "       width=\"24px\">\n",
              "    <path d=\"M0 0h24v24H0V0z\" fill=\"none\"/>\n",
              "    <path d=\"M18.56 5.44l.94 2.06.94-2.06 2.06-.94-2.06-.94-.94-2.06-.94 2.06-2.06.94zm-11 1L8.5 8.5l.94-2.06 2.06-.94-2.06-.94L8.5 2.5l-.94 2.06-2.06.94zm10 10l.94 2.06.94-2.06 2.06-.94-2.06-.94-.94-2.06-.94 2.06-2.06.94z\"/><path d=\"M17.41 7.96l-1.37-1.37c-.4-.4-.92-.59-1.43-.59-.52 0-1.04.2-1.43.59L10.3 9.45l-7.72 7.72c-.78.78-.78 2.05 0 2.83L4 21.41c.39.39.9.59 1.41.59.51 0 1.02-.2 1.41-.59l7.78-7.78 2.81-2.81c.8-.78.8-2.07 0-2.86zM5.41 20L4 18.59l7.72-7.72 1.47 1.35L5.41 20z\"/>\n",
              "  </svg>\n",
              "      </button>\n",
              "      \n",
              "  <style>\n",
              "    .colab-df-container {\n",
              "      display:flex;\n",
              "      flex-wrap:wrap;\n",
              "      gap: 12px;\n",
              "    }\n",
              "\n",
              "    .colab-df-convert {\n",
              "      background-color: #E8F0FE;\n",
              "      border: none;\n",
              "      border-radius: 50%;\n",
              "      cursor: pointer;\n",
              "      display: none;\n",
              "      fill: #1967D2;\n",
              "      height: 32px;\n",
              "      padding: 0 0 0 0;\n",
              "      width: 32px;\n",
              "    }\n",
              "\n",
              "    .colab-df-convert:hover {\n",
              "      background-color: #E2EBFA;\n",
              "      box-shadow: 0px 1px 2px rgba(60, 64, 67, 0.3), 0px 1px 3px 1px rgba(60, 64, 67, 0.15);\n",
              "      fill: #174EA6;\n",
              "    }\n",
              "\n",
              "    [theme=dark] .colab-df-convert {\n",
              "      background-color: #3B4455;\n",
              "      fill: #D2E3FC;\n",
              "    }\n",
              "\n",
              "    [theme=dark] .colab-df-convert:hover {\n",
              "      background-color: #434B5C;\n",
              "      box-shadow: 0px 1px 3px 1px rgba(0, 0, 0, 0.15);\n",
              "      filter: drop-shadow(0px 1px 2px rgba(0, 0, 0, 0.3));\n",
              "      fill: #FFFFFF;\n",
              "    }\n",
              "  </style>\n",
              "\n",
              "      <script>\n",
              "        const buttonEl =\n",
              "          document.querySelector('#df-4bb507c9-62f1-4f58-a38d-33252941d305 button.colab-df-convert');\n",
              "        buttonEl.style.display =\n",
              "          google.colab.kernel.accessAllowed ? 'block' : 'none';\n",
              "\n",
              "        async function convertToInteractive(key) {\n",
              "          const element = document.querySelector('#df-4bb507c9-62f1-4f58-a38d-33252941d305');\n",
              "          const dataTable =\n",
              "            await google.colab.kernel.invokeFunction('convertToInteractive',\n",
              "                                                     [key], {});\n",
              "          if (!dataTable) return;\n",
              "\n",
              "          const docLinkHtml = 'Like what you see? Visit the ' +\n",
              "            '<a target=\"_blank\" href=https://colab.research.google.com/notebooks/data_table.ipynb>data table notebook</a>'\n",
              "            + ' to learn more about interactive tables.';\n",
              "          element.innerHTML = '';\n",
              "          dataTable['output_type'] = 'display_data';\n",
              "          await google.colab.output.renderOutput(dataTable, element);\n",
              "          const docLink = document.createElement('div');\n",
              "          docLink.innerHTML = docLinkHtml;\n",
              "          element.appendChild(docLink);\n",
              "        }\n",
              "      </script>\n",
              "    </div>\n",
              "  </div>\n",
              "  "
            ]
          },
          "metadata": {},
          "execution_count": 66
        }
      ]
    },
    {
      "cell_type": "code",
      "source": [
        "# South also leads in death rate from cancer\n",
        "plt.figure(figsize=(11,6))\n",
        "dfCancer.groupby(['Region'])['Age-adjusted Death Rate'].median().sort_values(ascending=False).plot(kind='bar')\n",
        "plt.title('Cancer Median Death Rate by Region')"
      ],
      "metadata": {
        "colab": {
          "base_uri": "https://localhost:8080/",
          "height": 431
        },
        "id": "DnJ8lw1OvHKt",
        "outputId": "d2fda605-4483-44bf-e232-e66af5962e1d"
      },
      "execution_count": 67,
      "outputs": [
        {
          "output_type": "execute_result",
          "data": {
            "text/plain": [
              "Text(0.5, 1.0, 'Cancer Median Death Rate by Region')"
            ]
          },
          "metadata": {},
          "execution_count": 67
        },
        {
          "output_type": "display_data",
          "data": {
            "text/plain": [
              "<Figure size 792x432 with 1 Axes>"
            ],
            "image/png": "[encoded data removed]"
          },
          "metadata": {
            "needs_background": "light"
          }
        }
      ]
    },
    {
      "cell_type": "code",
      "source": [
        "plt.figure(figsize=(11,6))\n",
        "dfCancer.groupby(['State'])['Age-adjusted Death Rate'].median().sort_values(ascending=False).plot(kind='bar')\n",
        "plt.title('Cancer Median Death Rate - US and States')"
      ],
      "metadata": {
        "colab": {
          "base_uri": "https://localhost:8080/",
          "height": 511
        },
        "id": "t0Vrbz5WvHOb",
        "outputId": "f3711769-2371-426f-c3b9-9ac96f671611"
      },
      "execution_count": 69,
      "outputs": [
        {
          "output_type": "execute_result",
          "data": {
            "text/plain": [
              "Text(0.5, 1.0, 'Cancer Median Death Rate - US and States')"
            ]
          },
          "metadata": {},
          "execution_count": 69
        },
        {
          "output_type": "display_data",
          "data": {
            "text/plain": [
              "<Figure size 792x432 with 1 Axes>"
            ],
            "image/png": "[encoded data removed]"
          },
          "metadata": {
            "needs_background": "light"
          }
        }
      ]
    },
    {
      "cell_type": "code",
      "source": [
        "\n",
        "# cause of death by year - totals\n",
        "\n",
        "#df.groupby(by=['Year','Cause Name'])['Deaths'].sum().sort_values(ascending=False)\n",
        "df.groupby(by=['Year','Cause Name'])['Deaths'].sum().unstack()"
      ],
      "metadata": {
        "colab": {
          "base_uri": "https://localhost:8080/",
          "height": 706
        },
        "id": "CqoGJ2I4vHS_",
        "outputId": "3c3841d6-7dd3-446b-a0ef-8818676c68e1"
      },
      "execution_count": 70,
      "outputs": [
        {
          "output_type": "execute_result",
          "data": {
            "text/plain": [
              "Cause Name  All causes  Alzheimer's disease    CLRD   Cancer  Diabetes  \\\n",
              "Year                                                                     \n",
              "1999           4782798                89072  248362  1099676    136798   \n",
              "2000           4806702                99116  244018  1106182    138602   \n",
              "2001           4832850               107704  246026  1107536    142744   \n",
              "2002           4886774               117732  249632  1114542    146498   \n",
              "2003           4896576               126914  252764  1113804    148438   \n",
              "2004           4795230               131930  243974  1107776    146276   \n",
              "2005           4896034               143198  261866  1118624    150238   \n",
              "2006           4852528               144864  249166  1119776    144898   \n",
              "2007           4847424               149264  255848  1125750    142764   \n",
              "2008           4943968               164870  282180  1130938    141106   \n",
              "2009           4874326               158006  274706  1135256    137410   \n",
              "2010           4936870               166988  276160  1149486    138142   \n",
              "2011           5030916               169948  285886  1153382    147662   \n",
              "2012           5086558               167274  286978  1165246    147864   \n",
              "2013           5193986               169534  298410  1169762    151156   \n",
              "2014           5252836               187082  294202  1183400    152976   \n",
              "2015           5425260               221122  310082  1191860    159070   \n",
              "2016           5488496               232206  309192  1196076    160116   \n",
              "\n",
              "Cause Name  Heart disease  Influenza and pneumonia  Kidney disease  Stroke  \\\n",
              "Year                                                                         \n",
              "1999              1450384                   127460           71050  334732   \n",
              "2000              1421520                   130626           74502  335322   \n",
              "2001              1400284                   124068           78960  327076   \n",
              "2002              1393894                   131362           81948  325344   \n",
              "2003              1370178                   130326           84906  315378   \n",
              "2004              1304972                   119328           84960  300148   \n",
              "2005              1304182                   126002           87802  287158   \n",
              "2006              1263272                   112652           90688  274238   \n",
              "2007              1232134                   105434           92896  271904   \n",
              "2008              1233656                   112568           96474  268296   \n",
              "2009              1198826                   107384           97870  257684   \n",
              "2010              1195378                   100194          100952  258952   \n",
              "2011              1193154                   107652           91182  257864   \n",
              "2012              1199422                   101272           91244  257092   \n",
              "2013              1222210                   113958           94224  257956   \n",
              "2014              1228696                   110454           96292  266206   \n",
              "2015              1267684                   114124           99918  280646   \n",
              "2016              1270520                   103074          100092  284284   \n",
              "\n",
              "Cause Name  Suicide  Unintentional injuries  \n",
              "Year                                         \n",
              "1999          58398                  195720  \n",
              "2000          58700                  195800  \n",
              "2001          61244                  203074  \n",
              "2002          63310                  213484  \n",
              "2003          62968                  218554  \n",
              "2004          64878                  224024  \n",
              "2005          65274                  235618  \n",
              "2006          66600                  243198  \n",
              "2007          69196                  247412  \n",
              "2008          72070                  243804  \n",
              "2009          73818                  236042  \n",
              "2010          76728                  241718  \n",
              "2011          79036                  252876  \n",
              "2012          81200                  255584  \n",
              "2013          82298                  261114  \n",
              "2014          85652                  271856  \n",
              "2015          88386                  293142  \n",
              "2016          89930                  322748  "
            ],
            "text/html": [
              "\n",
              "  <div id=\"df-9c659b11-f3d4-4dd3-b0aa-78294c0fe7fd\">\n",
              "    <div class=\"colab-df-container\">\n",
              "      <div>\n",
              "<style scoped>\n",
              "    .dataframe tbody tr th:only-of-type {\n",
              "        vertical-align: middle;\n",
              "    }\n",
              "\n",
              "    .dataframe tbody tr th {\n",
              "        vertical-align: top;\n",
              "    }\n",
              "\n",
              "    .dataframe thead th {\n",
              "        text-align: right;\n",
              "    }\n",
              "</style>\n",
              "<table border=\"1\" class=\"dataframe\">\n",
              "  <thead>\n",
              "    <tr style=\"text-align: right;\">\n",
              "      <th>Cause Name</th>\n",
              "      <th>All causes</th>\n",
              "      <th>Alzheimer's disease</th>\n",
              "      <th>CLRD</th>\n",
              "      <th>Cancer</th>\n",
              "      <th>Diabetes</th>\n",
              "      <th>Heart disease</th>\n",
              "      <th>Influenza and pneumonia</th>\n",
              "      <th>Kidney disease</th>\n",
              "      <th>Stroke</th>\n",
              "      <th>Suicide</th>\n",
              "      <th>Unintentional injuries</th>\n",
              "    </tr>\n",
              "    <tr>\n",
              "      <th>Year</th>\n",
              "      <th></th>\n",
              "      <th></th>\n",
              "      <th></th>\n",
              "      <th></th>\n",
              "      <th></th>\n",
              "      <th></th>\n",
              "      <th></th>\n",
              "      <th></th>\n",
              "      <th></th>\n",
              "      <th></th>\n",
              "      <th></th>\n",
              "    </tr>\n",
              "  </thead>\n",
              "  <tbody>\n",
              "    <tr>\n",
              "      <th>1999</th>\n",
              "      <td>4782798</td>\n",
              "      <td>89072</td>\n",
              "      <td>248362</td>\n",
              "      <td>1099676</td>\n",
              "      <td>136798</td>\n",
              "      <td>1450384</td>\n",
              "      <td>127460</td>\n",
              "      <td>71050</td>\n",
              "      <td>334732</td>\n",
              "      <td>58398</td>\n",
              "      <td>195720</td>\n",
              "    </tr>\n",
              "    <tr>\n",
              "      <th>2000</th>\n",
              "      <td>4806702</td>\n",
              "      <td>99116</td>\n",
              "      <td>244018</td>\n",
              "      <td>1106182</td>\n",
              "      <td>138602</td>\n",
              "      <td>1421520</td>\n",
              "      <td>130626</td>\n",
              "      <td>74502</td>\n",
              "      <td>335322</td>\n",
              "      <td>58700</td>\n",
              "      <td>195800</td>\n",
              "    </tr>\n",
              "    <tr>\n",
              "      <th>2001</th>\n",
              "      <td>4832850</td>\n",
              "      <td>107704</td>\n",
              "      <td>246026</td>\n",
              "      <td>1107536</td>\n",
              "      <td>142744</td>\n",
              "      <td>1400284</td>\n",
              "      <td>124068</td>\n",
              "      <td>78960</td>\n",
              "      <td>327076</td>\n",
              "      <td>61244</td>\n",
              "      <td>203074</td>\n",
              "    </tr>\n",
              "    <tr>\n",
              "      <th>2002</th>\n",
              "      <td>4886774</td>\n",
              "      <td>117732</td>\n",
              "      <td>249632</td>\n",
              "      <td>1114542</td>\n",
              "      <td>146498</td>\n",
              "      <td>1393894</td>\n",
              "      <td>131362</td>\n",
              "      <td>81948</td>\n",
              "      <td>325344</td>\n",
              "      <td>63310</td>\n",
              "      <td>213484</td>\n",
              "    </tr>\n",
              "    <tr>\n",
              "      <th>2003</th>\n",
              "      <td>4896576</td>\n",
              "      <td>126914</td>\n",
              "      <td>252764</td>\n",
              "      <td>1113804</td>\n",
              "      <td>148438</td>\n",
              "      <td>1370178</td>\n",
              "      <td>130326</td>\n",
              "      <td>84906</td>\n",
              "      <td>315378</td>\n",
              "      <td>62968</td>\n",
              "      <td>218554</td>\n",
              "    </tr>\n",
              "    <tr>\n",
              "      <th>2004</th>\n",
              "      <td>4795230</td>\n",
              "      <td>131930</td>\n",
              "      <td>243974</td>\n",
              "      <td>1107776</td>\n",
              "      <td>146276</td>\n",
              "      <td>1304972</td>\n",
              "      <td>119328</td>\n",
              "      <td>84960</td>\n",
              "      <td>300148</td>\n",
              "      <td>64878</td>\n",
              "      <td>224024</td>\n",
              "    </tr>\n",
              "    <tr>\n",
              "      <th>2005</th>\n",
              "      <td>4896034</td>\n",
              "      <td>143198</td>\n",
              "      <td>261866</td>\n",
              "      <td>1118624</td>\n",
              "      <td>150238</td>\n",
              "      <td>1304182</td>\n",
              "      <td>126002</td>\n",
              "      <td>87802</td>\n",
              "      <td>287158</td>\n",
              "      <td>65274</td>\n",
              "      <td>235618</td>\n",
              "    </tr>\n",
              "    <tr>\n",
              "      <th>2006</th>\n",
              "      <td>4852528</td>\n",
              "      <td>144864</td>\n",
              "      <td>249166</td>\n",
              "      <td>1119776</td>\n",
              "      <td>144898</td>\n",
              "      <td>1263272</td>\n",
              "      <td>112652</td>\n",
              "      <td>90688</td>\n",
              "      <td>274238</td>\n",
              "      <td>66600</td>\n",
              "      <td>243198</td>\n",
              "    </tr>\n",
              "    <tr>\n",
              "      <th>2007</th>\n",
              "      <td>4847424</td>\n",
              "      <td>149264</td>\n",
              "      <td>255848</td>\n",
              "      <td>1125750</td>\n",
              "      <td>142764</td>\n",
              "      <td>1232134</td>\n",
              "      <td>105434</td>\n",
              "      <td>92896</td>\n",
              "      <td>271904</td>\n",
              "      <td>69196</td>\n",
              "      <td>247412</td>\n",
              "    </tr>\n",
              "    <tr>\n",
              "      <th>2008</th>\n",
              "      <td>4943968</td>\n",
              "      <td>164870</td>\n",
              "      <td>282180</td>\n",
              "      <td>1130938</td>\n",
              "      <td>141106</td>\n",
              "      <td>1233656</td>\n",
              "      <td>112568</td>\n",
              "      <td>96474</td>\n",
              "      <td>268296</td>\n",
              "      <td>72070</td>\n",
              "      <td>243804</td>\n",
              "    </tr>\n",
              "    <tr>\n",
              "      <th>2009</th>\n",
              "      <td>4874326</td>\n",
              "      <td>158006</td>\n",
              "      <td>274706</td>\n",
              "      <td>1135256</td>\n",
              "      <td>137410</td>\n",
              "      <td>1198826</td>\n",
              "      <td>107384</td>\n",
              "      <td>97870</td>\n",
              "      <td>257684</td>\n",
              "      <td>73818</td>\n",
              "      <td>236042</td>\n",
              "    </tr>\n",
              "    <tr>\n",
              "      <th>2010</th>\n",
              "      <td>4936870</td>\n",
              "      <td>166988</td>\n",
              "      <td>276160</td>\n",
              "      <td>1149486</td>\n",
              "      <td>138142</td>\n",
              "      <td>1195378</td>\n",
              "      <td>100194</td>\n",
              "      <td>100952</td>\n",
              "      <td>258952</td>\n",
              "      <td>76728</td>\n",
              "      <td>241718</td>\n",
              "    </tr>\n",
              "    <tr>\n",
              "      <th>2011</th>\n",
              "      <td>5030916</td>\n",
              "      <td>169948</td>\n",
              "      <td>285886</td>\n",
              "      <td>1153382</td>\n",
              "      <td>147662</td>\n",
              "      <td>1193154</td>\n",
              "      <td>107652</td>\n",
              "      <td>91182</td>\n",
              "      <td>257864</td>\n",
              "      <td>79036</td>\n",
              "      <td>252876</td>\n",
              "    </tr>\n",
              "    <tr>\n",
              "      <th>2012</th>\n",
              "      <td>5086558</td>\n",
              "      <td>167274</td>\n",
              "      <td>286978</td>\n",
              "      <td>1165246</td>\n",
              "      <td>147864</td>\n",
              "      <td>1199422</td>\n",
              "      <td>101272</td>\n",
              "      <td>91244</td>\n",
              "      <td>257092</td>\n",
              "      <td>81200</td>\n",
              "      <td>255584</td>\n",
              "    </tr>\n",
              "    <tr>\n",
              "      <th>2013</th>\n",
              "      <td>5193986</td>\n",
              "      <td>169534</td>\n",
              "      <td>298410</td>\n",
              "      <td>1169762</td>\n",
              "      <td>151156</td>\n",
              "      <td>1222210</td>\n",
              "      <td>113958</td>\n",
              "      <td>94224</td>\n",
              "      <td>257956</td>\n",
              "      <td>82298</td>\n",
              "      <td>261114</td>\n",
              "    </tr>\n",
              "    <tr>\n",
              "      <th>2014</th>\n",
              "      <td>5252836</td>\n",
              "      <td>187082</td>\n",
              "      <td>294202</td>\n",
              "      <td>1183400</td>\n",
              "      <td>152976</td>\n",
              "      <td>1228696</td>\n",
              "      <td>110454</td>\n",
              "      <td>96292</td>\n",
              "      <td>266206</td>\n",
              "      <td>85652</td>\n",
              "      <td>271856</td>\n",
              "    </tr>\n",
              "    <tr>\n",
              "      <th>2015</th>\n",
              "      <td>5425260</td>\n",
              "      <td>221122</td>\n",
              "      <td>310082</td>\n",
              "      <td>1191860</td>\n",
              "      <td>159070</td>\n",
              "      <td>1267684</td>\n",
              "      <td>114124</td>\n",
              "      <td>99918</td>\n",
              "      <td>280646</td>\n",
              "      <td>88386</td>\n",
              "      <td>293142</td>\n",
              "    </tr>\n",
              "    <tr>\n",
              "      <th>2016</th>\n",
              "      <td>5488496</td>\n",
              "      <td>232206</td>\n",
              "      <td>309192</td>\n",
              "      <td>1196076</td>\n",
              "      <td>160116</td>\n",
              "      <td>1270520</td>\n",
              "      <td>103074</td>\n",
              "      <td>100092</td>\n",
              "      <td>284284</td>\n",
              "      <td>89930</td>\n",
              "      <td>322748</td>\n",
              "    </tr>\n",
              "  </tbody>\n",
              "</table>\n",
              "</div>\n",
              "      <button class=\"colab-df-convert\" onclick=\"convertToInteractive('df-9c659b11-f3d4-4dd3-b0aa-78294c0fe7fd')\"\n",
              "              title=\"Convert this dataframe to an interactive table.\"\n",
              "              style=\"display:none;\">\n",
              "        \n",
              "  <svg xmlns=\"http://www.w3.org/2000/svg\" height=\"24px\"viewBox=\"0 0 24 24\"\n",
              "       width=\"24px\">\n",
              "    <path d=\"M0 0h24v24H0V0z\" fill=\"none\"/>\n",
              "    <path d=\"M18.56 5.44l.94 2.06.94-2.06 2.06-.94-2.06-.94-.94-2.06-.94 2.06-2.06.94zm-11 1L8.5 8.5l.94-2.06 2.06-.94-2.06-.94L8.5 2.5l-.94 2.06-2.06.94zm10 10l.94 2.06.94-2.06 2.06-.94-2.06-.94-.94-2.06-.94 2.06-2.06.94z\"/><path d=\"M17.41 7.96l-1.37-1.37c-.4-.4-.92-.59-1.43-.59-.52 0-1.04.2-1.43.59L10.3 9.45l-7.72 7.72c-.78.78-.78 2.05 0 2.83L4 21.41c.39.39.9.59 1.41.59.51 0 1.02-.2 1.41-.59l7.78-7.78 2.81-2.81c.8-.78.8-2.07 0-2.86zM5.41 20L4 18.59l7.72-7.72 1.47 1.35L5.41 20z\"/>\n",
              "  </svg>\n",
              "      </button>\n",
              "      \n",
              "  <style>\n",
              "    .colab-df-container {\n",
              "      display:flex;\n",
              "      flex-wrap:wrap;\n",
              "      gap: 12px;\n",
              "    }\n",
              "\n",
              "    .colab-df-convert {\n",
              "      background-color: #E8F0FE;\n",
              "      border: none;\n",
              "      border-radius: 50%;\n",
              "      cursor: pointer;\n",
              "      display: none;\n",
              "      fill: #1967D2;\n",
              "      height: 32px;\n",
              "      padding: 0 0 0 0;\n",
              "      width: 32px;\n",
              "    }\n",
              "\n",
              "    .colab-df-convert:hover {\n",
              "      background-color: #E2EBFA;\n",
              "      box-shadow: 0px 1px 2px rgba(60, 64, 67, 0.3), 0px 1px 3px 1px rgba(60, 64, 67, 0.15);\n",
              "      fill: #174EA6;\n",
              "    }\n",
              "\n",
              "    [theme=dark] .colab-df-convert {\n",
              "      background-color: #3B4455;\n",
              "      fill: #D2E3FC;\n",
              "    }\n",
              "\n",
              "    [theme=dark] .colab-df-convert:hover {\n",
              "      background-color: #434B5C;\n",
              "      box-shadow: 0px 1px 3px 1px rgba(0, 0, 0, 0.15);\n",
              "      filter: drop-shadow(0px 1px 2px rgba(0, 0, 0, 0.3));\n",
              "      fill: #FFFFFF;\n",
              "    }\n",
              "  </style>\n",
              "\n",
              "      <script>\n",
              "        const buttonEl =\n",
              "          document.querySelector('#df-9c659b11-f3d4-4dd3-b0aa-78294c0fe7fd button.colab-df-convert');\n",
              "        buttonEl.style.display =\n",
              "          google.colab.kernel.accessAllowed ? 'block' : 'none';\n",
              "\n",
              "        async function convertToInteractive(key) {\n",
              "          const element = document.querySelector('#df-9c659b11-f3d4-4dd3-b0aa-78294c0fe7fd');\n",
              "          const dataTable =\n",
              "            await google.colab.kernel.invokeFunction('convertToInteractive',\n",
              "                                                     [key], {});\n",
              "          if (!dataTable) return;\n",
              "\n",
              "          const docLinkHtml = 'Like what you see? Visit the ' +\n",
              "            '<a target=\"_blank\" href=https://colab.research.google.com/notebooks/data_table.ipynb>data table notebook</a>'\n",
              "            + ' to learn more about interactive tables.';\n",
              "          element.innerHTML = '';\n",
              "          dataTable['output_type'] = 'display_data';\n",
              "          await google.colab.output.renderOutput(dataTable, element);\n",
              "          const docLink = document.createElement('div');\n",
              "          docLink.innerHTML = docLinkHtml;\n",
              "          element.appendChild(docLink);\n",
              "        }\n",
              "      </script>\n",
              "    </div>\n",
              "  </div>\n",
              "  "
            ]
          },
          "metadata": {},
          "execution_count": 70
        }
      ]
    },
    {
      "cell_type": "code",
      "source": [
        "#\n",
        "\n",
        "# heatmap of sum of causes over time\n",
        "\n",
        "plt.figure(figsize=(10, 5))\n",
        "sns.heatmap(df.groupby(by=['Year','Cause Name'])['Deaths'].sum().unstack(), cmap=\"YlGnBu\")\n"
      ],
      "metadata": {
        "colab": {
          "base_uri": "https://localhost:8080/",
          "height": 480
        },
        "id": "Tr81ZgFZvHWr",
        "outputId": "7416ff08-16fa-4764-9130-b34d389adb89"
      },
      "execution_count": 71,
      "outputs": [
        {
          "output_type": "execute_result",
          "data": {
            "text/plain": [
              "<matplotlib.axes._subplots.AxesSubplot at 0x7f46bdbb35d0>"
            ]
          },
          "metadata": {},
          "execution_count": 71
        },
        {
          "output_type": "display_data",
          "data": {
            "text/plain": [
              "<Figure size 720x360 with 2 Axes>"
            ],
            "image/png": "[encoded data removed]"
          },
          "metadata": {
            "needs_background": "light"
          }
        }
      ]
    },
    {
      "cell_type": "code",
      "source": [
        "# Remove 'All causes' from data series to get a better look at individual causes\n",
        "\n",
        "# CAN SEE HEART DISEASE TRENDING DOWN AS SHADING GETS LIGHTER\n",
        "# STROKE IS ALSO TRENDING DOWN SLOWLY - SHADING GETS LIGHTER\n",
        "# UNINTENTIONAL INJURIESAPPEAR TO BE GETTING DARKER - TRENDING UP\n",
        "\n",
        "df2 = df[df['Cause Name'] != 'All causes']\n",
        "plt.figure(figsize=(10, 5))\n",
        "sns.heatmap(df2.groupby(by=['Year','Cause Name'])['Deaths'].sum().unstack(), cmap=\"YlGnBu\")"
      ],
      "metadata": {
        "colab": {
          "base_uri": "https://localhost:8080/",
          "height": 480
        },
        "id": "thBJH-jYvHaR",
        "outputId": "9fc97164-040c-4c32-8a9c-5e7a1a0edb0a"
      },
      "execution_count": 72,
      "outputs": [
        {
          "output_type": "execute_result",
          "data": {
            "text/plain": [
              "<matplotlib.axes._subplots.AxesSubplot at 0x7f46bd2bf110>"
            ]
          },
          "metadata": {},
          "execution_count": 72
        },
        {
          "output_type": "display_data",
          "data": {
            "text/plain": [
              "<Figure size 720x360 with 2 Axes>"
            ],
            "image/png": "[encoded data removed]"
          },
          "metadata": {
            "needs_background": "light"
          }
        }
      ]
    },
    {
      "cell_type": "code",
      "source": [
        "# HEART DISEASE TRENDED DOWN FOR A WHILE BUT IS TRENDING UP SINCE ABOUT 2009\n",
        "# CANCER HAS STEADILY INCREASED\n",
        "# OTHER CAUSES - TRENDS REMAIN STEADY\n",
        "\n",
        "# Remove 'All causes' from data series to get a better look at individual causes\n",
        "df2 = df[df['Cause Name'] != 'All causes']\n",
        "df2.groupby(by=['Year', 'Cause Name'])['Deaths'].sum().unstack().plot(figsize=(11, 12))"
      ],
      "metadata": {
        "colab": {
          "base_uri": "https://localhost:8080/",
          "height": 743
        },
        "id": "FEWpdmM7yRe7",
        "outputId": "fe096277-0109-4693-d3c7-27b40ed13819"
      },
      "execution_count": 56,
      "outputs": [
        {
          "output_type": "execute_result",
          "data": {
            "text/plain": [
              "<matplotlib.axes._subplots.AxesSubplot at 0x7f46be5d85d0>"
            ]
          },
          "metadata": {},
          "execution_count": 56
        },
        {
          "output_type": "display_data",
          "data": {
            "text/plain": [
              "<Figure size 792x864 with 1 Axes>"
            ],
            "image/png": "[encoded data removed]"
          },
          "metadata": {
            "needs_background": "light"
          }
        }
      ]
    },
    {
      "cell_type": "markdown",
      "source": [
        "## regions"
      ],
      "metadata": {
        "id": "P4OzURxN9Mv7"
      }
    },
    {
      "cell_type": "code",
      "source": [
        "df['Region'].value_counts()"
      ],
      "metadata": {
        "colab": {
          "base_uri": "https://localhost:8080/"
        },
        "id": "pdw1TUklyRzm",
        "outputId": "b5aeb79a-b350-4cf0-9c71-ca85de4a1fad"
      },
      "execution_count": 73,
      "outputs": [
        {
          "output_type": "execute_result",
          "data": {
            "text/plain": [
              "S     3366\n",
              "W     2574\n",
              "MW    2376\n",
              "NE    1782\n",
              "US     198\n",
              "Name: Region, dtype: int64"
            ]
          },
          "metadata": {},
          "execution_count": 73
        }
      ]
    },
    {
      "cell_type": "code",
      "source": [
        "df.groupby(['Region'])['Age-adjusted Death Rate'].mean().sort_values(ascending=False)"
      ],
      "metadata": {
        "colab": {
          "base_uri": "https://localhost:8080/"
        },
        "id": "Zpdqvwq0ySAP",
        "outputId": "eb187c50-7b80-47e1-ef08-efa5c4a7c99e"
      },
      "execution_count": 74,
      "outputs": [
        {
          "output_type": "execute_result",
          "data": {
            "text/plain": [
              "Region\n",
              "S     141.029501\n",
              "US    126.075758\n",
              "MW    125.522138\n",
              "W     119.536402\n",
              "NE    119.347531\n",
              "Name: Age-adjusted Death Rate, dtype: float64"
            ]
          },
          "metadata": {},
          "execution_count": 74
        }
      ]
    },
    {
      "cell_type": "code",
      "source": [
        "df.groupby(['Region'])['Age-adjusted Death Rate'].median().sort_values(ascending=False)"
      ],
      "metadata": {
        "colab": {
          "base_uri": "https://localhost:8080/"
        },
        "id": "QY6cg7dbySIY",
        "outputId": "76b3f25b-3c79-40ea-a011-207f9bab0660"
      },
      "execution_count": 75,
      "outputs": [
        {
          "output_type": "execute_result",
          "data": {
            "text/plain": [
              "Region\n",
              "S     39.70\n",
              "US    37.55\n",
              "MW    36.70\n",
              "W     35.80\n",
              "NE    29.85\n",
              "Name: Age-adjusted Death Rate, dtype: float64"
            ]
          },
          "metadata": {},
          "execution_count": 75
        }
      ]
    },
    {
      "cell_type": "code",
      "source": [
        "# remove all causes\n",
        "\n",
        "df2 = df[df['Cause Name'] != 'All causes']\n",
        "plt.figure(figsize=(10,6))\n",
        "df2.groupby(['Cause Name', 'Region'])['Age-adjusted Death Rate'].mean().unstack().plot(kind='bar',figsize=(12,6))\n",
        "plt.title('Mean Death Rate from Diseases by Regions')"
      ],
      "metadata": {
        "colab": {
          "base_uri": "https://localhost:8080/",
          "height": 557
        },
        "id": "bMHsz3nHySL6",
        "outputId": "faa865a8-3d41-42b8-9fce-4c3a653380f8"
      },
      "execution_count": 79,
      "outputs": [
        {
          "output_type": "execute_result",
          "data": {
            "text/plain": [
              "Text(0.5, 1.0, 'Mean Death Rate from Diseases by Regions')"
            ]
          },
          "metadata": {},
          "execution_count": 79
        },
        {
          "output_type": "display_data",
          "data": {
            "text/plain": [
              "<Figure size 720x432 with 0 Axes>"
            ]
          },
          "metadata": {}
        },
        {
          "output_type": "display_data",
          "data": {
            "text/plain": [
              "<Figure size 864x432 with 1 Axes>"
            ],
            "image/png": "[encoded data removed]"
          },
          "metadata": {
            "needs_background": "light"
          }
        }
      ]
    },
    {
      "cell_type": "code",
      "source": [
        "# MEDIAN DEATH RATE - SOUTH LEADS IN ALL DISEASESEXCEPT SUICIDE\n",
        "# MW IS SECOND IN 7 OF THE 10 DISEASES\n",
        "# NE HAS THE LOWEST RATES IN 7 OF THE 10 DISEASES\n",
        "# WEST LEADS IN SUICIDE\n",
        "\n",
        "df2.groupby(['Cause Name', 'Region'])['Age-adjusted Death Rate'].median()"
      ],
      "metadata": {
        "colab": {
          "base_uri": "https://localhost:8080/"
        },
        "id": "QSDpq2sLDB00",
        "outputId": "69757fc5-b010-4cf5-ab64-cca168b86cee"
      },
      "execution_count": 87,
      "outputs": [
        {
          "output_type": "execute_result",
          "data": {
            "text/plain": [
              "Cause Name               Region\n",
              "Alzheimer's disease      MW         24.40\n",
              "                         NE         20.35\n",
              "                         S          25.50\n",
              "                         US         23.80\n",
              "                         W          24.15\n",
              "CLRD                     MW         45.30\n",
              "                         NE         38.35\n",
              "                         S          46.70\n",
              "                         US         42.35\n",
              "                         W          46.40\n",
              "Cancer                   MW        179.45\n",
              "                         NE        178.35\n",
              "                         S         193.70\n",
              "                         US        177.85\n",
              "                         W         163.10\n",
              "Diabetes                 MW         23.15\n",
              "                         NE         20.15\n",
              "                         S          25.60\n",
              "                         US         22.40\n",
              "                         W          22.50\n",
              "Heart disease            MW        190.00\n",
              "                         NE        181.80\n",
              "                         S         226.50\n",
              "                         US        194.10\n",
              "                         W         166.50\n",
              "Influenza and pneumonia  MW         17.30\n",
              "                         NE         16.85\n",
              "                         S          19.75\n",
              "                         US         17.20\n",
              "                         W          16.95\n",
              "Kidney disease           MW         14.50\n",
              "                         NE         13.20\n",
              "                         S          17.75\n",
              "                         US         14.25\n",
              "                         W          10.30\n",
              "Stroke                   MW         43.70\n",
              "                         NE         36.25\n",
              "                         S          49.40\n",
              "                         US         42.80\n",
              "                         W          41.30\n",
              "Suicide                  MW         12.30\n",
              "                         NE          9.90\n",
              "                         S          12.50\n",
              "                         US         11.45\n",
              "                         W          17.50\n",
              "Unintentional injuries   MW         39.70\n",
              "                         NE         34.85\n",
              "                         S          46.90\n",
              "                         US         39.10\n",
              "                         W          44.50\n",
              "Name: Age-adjusted Death Rate, dtype: float64"
            ]
          },
          "metadata": {},
          "execution_count": 87
        }
      ]
    },
    {
      "cell_type": "code",
      "source": [
        "\n",
        "\n",
        "df2.groupby(['Cause Name', 'Region'])['Age-adjusted Death Rate'].median().unstack().plot(kind='bar', figsize=(12,6))\n",
        "plt.title('Median Death Rate from Diseases by Regions')"
      ],
      "metadata": {
        "colab": {
          "base_uri": "https://localhost:8080/",
          "height": 539
        },
        "id": "hMIKs0ik_PN0",
        "outputId": "9f17208d-438d-4d95-a101-b523b518ad0a"
      },
      "execution_count": 80,
      "outputs": [
        {
          "output_type": "execute_result",
          "data": {
            "text/plain": [
              "Text(0.5, 1.0, 'Median Death Rate from Diseases by Regions')"
            ]
          },
          "metadata": {},
          "execution_count": 80
        },
        {
          "output_type": "display_data",
          "data": {
            "text/plain": [
              "<Figure size 864x432 with 1 Axes>"
            ],
            "image/png": "[encoded data removed]"
          },
          "metadata": {
            "needs_background": "light"
          }
        }
      ]
    },
    {
      "cell_type": "code",
      "source": [
        "\n",
        "\n",
        "df.groupby(by=['Year', 'Region'])['Age-adjusted Death Rate'].mean().unstack().plot(figsize=(11, 6))\n"
      ],
      "metadata": {
        "colab": {
          "base_uri": "https://localhost:8080/",
          "height": 406
        },
        "id": "70TZXpjC_PKT",
        "outputId": "cb486787-25bc-4b86-fcf3-9376c446ea17"
      },
      "execution_count": 90,
      "outputs": [
        {
          "output_type": "execute_result",
          "data": {
            "text/plain": [
              "<matplotlib.axes._subplots.AxesSubplot at 0x7f46b94e7210>"
            ]
          },
          "metadata": {},
          "execution_count": 90
        },
        {
          "output_type": "display_data",
          "data": {
            "text/plain": [
              "<Figure size 792x432 with 1 Axes>"
            ],
            "image/png": "[encoded data removed]"
          },
          "metadata": {
            "needs_background": "light"
          }
        }
      ]
    },
    {
      "cell_type": "code",
      "source": [
        "\n",
        "\n",
        "df.groupby(by=['Year', 'Region'])['Age-adjusted Death Rate'].median().unstack().plot(figsize=(11, 6))\n"
      ],
      "metadata": {
        "colab": {
          "base_uri": "https://localhost:8080/",
          "height": 406
        },
        "id": "0a56iC5x_PF_",
        "outputId": "e85ac640-00fc-430f-8a8a-22f392c06b3e"
      },
      "execution_count": 91,
      "outputs": [
        {
          "output_type": "execute_result",
          "data": {
            "text/plain": [
              "<matplotlib.axes._subplots.AxesSubplot at 0x7f46b94ed550>"
            ]
          },
          "metadata": {},
          "execution_count": 91
        },
        {
          "output_type": "display_data",
          "data": {
            "text/plain": [
              "<Figure size 792x432 with 1 Axes>"
            ],
            "image/png": "[encoded data removed]"
          },
          "metadata": {
            "needs_background": "light"
          }
        }
      ]
    },
    {
      "cell_type": "markdown",
      "source": [
        "# MODEL BUILDING"
      ],
      "metadata": {
        "id": "Y80nJv8hSLV0"
      }
    },
    {
      "cell_type": "code",
      "source": [
        "df.columns"
      ],
      "metadata": {
        "colab": {
          "base_uri": "https://localhost:8080/"
        },
        "id": "PtEIK__FSceL",
        "outputId": "8f5b6e6d-a48e-4155-ba88-a1715c76cf93"
      },
      "execution_count": 93,
      "outputs": [
        {
          "output_type": "execute_result",
          "data": {
            "text/plain": [
              "Index(['Year', 'Cause Name', 'State', 'Deaths', 'Age-adjusted Death Rate',\n",
              "       'W_Deaths', 'W_Age Adjusted Death Rate', 'Region', 'State_dum'],\n",
              "      dtype='object')"
            ]
          },
          "metadata": {},
          "execution_count": 93
        }
      ]
    },
    {
      "cell_type": "code",
      "source": [
        "# death and death rates are highly correlated - use one as predictor variable\n",
        "# since death rate was used to define State_dum, use deaths as predictor\n",
        "\n",
        "df.corr()"
      ],
      "metadata": {
        "colab": {
          "base_uri": "https://localhost:8080/",
          "height": 237
        },
        "id": "cwOefDgwTcyx",
        "outputId": "568fe8d4-4c86-486d-c68a-4b3fa2e0dc2c"
      },
      "execution_count": 94,
      "outputs": [
        {
          "output_type": "execute_result",
          "data": {
            "text/plain": [
              "                               Year    Deaths  Age-adjusted Death Rate  \\\n",
              "Year                       1.000000  0.003453                -0.039289   \n",
              "Deaths                     0.003453  1.000000                 0.231405   \n",
              "Age-adjusted Death Rate   -0.039289  0.231405                 1.000000   \n",
              "W_Deaths                   0.018160  0.240049                 0.668614   \n",
              "W_Age Adjusted Death Rate -0.050363  0.204452                 0.852246   \n",
              "State_dum                  0.023622 -0.119304                -0.497432   \n",
              "\n",
              "                           W_Deaths  W_Age Adjusted Death Rate  State_dum  \n",
              "Year                       0.018160                  -0.050363   0.023622  \n",
              "Deaths                     0.240049                   0.204452  -0.119304  \n",
              "Age-adjusted Death Rate    0.668614                   0.852246  -0.497432  \n",
              "W_Deaths                   1.000000                   0.763852  -0.547992  \n",
              "W_Age Adjusted Death Rate  0.763852                   1.000000  -0.701454  \n",
              "State_dum                 -0.547992                  -0.701454   1.000000  "
            ],
            "text/html": [
              "\n",
              "  <div id=\"df-483dfe53-b898-4fac-b9f0-348151cf7a24\">\n",
              "    <div class=\"colab-df-container\">\n",
              "      <div>\n",
              "<style scoped>\n",
              "    .dataframe tbody tr th:only-of-type {\n",
              "        vertical-align: middle;\n",
              "    }\n",
              "\n",
              "    .dataframe tbody tr th {\n",
              "        vertical-align: top;\n",
              "    }\n",
              "\n",
              "    .dataframe thead th {\n",
              "        text-align: right;\n",
              "    }\n",
              "</style>\n",
              "<table border=\"1\" class=\"dataframe\">\n",
              "  <thead>\n",
              "    <tr style=\"text-align: right;\">\n",
              "      <th></th>\n",
              "      <th>Year</th>\n",
              "      <th>Deaths</th>\n",
              "      <th>Age-adjusted Death Rate</th>\n",
              "      <th>W_Deaths</th>\n",
              "      <th>W_Age Adjusted Death Rate</th>\n",
              "      <th>State_dum</th>\n",
              "    </tr>\n",
              "  </thead>\n",
              "  <tbody>\n",
              "    <tr>\n",
              "      <th>Year</th>\n",
              "      <td>1.000000</td>\n",
              "      <td>0.003453</td>\n",
              "      <td>-0.039289</td>\n",
              "      <td>0.018160</td>\n",
              "      <td>-0.050363</td>\n",
              "      <td>0.023622</td>\n",
              "    </tr>\n",
              "    <tr>\n",
              "      <th>Deaths</th>\n",
              "      <td>0.003453</td>\n",
              "      <td>1.000000</td>\n",
              "      <td>0.231405</td>\n",
              "      <td>0.240049</td>\n",
              "      <td>0.204452</td>\n",
              "      <td>-0.119304</td>\n",
              "    </tr>\n",
              "    <tr>\n",
              "      <th>Age-adjusted Death Rate</th>\n",
              "      <td>-0.039289</td>\n",
              "      <td>0.231405</td>\n",
              "      <td>1.000000</td>\n",
              "      <td>0.668614</td>\n",
              "      <td>0.852246</td>\n",
              "      <td>-0.497432</td>\n",
              "    </tr>\n",
              "    <tr>\n",
              "      <th>W_Deaths</th>\n",
              "      <td>0.018160</td>\n",
              "      <td>0.240049</td>\n",
              "      <td>0.668614</td>\n",
              "      <td>1.000000</td>\n",
              "      <td>0.763852</td>\n",
              "      <td>-0.547992</td>\n",
              "    </tr>\n",
              "    <tr>\n",
              "      <th>W_Age Adjusted Death Rate</th>\n",
              "      <td>-0.050363</td>\n",
              "      <td>0.204452</td>\n",
              "      <td>0.852246</td>\n",
              "      <td>0.763852</td>\n",
              "      <td>1.000000</td>\n",
              "      <td>-0.701454</td>\n",
              "    </tr>\n",
              "    <tr>\n",
              "      <th>State_dum</th>\n",
              "      <td>0.023622</td>\n",
              "      <td>-0.119304</td>\n",
              "      <td>-0.497432</td>\n",
              "      <td>-0.547992</td>\n",
              "      <td>-0.701454</td>\n",
              "      <td>1.000000</td>\n",
              "    </tr>\n",
              "  </tbody>\n",
              "</table>\n",
              "</div>\n",
              "      <button class=\"colab-df-convert\" onclick=\"convertToInteractive('df-483dfe53-b898-4fac-b9f0-348151cf7a24')\"\n",
              "              title=\"Convert this dataframe to an interactive table.\"\n",
              "              style=\"display:none;\">\n",
              "        \n",
              "  <svg xmlns=\"http://www.w3.org/2000/svg\" height=\"24px\"viewBox=\"0 0 24 24\"\n",
              "       width=\"24px\">\n",
              "    <path d=\"M0 0h24v24H0V0z\" fill=\"none\"/>\n",
              "    <path d=\"M18.56 5.44l.94 2.06.94-2.06 2.06-.94-2.06-.94-.94-2.06-.94 2.06-2.06.94zm-11 1L8.5 8.5l.94-2.06 2.06-.94-2.06-.94L8.5 2.5l-.94 2.06-2.06.94zm10 10l.94 2.06.94-2.06 2.06-.94-2.06-.94-.94-2.06-.94 2.06-2.06.94z\"/><path d=\"M17.41 7.96l-1.37-1.37c-.4-.4-.92-.59-1.43-.59-.52 0-1.04.2-1.43.59L10.3 9.45l-7.72 7.72c-.78.78-.78 2.05 0 2.83L4 21.41c.39.39.9.59 1.41.59.51 0 1.02-.2 1.41-.59l7.78-7.78 2.81-2.81c.8-.78.8-2.07 0-2.86zM5.41 20L4 18.59l7.72-7.72 1.47 1.35L5.41 20z\"/>\n",
              "  </svg>\n",
              "      </button>\n",
              "      \n",
              "  <style>\n",
              "    .colab-df-container {\n",
              "      display:flex;\n",
              "      flex-wrap:wrap;\n",
              "      gap: 12px;\n",
              "    }\n",
              "\n",
              "    .colab-df-convert {\n",
              "      background-color: #E8F0FE;\n",
              "      border: none;\n",
              "      border-radius: 50%;\n",
              "      cursor: pointer;\n",
              "      display: none;\n",
              "      fill: #1967D2;\n",
              "      height: 32px;\n",
              "      padding: 0 0 0 0;\n",
              "      width: 32px;\n",
              "    }\n",
              "\n",
              "    .colab-df-convert:hover {\n",
              "      background-color: #E2EBFA;\n",
              "      box-shadow: 0px 1px 2px rgba(60, 64, 67, 0.3), 0px 1px 3px 1px rgba(60, 64, 67, 0.15);\n",
              "      fill: #174EA6;\n",
              "    }\n",
              "\n",
              "    [theme=dark] .colab-df-convert {\n",
              "      background-color: #3B4455;\n",
              "      fill: #D2E3FC;\n",
              "    }\n",
              "\n",
              "    [theme=dark] .colab-df-convert:hover {\n",
              "      background-color: #434B5C;\n",
              "      box-shadow: 0px 1px 3px 1px rgba(0, 0, 0, 0.15);\n",
              "      filter: drop-shadow(0px 1px 2px rgba(0, 0, 0, 0.3));\n",
              "      fill: #FFFFFF;\n",
              "    }\n",
              "  </style>\n",
              "\n",
              "      <script>\n",
              "        const buttonEl =\n",
              "          document.querySelector('#df-483dfe53-b898-4fac-b9f0-348151cf7a24 button.colab-df-convert');\n",
              "        buttonEl.style.display =\n",
              "          google.colab.kernel.accessAllowed ? 'block' : 'none';\n",
              "\n",
              "        async function convertToInteractive(key) {\n",
              "          const element = document.querySelector('#df-483dfe53-b898-4fac-b9f0-348151cf7a24');\n",
              "          const dataTable =\n",
              "            await google.colab.kernel.invokeFunction('convertToInteractive',\n",
              "                                                     [key], {});\n",
              "          if (!dataTable) return;\n",
              "\n",
              "          const docLinkHtml = 'Like what you see? Visit the ' +\n",
              "            '<a target=\"_blank\" href=https://colab.research.google.com/notebooks/data_table.ipynb>data table notebook</a>'\n",
              "            + ' to learn more about interactive tables.';\n",
              "          element.innerHTML = '';\n",
              "          dataTable['output_type'] = 'display_data';\n",
              "          await google.colab.output.renderOutput(dataTable, element);\n",
              "          const docLink = document.createElement('div');\n",
              "          docLink.innerHTML = docLinkHtml;\n",
              "          element.appendChild(docLink);\n",
              "        }\n",
              "      </script>\n",
              "    </div>\n",
              "  </div>\n",
              "  "
            ]
          },
          "metadata": {},
          "execution_count": 94
        }
      ]
    },
    {
      "cell_type": "markdown",
      "source": [
        "#### define X and y"
      ],
      "metadata": {
        "id": "McgOZ3PTt5Ph"
      }
    },
    {
      "cell_type": "code",
      "source": [
        "# define X and y\n",
        "\n",
        "X = df[['Year', 'Cause Name', 'W_Deaths']]\n",
        "X.head(2)"
      ],
      "metadata": {
        "colab": {
          "base_uri": "https://localhost:8080/",
          "height": 112
        },
        "id": "grIhjgXi_PB0",
        "outputId": "93b39b8e-8e35-4455-837b-5a283843b219"
      },
      "execution_count": 97,
      "outputs": [
        {
          "output_type": "execute_result",
          "data": {
            "text/plain": [
              "   Year      Cause Name  W_Deaths\n",
              "0  2012  Kidney disease        21\n",
              "1  2016  Kidney disease        30"
            ],
            "text/html": [
              "\n",
              "  <div id=\"df-8ce822d6-54d9-41ea-920d-865a1af6c72a\">\n",
              "    <div class=\"colab-df-container\">\n",
              "      <div>\n",
              "<style scoped>\n",
              "    .dataframe tbody tr th:only-of-type {\n",
              "        vertical-align: middle;\n",
              "    }\n",
              "\n",
              "    .dataframe tbody tr th {\n",
              "        vertical-align: top;\n",
              "    }\n",
              "\n",
              "    .dataframe thead th {\n",
              "        text-align: right;\n",
              "    }\n",
              "</style>\n",
              "<table border=\"1\" class=\"dataframe\">\n",
              "  <thead>\n",
              "    <tr style=\"text-align: right;\">\n",
              "      <th></th>\n",
              "      <th>Year</th>\n",
              "      <th>Cause Name</th>\n",
              "      <th>W_Deaths</th>\n",
              "    </tr>\n",
              "  </thead>\n",
              "  <tbody>\n",
              "    <tr>\n",
              "      <th>0</th>\n",
              "      <td>2012</td>\n",
              "      <td>Kidney disease</td>\n",
              "      <td>21</td>\n",
              "    </tr>\n",
              "    <tr>\n",
              "      <th>1</th>\n",
              "      <td>2016</td>\n",
              "      <td>Kidney disease</td>\n",
              "      <td>30</td>\n",
              "    </tr>\n",
              "  </tbody>\n",
              "</table>\n",
              "</div>\n",
              "      <button class=\"colab-df-convert\" onclick=\"convertToInteractive('df-8ce822d6-54d9-41ea-920d-865a1af6c72a')\"\n",
              "              title=\"Convert this dataframe to an interactive table.\"\n",
              "              style=\"display:none;\">\n",
              "        \n",
              "  <svg xmlns=\"http://www.w3.org/2000/svg\" height=\"24px\"viewBox=\"0 0 24 24\"\n",
              "       width=\"24px\">\n",
              "    <path d=\"M0 0h24v24H0V0z\" fill=\"none\"/>\n",
              "    <path d=\"M18.56 5.44l.94 2.06.94-2.06 2.06-.94-2.06-.94-.94-2.06-.94 2.06-2.06.94zm-11 1L8.5 8.5l.94-2.06 2.06-.94-2.06-.94L8.5 2.5l-.94 2.06-2.06.94zm10 10l.94 2.06.94-2.06 2.06-.94-2.06-.94-.94-2.06-.94 2.06-2.06.94z\"/><path d=\"M17.41 7.96l-1.37-1.37c-.4-.4-.92-.59-1.43-.59-.52 0-1.04.2-1.43.59L10.3 9.45l-7.72 7.72c-.78.78-.78 2.05 0 2.83L4 21.41c.39.39.9.59 1.41.59.51 0 1.02-.2 1.41-.59l7.78-7.78 2.81-2.81c.8-.78.8-2.07 0-2.86zM5.41 20L4 18.59l7.72-7.72 1.47 1.35L5.41 20z\"/>\n",
              "  </svg>\n",
              "      </button>\n",
              "      \n",
              "  <style>\n",
              "    .colab-df-container {\n",
              "      display:flex;\n",
              "      flex-wrap:wrap;\n",
              "      gap: 12px;\n",
              "    }\n",
              "\n",
              "    .colab-df-convert {\n",
              "      background-color: #E8F0FE;\n",
              "      border: none;\n",
              "      border-radius: 50%;\n",
              "      cursor: pointer;\n",
              "      display: none;\n",
              "      fill: #1967D2;\n",
              "      height: 32px;\n",
              "      padding: 0 0 0 0;\n",
              "      width: 32px;\n",
              "    }\n",
              "\n",
              "    .colab-df-convert:hover {\n",
              "      background-color: #E2EBFA;\n",
              "      box-shadow: 0px 1px 2px rgba(60, 64, 67, 0.3), 0px 1px 3px 1px rgba(60, 64, 67, 0.15);\n",
              "      fill: #174EA6;\n",
              "    }\n",
              "\n",
              "    [theme=dark] .colab-df-convert {\n",
              "      background-color: #3B4455;\n",
              "      fill: #D2E3FC;\n",
              "    }\n",
              "\n",
              "    [theme=dark] .colab-df-convert:hover {\n",
              "      background-color: #434B5C;\n",
              "      box-shadow: 0px 1px 3px 1px rgba(0, 0, 0, 0.15);\n",
              "      filter: drop-shadow(0px 1px 2px rgba(0, 0, 0, 0.3));\n",
              "      fill: #FFFFFF;\n",
              "    }\n",
              "  </style>\n",
              "\n",
              "      <script>\n",
              "        const buttonEl =\n",
              "          document.querySelector('#df-8ce822d6-54d9-41ea-920d-865a1af6c72a button.colab-df-convert');\n",
              "        buttonEl.style.display =\n",
              "          google.colab.kernel.accessAllowed ? 'block' : 'none';\n",
              "\n",
              "        async function convertToInteractive(key) {\n",
              "          const element = document.querySelector('#df-8ce822d6-54d9-41ea-920d-865a1af6c72a');\n",
              "          const dataTable =\n",
              "            await google.colab.kernel.invokeFunction('convertToInteractive',\n",
              "                                                     [key], {});\n",
              "          if (!dataTable) return;\n",
              "\n",
              "          const docLinkHtml = 'Like what you see? Visit the ' +\n",
              "            '<a target=\"_blank\" href=https://colab.research.google.com/notebooks/data_table.ipynb>data table notebook</a>'\n",
              "            + ' to learn more about interactive tables.';\n",
              "          element.innerHTML = '';\n",
              "          dataTable['output_type'] = 'display_data';\n",
              "          await google.colab.output.renderOutput(dataTable, element);\n",
              "          const docLink = document.createElement('div');\n",
              "          docLink.innerHTML = docLinkHtml;\n",
              "          element.appendChild(docLink);\n",
              "        }\n",
              "      </script>\n",
              "    </div>\n",
              "  </div>\n",
              "  "
            ]
          },
          "metadata": {},
          "execution_count": 97
        }
      ]
    },
    {
      "cell_type": "code",
      "source": [
        "y = df['State_dum']\n",
        "y"
      ],
      "metadata": {
        "colab": {
          "base_uri": "https://localhost:8080/"
        },
        "id": "x8DRYujD_O9z",
        "outputId": "0d30756a-1407-4a55-8e83-8eab4bbc144b"
      },
      "execution_count": 99,
      "outputs": [
        {
          "output_type": "execute_result",
          "data": {
            "text/plain": [
              "0        1\n",
              "1        1\n",
              "2        1\n",
              "3        1\n",
              "4        1\n",
              "        ..\n",
              "10291    0\n",
              "10292    0\n",
              "10293    0\n",
              "10294    0\n",
              "10295    0\n",
              "Name: State_dum, Length: 10296, dtype: int64"
            ]
          },
          "metadata": {},
          "execution_count": 99
        }
      ]
    },
    {
      "cell_type": "code",
      "source": [
        "# change categorical variable, 'Name Cause', to dummies\n",
        "\n",
        "X = pd.get_dummies(X, columns = ['Cause Name'])\n",
        "X.head(3)"
      ],
      "metadata": {
        "colab": {
          "base_uri": "https://localhost:8080/",
          "height": 242
        },
        "id": "w-jI103n_O58",
        "outputId": "d32e4350-9a0a-4c3b-f813-5d4b8232775d"
      },
      "execution_count": 100,
      "outputs": [
        {
          "output_type": "execute_result",
          "data": {
            "text/plain": [
              "   Year  W_Deaths  Cause Name_All causes  Cause Name_Alzheimer's disease  \\\n",
              "0  2012        21                      0                               0   \n",
              "1  2016        30                      0                               0   \n",
              "2  2013        30                      0                               0   \n",
              "\n",
              "   Cause Name_CLRD  Cause Name_Cancer  Cause Name_Diabetes  \\\n",
              "0                0                  0                    0   \n",
              "1                0                  0                    0   \n",
              "2                0                  0                    0   \n",
              "\n",
              "   Cause Name_Heart disease  Cause Name_Influenza and pneumonia  \\\n",
              "0                         0                                   0   \n",
              "1                         0                                   0   \n",
              "2                         0                                   0   \n",
              "\n",
              "   Cause Name_Kidney disease  Cause Name_Stroke  Cause Name_Suicide  \\\n",
              "0                          1                  0                   0   \n",
              "1                          1                  0                   0   \n",
              "2                          1                  0                   0   \n",
              "\n",
              "   Cause Name_Unintentional injuries  \n",
              "0                                  0  \n",
              "1                                  0  \n",
              "2                                  0  "
            ],
            "text/html": [
              "\n",
              "  <div id=\"df-ee3a81ca-d413-45bc-a14b-b28ef4767c2c\">\n",
              "    <div class=\"colab-df-container\">\n",
              "      <div>\n",
              "<style scoped>\n",
              "    .dataframe tbody tr th:only-of-type {\n",
              "        vertical-align: middle;\n",
              "    }\n",
              "\n",
              "    .dataframe tbody tr th {\n",
              "        vertical-align: top;\n",
              "    }\n",
              "\n",
              "    .dataframe thead th {\n",
              "        text-align: right;\n",
              "    }\n",
              "</style>\n",
              "<table border=\"1\" class=\"dataframe\">\n",
              "  <thead>\n",
              "    <tr style=\"text-align: right;\">\n",
              "      <th></th>\n",
              "      <th>Year</th>\n",
              "      <th>W_Deaths</th>\n",
              "      <th>Cause Name_All causes</th>\n",
              "      <th>Cause Name_Alzheimer's disease</th>\n",
              "      <th>Cause Name_CLRD</th>\n",
              "      <th>Cause Name_Cancer</th>\n",
              "      <th>Cause Name_Diabetes</th>\n",
              "      <th>Cause Name_Heart disease</th>\n",
              "      <th>Cause Name_Influenza and pneumonia</th>\n",
              "      <th>Cause Name_Kidney disease</th>\n",
              "      <th>Cause Name_Stroke</th>\n",
              "      <th>Cause Name_Suicide</th>\n",
              "      <th>Cause Name_Unintentional injuries</th>\n",
              "    </tr>\n",
              "  </thead>\n",
              "  <tbody>\n",
              "    <tr>\n",
              "      <th>0</th>\n",
              "      <td>2012</td>\n",
              "      <td>21</td>\n",
              "      <td>0</td>\n",
              "      <td>0</td>\n",
              "      <td>0</td>\n",
              "      <td>0</td>\n",
              "      <td>0</td>\n",
              "      <td>0</td>\n",
              "      <td>0</td>\n",
              "      <td>1</td>\n",
              "      <td>0</td>\n",
              "      <td>0</td>\n",
              "      <td>0</td>\n",
              "    </tr>\n",
              "    <tr>\n",
              "      <th>1</th>\n",
              "      <td>2016</td>\n",
              "      <td>30</td>\n",
              "      <td>0</td>\n",
              "      <td>0</td>\n",
              "      <td>0</td>\n",
              "      <td>0</td>\n",
              "      <td>0</td>\n",
              "      <td>0</td>\n",
              "      <td>0</td>\n",
              "      <td>1</td>\n",
              "      <td>0</td>\n",
              "      <td>0</td>\n",
              "      <td>0</td>\n",
              "    </tr>\n",
              "    <tr>\n",
              "      <th>2</th>\n",
              "      <td>2013</td>\n",
              "      <td>30</td>\n",
              "      <td>0</td>\n",
              "      <td>0</td>\n",
              "      <td>0</td>\n",
              "      <td>0</td>\n",
              "      <td>0</td>\n",
              "      <td>0</td>\n",
              "      <td>0</td>\n",
              "      <td>1</td>\n",
              "      <td>0</td>\n",
              "      <td>0</td>\n",
              "      <td>0</td>\n",
              "    </tr>\n",
              "  </tbody>\n",
              "</table>\n",
              "</div>\n",
              "      <button class=\"colab-df-convert\" onclick=\"convertToInteractive('df-ee3a81ca-d413-45bc-a14b-b28ef4767c2c')\"\n",
              "              title=\"Convert this dataframe to an interactive table.\"\n",
              "              style=\"display:none;\">\n",
              "        \n",
              "  <svg xmlns=\"http://www.w3.org/2000/svg\" height=\"24px\"viewBox=\"0 0 24 24\"\n",
              "       width=\"24px\">\n",
              "    <path d=\"M0 0h24v24H0V0z\" fill=\"none\"/>\n",
              "    <path d=\"M18.56 5.44l.94 2.06.94-2.06 2.06-.94-2.06-.94-.94-2.06-.94 2.06-2.06.94zm-11 1L8.5 8.5l.94-2.06 2.06-.94-2.06-.94L8.5 2.5l-.94 2.06-2.06.94zm10 10l.94 2.06.94-2.06 2.06-.94-2.06-.94-.94-2.06-.94 2.06-2.06.94z\"/><path d=\"M17.41 7.96l-1.37-1.37c-.4-.4-.92-.59-1.43-.59-.52 0-1.04.2-1.43.59L10.3 9.45l-7.72 7.72c-.78.78-.78 2.05 0 2.83L4 21.41c.39.39.9.59 1.41.59.51 0 1.02-.2 1.41-.59l7.78-7.78 2.81-2.81c.8-.78.8-2.07 0-2.86zM5.41 20L4 18.59l7.72-7.72 1.47 1.35L5.41 20z\"/>\n",
              "  </svg>\n",
              "      </button>\n",
              "      \n",
              "  <style>\n",
              "    .colab-df-container {\n",
              "      display:flex;\n",
              "      flex-wrap:wrap;\n",
              "      gap: 12px;\n",
              "    }\n",
              "\n",
              "    .colab-df-convert {\n",
              "      background-color: #E8F0FE;\n",
              "      border: none;\n",
              "      border-radius: 50%;\n",
              "      cursor: pointer;\n",
              "      display: none;\n",
              "      fill: #1967D2;\n",
              "      height: 32px;\n",
              "      padding: 0 0 0 0;\n",
              "      width: 32px;\n",
              "    }\n",
              "\n",
              "    .colab-df-convert:hover {\n",
              "      background-color: #E2EBFA;\n",
              "      box-shadow: 0px 1px 2px rgba(60, 64, 67, 0.3), 0px 1px 3px 1px rgba(60, 64, 67, 0.15);\n",
              "      fill: #174EA6;\n",
              "    }\n",
              "\n",
              "    [theme=dark] .colab-df-convert {\n",
              "      background-color: #3B4455;\n",
              "      fill: #D2E3FC;\n",
              "    }\n",
              "\n",
              "    [theme=dark] .colab-df-convert:hover {\n",
              "      background-color: #434B5C;\n",
              "      box-shadow: 0px 1px 3px 1px rgba(0, 0, 0, 0.15);\n",
              "      filter: drop-shadow(0px 1px 2px rgba(0, 0, 0, 0.3));\n",
              "      fill: #FFFFFF;\n",
              "    }\n",
              "  </style>\n",
              "\n",
              "      <script>\n",
              "        const buttonEl =\n",
              "          document.querySelector('#df-ee3a81ca-d413-45bc-a14b-b28ef4767c2c button.colab-df-convert');\n",
              "        buttonEl.style.display =\n",
              "          google.colab.kernel.accessAllowed ? 'block' : 'none';\n",
              "\n",
              "        async function convertToInteractive(key) {\n",
              "          const element = document.querySelector('#df-ee3a81ca-d413-45bc-a14b-b28ef4767c2c');\n",
              "          const dataTable =\n",
              "            await google.colab.kernel.invokeFunction('convertToInteractive',\n",
              "                                                     [key], {});\n",
              "          if (!dataTable) return;\n",
              "\n",
              "          const docLinkHtml = 'Like what you see? Visit the ' +\n",
              "            '<a target=\"_blank\" href=https://colab.research.google.com/notebooks/data_table.ipynb>data table notebook</a>'\n",
              "            + ' to learn more about interactive tables.';\n",
              "          element.innerHTML = '';\n",
              "          dataTable['output_type'] = 'display_data';\n",
              "          await google.colab.output.renderOutput(dataTable, element);\n",
              "          const docLink = document.createElement('div');\n",
              "          docLink.innerHTML = docLinkHtml;\n",
              "          element.appendChild(docLink);\n",
              "        }\n",
              "      </script>\n",
              "    </div>\n",
              "  </div>\n",
              "  "
            ]
          },
          "metadata": {},
          "execution_count": 100
        }
      ]
    },
    {
      "cell_type": "markdown",
      "source": [
        "#### scale X"
      ],
      "metadata": {
        "id": "cuzO90K-tyea"
      }
    },
    {
      "cell_type": "code",
      "source": [
        "# SCALE X\n",
        "\n",
        "# import scaler function\n",
        "from sklearn.preprocessing import StandardScaler"
      ],
      "metadata": {
        "id": "5U9Yr68l_Ot5"
      },
      "execution_count": 107,
      "outputs": []
    },
    {
      "cell_type": "code",
      "source": [
        "scaler = StandardScaler()"
      ],
      "metadata": {
        "id": "FKCeQRqM_OqZ"
      },
      "execution_count": 110,
      "outputs": []
    },
    {
      "cell_type": "code",
      "source": [
        "# # scaler model to scale X\n",
        "#scaler.fit(X)\n",
        "\n",
        "scaler.fit(X)"
      ],
      "metadata": {
        "colab": {
          "base_uri": "https://localhost:8080/"
        },
        "id": "M1lFafRf_Oma",
        "outputId": "419f2fa2-8610-4606-c71d-6707b7a6afe7"
      },
      "execution_count": 111,
      "outputs": [
        {
          "output_type": "execute_result",
          "data": {
            "text/plain": [
              "StandardScaler()"
            ]
          },
          "metadata": {},
          "execution_count": 111
        }
      ]
    },
    {
      "cell_type": "code",
      "source": [
        "scaled_features = scaler.transform(X)"
      ],
      "metadata": {
        "id": "q5obvwIv_OeV"
      },
      "execution_count": 112,
      "outputs": []
    },
    {
      "cell_type": "code",
      "source": [
        "scaled_features"
      ],
      "metadata": {
        "colab": {
          "base_uri": "https://localhost:8080/"
        },
        "id": "hVgjtDcQs7do",
        "outputId": "a13ae177-c5c4-4ce6-abd4-e764ef5861c0"
      },
      "execution_count": 113,
      "outputs": [
        {
          "output_type": "execute_result",
          "data": {
            "text/plain": [
              "array([[ 0.86736496, -0.87791662, -0.31622777, ..., -0.31622777,\n",
              "        -0.31622777, -0.31622777],\n",
              "       [ 1.63835604, -0.8757973 , -0.31622777, ..., -0.31622777,\n",
              "        -0.31622777, -0.31622777],\n",
              "       [ 1.06011273, -0.8757973 , -0.31622777, ..., -0.31622777,\n",
              "        -0.31622777, -0.31622777],\n",
              "       ...,\n",
              "       [-1.44560827,  1.9513786 ,  3.16227766, ..., -0.31622777,\n",
              "        -0.31622777, -0.31622777],\n",
              "       [-1.44560827,  0.53025528,  3.16227766, ..., -0.31622777,\n",
              "        -0.31622777, -0.31622777],\n",
              "       [-1.63835604,  0.5479163 ,  3.16227766, ..., -0.31622777,\n",
              "        -0.31622777, -0.31622777]])"
            ]
          },
          "metadata": {},
          "execution_count": 113
        }
      ]
    },
    {
      "cell_type": "code",
      "source": [
        "X = pd.DataFrame(scaled_features, columns=X.columns)\n",
        "X.head(2)"
      ],
      "metadata": {
        "colab": {
          "base_uri": "https://localhost:8080/",
          "height": 211
        },
        "id": "kYa3T2L9s7hN",
        "outputId": "8ed9fcdd-c531-4230-e7bb-371793561e58"
      },
      "execution_count": 114,
      "outputs": [
        {
          "output_type": "execute_result",
          "data": {
            "text/plain": [
              "       Year  W_Deaths  Cause Name_All causes  Cause Name_Alzheimer's disease  \\\n",
              "0  0.867365 -0.877917              -0.316228                       -0.316228   \n",
              "1  1.638356 -0.875797              -0.316228                       -0.316228   \n",
              "\n",
              "   Cause Name_CLRD  Cause Name_Cancer  Cause Name_Diabetes  \\\n",
              "0        -0.316228          -0.316228            -0.316228   \n",
              "1        -0.316228          -0.316228            -0.316228   \n",
              "\n",
              "   Cause Name_Heart disease  Cause Name_Influenza and pneumonia  \\\n",
              "0                 -0.316228                           -0.316228   \n",
              "1                 -0.316228                           -0.316228   \n",
              "\n",
              "   Cause Name_Kidney disease  Cause Name_Stroke  Cause Name_Suicide  \\\n",
              "0                   3.162278          -0.316228           -0.316228   \n",
              "1                   3.162278          -0.316228           -0.316228   \n",
              "\n",
              "   Cause Name_Unintentional injuries  \n",
              "0                          -0.316228  \n",
              "1                          -0.316228  "
            ],
            "text/html": [
              "\n",
              "  <div id=\"df-c3b612b2-030b-497f-ae64-bb84bf9adb4f\">\n",
              "    <div class=\"colab-df-container\">\n",
              "      <div>\n",
              "<style scoped>\n",
              "    .dataframe tbody tr th:only-of-type {\n",
              "        vertical-align: middle;\n",
              "    }\n",
              "\n",
              "    .dataframe tbody tr th {\n",
              "        vertical-align: top;\n",
              "    }\n",
              "\n",
              "    .dataframe thead th {\n",
              "        text-align: right;\n",
              "    }\n",
              "</style>\n",
              "<table border=\"1\" class=\"dataframe\">\n",
              "  <thead>\n",
              "    <tr style=\"text-align: right;\">\n",
              "      <th></th>\n",
              "      <th>Year</th>\n",
              "      <th>W_Deaths</th>\n",
              "      <th>Cause Name_All causes</th>\n",
              "      <th>Cause Name_Alzheimer's disease</th>\n",
              "      <th>Cause Name_CLRD</th>\n",
              "      <th>Cause Name_Cancer</th>\n",
              "      <th>Cause Name_Diabetes</th>\n",
              "      <th>Cause Name_Heart disease</th>\n",
              "      <th>Cause Name_Influenza and pneumonia</th>\n",
              "      <th>Cause Name_Kidney disease</th>\n",
              "      <th>Cause Name_Stroke</th>\n",
              "      <th>Cause Name_Suicide</th>\n",
              "      <th>Cause Name_Unintentional injuries</th>\n",
              "    </tr>\n",
              "  </thead>\n",
              "  <tbody>\n",
              "    <tr>\n",
              "      <th>0</th>\n",
              "      <td>0.867365</td>\n",
              "      <td>-0.877917</td>\n",
              "      <td>-0.316228</td>\n",
              "      <td>-0.316228</td>\n",
              "      <td>-0.316228</td>\n",
              "      <td>-0.316228</td>\n",
              "      <td>-0.316228</td>\n",
              "      <td>-0.316228</td>\n",
              "      <td>-0.316228</td>\n",
              "      <td>3.162278</td>\n",
              "      <td>-0.316228</td>\n",
              "      <td>-0.316228</td>\n",
              "      <td>-0.316228</td>\n",
              "    </tr>\n",
              "    <tr>\n",
              "      <th>1</th>\n",
              "      <td>1.638356</td>\n",
              "      <td>-0.875797</td>\n",
              "      <td>-0.316228</td>\n",
              "      <td>-0.316228</td>\n",
              "      <td>-0.316228</td>\n",
              "      <td>-0.316228</td>\n",
              "      <td>-0.316228</td>\n",
              "      <td>-0.316228</td>\n",
              "      <td>-0.316228</td>\n",
              "      <td>3.162278</td>\n",
              "      <td>-0.316228</td>\n",
              "      <td>-0.316228</td>\n",
              "      <td>-0.316228</td>\n",
              "    </tr>\n",
              "  </tbody>\n",
              "</table>\n",
              "</div>\n",
              "      <button class=\"colab-df-convert\" onclick=\"convertToInteractive('df-c3b612b2-030b-497f-ae64-bb84bf9adb4f')\"\n",
              "              title=\"Convert this dataframe to an interactive table.\"\n",
              "              style=\"display:none;\">\n",
              "        \n",
              "  <svg xmlns=\"http://www.w3.org/2000/svg\" height=\"24px\"viewBox=\"0 0 24 24\"\n",
              "       width=\"24px\">\n",
              "    <path d=\"M0 0h24v24H0V0z\" fill=\"none\"/>\n",
              "    <path d=\"M18.56 5.44l.94 2.06.94-2.06 2.06-.94-2.06-.94-.94-2.06-.94 2.06-2.06.94zm-11 1L8.5 8.5l.94-2.06 2.06-.94-2.06-.94L8.5 2.5l-.94 2.06-2.06.94zm10 10l.94 2.06.94-2.06 2.06-.94-2.06-.94-.94-2.06-.94 2.06-2.06.94z\"/><path d=\"M17.41 7.96l-1.37-1.37c-.4-.4-.92-.59-1.43-.59-.52 0-1.04.2-1.43.59L10.3 9.45l-7.72 7.72c-.78.78-.78 2.05 0 2.83L4 21.41c.39.39.9.59 1.41.59.51 0 1.02-.2 1.41-.59l7.78-7.78 2.81-2.81c.8-.78.8-2.07 0-2.86zM5.41 20L4 18.59l7.72-7.72 1.47 1.35L5.41 20z\"/>\n",
              "  </svg>\n",
              "      </button>\n",
              "      \n",
              "  <style>\n",
              "    .colab-df-container {\n",
              "      display:flex;\n",
              "      flex-wrap:wrap;\n",
              "      gap: 12px;\n",
              "    }\n",
              "\n",
              "    .colab-df-convert {\n",
              "      background-color: #E8F0FE;\n",
              "      border: none;\n",
              "      border-radius: 50%;\n",
              "      cursor: pointer;\n",
              "      display: none;\n",
              "      fill: #1967D2;\n",
              "      height: 32px;\n",
              "      padding: 0 0 0 0;\n",
              "      width: 32px;\n",
              "    }\n",
              "\n",
              "    .colab-df-convert:hover {\n",
              "      background-color: #E2EBFA;\n",
              "      box-shadow: 0px 1px 2px rgba(60, 64, 67, 0.3), 0px 1px 3px 1px rgba(60, 64, 67, 0.15);\n",
              "      fill: #174EA6;\n",
              "    }\n",
              "\n",
              "    [theme=dark] .colab-df-convert {\n",
              "      background-color: #3B4455;\n",
              "      fill: #D2E3FC;\n",
              "    }\n",
              "\n",
              "    [theme=dark] .colab-df-convert:hover {\n",
              "      background-color: #434B5C;\n",
              "      box-shadow: 0px 1px 3px 1px rgba(0, 0, 0, 0.15);\n",
              "      filter: drop-shadow(0px 1px 2px rgba(0, 0, 0, 0.3));\n",
              "      fill: #FFFFFF;\n",
              "    }\n",
              "  </style>\n",
              "\n",
              "      <script>\n",
              "        const buttonEl =\n",
              "          document.querySelector('#df-c3b612b2-030b-497f-ae64-bb84bf9adb4f button.colab-df-convert');\n",
              "        buttonEl.style.display =\n",
              "          google.colab.kernel.accessAllowed ? 'block' : 'none';\n",
              "\n",
              "        async function convertToInteractive(key) {\n",
              "          const element = document.querySelector('#df-c3b612b2-030b-497f-ae64-bb84bf9adb4f');\n",
              "          const dataTable =\n",
              "            await google.colab.kernel.invokeFunction('convertToInteractive',\n",
              "                                                     [key], {});\n",
              "          if (!dataTable) return;\n",
              "\n",
              "          const docLinkHtml = 'Like what you see? Visit the ' +\n",
              "            '<a target=\"_blank\" href=https://colab.research.google.com/notebooks/data_table.ipynb>data table notebook</a>'\n",
              "            + ' to learn more about interactive tables.';\n",
              "          element.innerHTML = '';\n",
              "          dataTable['output_type'] = 'display_data';\n",
              "          await google.colab.output.renderOutput(dataTable, element);\n",
              "          const docLink = document.createElement('div');\n",
              "          docLink.innerHTML = docLinkHtml;\n",
              "          element.appendChild(docLink);\n",
              "        }\n",
              "      </script>\n",
              "    </div>\n",
              "  </div>\n",
              "  "
            ]
          },
          "metadata": {},
          "execution_count": 114
        }
      ]
    },
    {
      "cell_type": "markdown",
      "source": [
        "#### train test split"
      ],
      "metadata": {
        "id": "qB8vJobstq8h"
      }
    },
    {
      "cell_type": "code",
      "source": [
        "from sklearn.model_selection import train_test_split\n"
      ],
      "metadata": {
        "id": "VvDiVeIYs7lH"
      },
      "execution_count": 116,
      "outputs": []
    },
    {
      "cell_type": "code",
      "source": [
        "X_train, X_test, y_train, y_test = train_test_split(scaled_features,y, test_size=0.30)\n"
      ],
      "metadata": {
        "id": "F8CnAox3s7oz"
      },
      "execution_count": 117,
      "outputs": []
    },
    {
      "cell_type": "markdown",
      "source": [
        "## Logistic Regression"
      ],
      "metadata": {
        "id": "Z6RKiozywKOq"
      }
    },
    {
      "cell_type": "code",
      "source": [
        "from sklearn.linear_model import LogisticRegression"
      ],
      "metadata": {
        "id": "tt_vrx-swDOn"
      },
      "execution_count": 130,
      "outputs": []
    },
    {
      "cell_type": "code",
      "source": [
        "# define the model\n",
        "logmodel = LogisticRegression()"
      ],
      "metadata": {
        "id": "6sM1cojbwDUs"
      },
      "execution_count": 131,
      "outputs": []
    },
    {
      "cell_type": "code",
      "source": [
        "# fit on the training set\n",
        "logmodel.fit(X_train,y_train)"
      ],
      "metadata": {
        "colab": {
          "base_uri": "https://localhost:8080/"
        },
        "id": "RMyHSIzcwDYz",
        "outputId": "348b65a4-1990-483b-a1e3-fd50bc3162bc"
      },
      "execution_count": 132,
      "outputs": [
        {
          "output_type": "execute_result",
          "data": {
            "text/plain": [
              "LogisticRegression()"
            ]
          },
          "metadata": {},
          "execution_count": 132
        }
      ]
    },
    {
      "cell_type": "code",
      "source": [
        "# predict on test set\n",
        "predictions = logmodel.predict(X_test)"
      ],
      "metadata": {
        "id": "_XpUkVFXwDc3"
      },
      "execution_count": 133,
      "outputs": []
    },
    {
      "cell_type": "code",
      "source": [
        "# evaluate predictions\n",
        "from sklearn.metrics import classification_report"
      ],
      "metadata": {
        "id": "PIf87wJXwDhI"
      },
      "execution_count": 134,
      "outputs": []
    },
    {
      "cell_type": "code",
      "source": [
        "print(classification_report(y_test,predictions))"
      ],
      "metadata": {
        "colab": {
          "base_uri": "https://localhost:8080/"
        },
        "id": "XerbsQO0wDkh",
        "outputId": "f561f9ce-86ce-4a4a-e105-da14e7422134"
      },
      "execution_count": 135,
      "outputs": [
        {
          "output_type": "stream",
          "name": "stdout",
          "text": [
            "              precision    recall  f1-score   support\n",
            "\n",
            "           0       0.87      0.99      0.93      1491\n",
            "           1       0.99      0.86      0.92      1598\n",
            "\n",
            "    accuracy                           0.92      3089\n",
            "   macro avg       0.93      0.93      0.92      3089\n",
            "weighted avg       0.93      0.92      0.92      3089\n",
            "\n"
          ]
        }
      ]
    },
    {
      "cell_type": "markdown",
      "source": [
        "## KNN MODEL"
      ],
      "metadata": {
        "id": "_7uqnZSNuRNT"
      }
    },
    {
      "cell_type": "code",
      "source": [
        "from sklearn.neighbors import KNeighborsClassifier"
      ],
      "metadata": {
        "id": "UwBuz1Aps7si"
      },
      "execution_count": 118,
      "outputs": []
    },
    {
      "cell_type": "code",
      "source": [
        "knn = KNeighborsClassifier(n_neighbors=1)"
      ],
      "metadata": {
        "id": "L-02chl6s7wR"
      },
      "execution_count": 119,
      "outputs": []
    },
    {
      "cell_type": "code",
      "source": [
        "# FIT THE MODEL\n",
        "\n",
        "knn.fit(X_train,y_train)"
      ],
      "metadata": {
        "colab": {
          "base_uri": "https://localhost:8080/"
        },
        "id": "_2CTdizIs70Q",
        "outputId": "67cad9a9-47ad-4e65-a445-6263a19dd764"
      },
      "execution_count": 120,
      "outputs": [
        {
          "output_type": "execute_result",
          "data": {
            "text/plain": [
              "KNeighborsClassifier(n_neighbors=1)"
            ]
          },
          "metadata": {},
          "execution_count": 120
        }
      ]
    },
    {
      "cell_type": "code",
      "source": [
        "# PREDICTION\n",
        "\n",
        "pred = knn.predict(X_test)"
      ],
      "metadata": {
        "id": "wcBQ93fMs73q"
      },
      "execution_count": 121,
      "outputs": []
    },
    {
      "cell_type": "code",
      "source": [
        "from sklearn.metrics import classification_report,confusion_matrix"
      ],
      "metadata": {
        "id": "qtvtAzeNun66"
      },
      "execution_count": 122,
      "outputs": []
    },
    {
      "cell_type": "code",
      "source": [
        "print(confusion_matrix(y_test,pred))"
      ],
      "metadata": {
        "colab": {
          "base_uri": "https://localhost:8080/"
        },
        "id": "Opa5td28un-1",
        "outputId": "f3b1203c-39d8-4049-eaf8-c0bcc0f8f595"
      },
      "execution_count": 123,
      "outputs": [
        {
          "output_type": "stream",
          "name": "stdout",
          "text": [
            "[[1331  160]\n",
            " [ 172 1426]]\n"
          ]
        }
      ]
    },
    {
      "cell_type": "code",
      "source": [
        "print(classification_report(y_test,pred))"
      ],
      "metadata": {
        "colab": {
          "base_uri": "https://localhost:8080/"
        },
        "id": "zv_XirosuoDb",
        "outputId": "7604bbd6-9eef-4ea9-bb17-f74b657d0c37"
      },
      "execution_count": 124,
      "outputs": [
        {
          "output_type": "stream",
          "name": "stdout",
          "text": [
            "              precision    recall  f1-score   support\n",
            "\n",
            "           0       0.89      0.89      0.89      1491\n",
            "           1       0.90      0.89      0.90      1598\n",
            "\n",
            "    accuracy                           0.89      3089\n",
            "   macro avg       0.89      0.89      0.89      3089\n",
            "weighted avg       0.89      0.89      0.89      3089\n",
            "\n"
          ]
        }
      ]
    },
    {
      "cell_type": "markdown",
      "source": [
        "### Choosing a K value"
      ],
      "metadata": {
        "id": "6BNWZv_8u5Q7"
      }
    },
    {
      "cell_type": "code",
      "source": [
        "error_rate = []\n",
        "\n",
        "for i in range(1,50):\n",
        "    \n",
        "    knn = KNeighborsClassifier(n_neighbors=i)\n",
        "    knn.fit(X_train,y_train)\n",
        "    pred_i = knn.predict(X_test)\n",
        "    error_rate.append(np.mean(pred_i != y_test))"
      ],
      "metadata": {
        "id": "vo1M6SpzuoK4"
      },
      "execution_count": 125,
      "outputs": []
    },
    {
      "cell_type": "code",
      "source": [
        "plt.figure(figsize=(10,6))\n",
        "plt.plot(range(1,50),error_rate,color='blue', linestyle='dashed', marker='o', markerfacecolor='red', markersize=10)\n",
        "plt.title('Error Rate vs. K Value')\n",
        "plt.xlabel('K')\n",
        "plt.ylabel('Error Rate')"
      ],
      "metadata": {
        "colab": {
          "base_uri": "https://localhost:8080/",
          "height": 422
        },
        "id": "qnQfPd6AuoM3",
        "outputId": "11a06e8a-cc8e-4624-f75b-0aea7092be9e"
      },
      "execution_count": 126,
      "outputs": [
        {
          "output_type": "execute_result",
          "data": {
            "text/plain": [
              "Text(0, 0.5, 'Error Rate')"
            ]
          },
          "metadata": {},
          "execution_count": 126
        },
        {
          "output_type": "display_data",
          "data": {
            "text/plain": [
              "<Figure size 720x432 with 1 Axes>"
            ],
            "image/png": "[encoded data removed]"
          },
          "metadata": {
            "needs_background": "light"
          }
        }
      ]
    },
    {
      "cell_type": "code",
      "source": [
        "# NOW WITH K=8\n",
        "knn = KNeighborsClassifier(n_neighbors=8)\n",
        "\n",
        "knn.fit(X_train,y_train)\n",
        "pred = knn.predict(X_test)\n",
        "\n",
        "print('WITH K=8')\n",
        "print('\\n')\n",
        "print(confusion_matrix(y_test,pred))\n",
        "print('\\n')\n",
        "print(classification_report(y_test,pred))"
      ],
      "metadata": {
        "colab": {
          "base_uri": "https://localhost:8080/"
        },
        "id": "51Y9F8oHuoO2",
        "outputId": "6e6acccc-b176-4cea-c642-1f48142dceca"
      },
      "execution_count": 129,
      "outputs": [
        {
          "output_type": "stream",
          "name": "stdout",
          "text": [
            "WITH K=8\n",
            "\n",
            "\n",
            "[[1431   60]\n",
            " [ 174 1424]]\n",
            "\n",
            "\n",
            "              precision    recall  f1-score   support\n",
            "\n",
            "           0       0.89      0.96      0.92      1491\n",
            "           1       0.96      0.89      0.92      1598\n",
            "\n",
            "    accuracy                           0.92      3089\n",
            "   macro avg       0.93      0.93      0.92      3089\n",
            "weighted avg       0.93      0.92      0.92      3089\n",
            "\n"
          ]
        }
      ]
    },
    {
      "cell_type": "code",
      "source": [
        "print(logmodel.score(X_test,y_test))\n",
        "pp = logmodel.predict(X_test)\n",
        "print(\"0\", sum(pp!=0))\n",
        "print(\"1\", sum(pp==0))"
      ],
      "metadata": {
        "colab": {
          "base_uri": "https://localhost:8080/"
        },
        "id": "rOQv-0bmuoRe",
        "outputId": "96c445d4-0b9d-46cf-9cb5-14229e71a890"
      },
      "execution_count": 136,
      "outputs": [
        {
          "output_type": "stream",
          "name": "stdout",
          "text": [
            "0.9239235998705082\n",
            "0 1395\n",
            "1 1694\n"
          ]
        }
      ]
    },
    {
      "cell_type": "markdown",
      "source": [
        "## Decision Tree"
      ],
      "metadata": {
        "id": "dU3KKYLJyrVg"
      }
    },
    {
      "cell_type": "code",
      "source": [
        "from sklearn.tree import DecisionTreeClassifier"
      ],
      "metadata": {
        "id": "u9gJEWG5uoV4"
      },
      "execution_count": 137,
      "outputs": []
    },
    {
      "cell_type": "code",
      "source": [
        "dtree = DecisionTreeClassifier()"
      ],
      "metadata": {
        "id": "NUCyoJfGuoZb"
      },
      "execution_count": 138,
      "outputs": []
    },
    {
      "cell_type": "code",
      "source": [
        "dtree.fit(X_train, y_train)"
      ],
      "metadata": {
        "colab": {
          "base_uri": "https://localhost:8080/"
        },
        "id": "6zl1sn6qxF6k",
        "outputId": "956a47b4-2d3d-40ff-88be-45c7ccf451c9"
      },
      "execution_count": 139,
      "outputs": [
        {
          "output_type": "execute_result",
          "data": {
            "text/plain": [
              "DecisionTreeClassifier()"
            ]
          },
          "metadata": {},
          "execution_count": 139
        }
      ]
    },
    {
      "cell_type": "code",
      "source": [
        "y_predict = dtree.predict(X_test)"
      ],
      "metadata": {
        "id": "_lWWKyCtxF3C"
      },
      "execution_count": 140,
      "outputs": []
    },
    {
      "cell_type": "code",
      "source": [
        "from sklearn.metrics import confusion_matrix, classification_report"
      ],
      "metadata": {
        "id": "kiT3OsfMxFzR"
      },
      "execution_count": 141,
      "outputs": []
    },
    {
      "cell_type": "code",
      "source": [
        "print(classification_report(y_test, y_predict))"
      ],
      "metadata": {
        "colab": {
          "base_uri": "https://localhost:8080/"
        },
        "id": "6h38o0PxxFwH",
        "outputId": "c368f24b-c92e-4d12-c238-6ebae3fdfabf"
      },
      "execution_count": 142,
      "outputs": [
        {
          "output_type": "stream",
          "name": "stdout",
          "text": [
            "              precision    recall  f1-score   support\n",
            "\n",
            "           0       0.91      0.92      0.92      1491\n",
            "           1       0.92      0.92      0.92      1598\n",
            "\n",
            "    accuracy                           0.92      3089\n",
            "   macro avg       0.92      0.92      0.92      3089\n",
            "weighted avg       0.92      0.92      0.92      3089\n",
            "\n"
          ]
        }
      ]
    },
    {
      "cell_type": "code",
      "source": [
        "print(confusion_matrix(y_test, y_predict))"
      ],
      "metadata": {
        "colab": {
          "base_uri": "https://localhost:8080/"
        },
        "id": "MSsuG50NxFsp",
        "outputId": "f3c0d7e5-800b-4e89-e1d1-1fbeddeffa37"
      },
      "execution_count": 143,
      "outputs": [
        {
          "output_type": "stream",
          "name": "stdout",
          "text": [
            "[[1369  122]\n",
            " [ 132 1466]]\n"
          ]
        }
      ]
    },
    {
      "cell_type": "markdown",
      "source": [
        "## Random Forest"
      ],
      "metadata": {
        "id": "Z1ZfEHqNzQHl"
      }
    },
    {
      "cell_type": "code",
      "source": [
        "from sklearn.ensemble import RandomForestClassifier"
      ],
      "metadata": {
        "id": "mBEO4yWSxFpG"
      },
      "execution_count": 144,
      "outputs": []
    },
    {
      "cell_type": "code",
      "source": [
        "rforest = RandomForestClassifier(n_estimators = 300)"
      ],
      "metadata": {
        "id": "pdKMfcQwxFlw"
      },
      "execution_count": 145,
      "outputs": []
    },
    {
      "cell_type": "code",
      "source": [
        "rforest.fit(X_train, y_train)"
      ],
      "metadata": {
        "colab": {
          "base_uri": "https://localhost:8080/"
        },
        "id": "zjABBjycxFhk",
        "outputId": "c896cda3-f859-4e75-f462-aa9e01d9b03d"
      },
      "execution_count": 146,
      "outputs": [
        {
          "output_type": "execute_result",
          "data": {
            "text/plain": [
              "RandomForestClassifier(n_estimators=300)"
            ]
          },
          "metadata": {},
          "execution_count": 146
        }
      ]
    },
    {
      "cell_type": "code",
      "source": [
        "y_predict = rforest.predict(X_test)"
      ],
      "metadata": {
        "id": "nVTvQmpYxFd8"
      },
      "execution_count": 147,
      "outputs": []
    },
    {
      "cell_type": "code",
      "source": [
        "print(classification_report(y_test,y_predict))"
      ],
      "metadata": {
        "colab": {
          "base_uri": "https://localhost:8080/"
        },
        "id": "qjIotHgbxFcN",
        "outputId": "9c9efcd9-cc7e-483e-da7b-720985082b37"
      },
      "execution_count": 148,
      "outputs": [
        {
          "output_type": "stream",
          "name": "stdout",
          "text": [
            "              precision    recall  f1-score   support\n",
            "\n",
            "           0       0.90      0.92      0.91      1491\n",
            "           1       0.92      0.90      0.91      1598\n",
            "\n",
            "    accuracy                           0.91      3089\n",
            "   macro avg       0.91      0.91      0.91      3089\n",
            "weighted avg       0.91      0.91      0.91      3089\n",
            "\n"
          ]
        }
      ]
    },
    {
      "cell_type": "code",
      "source": [
        "print(confusion_matrix(y_test,y_predict))"
      ],
      "metadata": {
        "colab": {
          "base_uri": "https://localhost:8080/"
        },
        "id": "WqiEKr_oxFaT",
        "outputId": "a1cb4b29-510c-4b64-bd6a-b1004b6883af"
      },
      "execution_count": 149,
      "outputs": [
        {
          "output_type": "stream",
          "name": "stdout",
          "text": [
            "[[1371  120]\n",
            " [ 160 1438]]\n"
          ]
        }
      ]
    },
    {
      "cell_type": "markdown",
      "source": [
        "## SVM"
      ],
      "metadata": {
        "id": "gF5ig7h0z1KS"
      }
    },
    {
      "cell_type": "code",
      "source": [
        "from sklearn.svm import SVC"
      ],
      "metadata": {
        "id": "lItzY-RCxFWx"
      },
      "execution_count": 150,
      "outputs": []
    },
    {
      "cell_type": "code",
      "source": [
        "model = SVC()"
      ],
      "metadata": {
        "id": "9K-LHS0AxFR_"
      },
      "execution_count": 151,
      "outputs": []
    },
    {
      "cell_type": "code",
      "source": [
        "model.fit(X_train,y_train)"
      ],
      "metadata": {
        "colab": {
          "base_uri": "https://localhost:8080/"
        },
        "id": "Md-F_1HYxFNY",
        "outputId": "0cc95720-68ab-45da-f3df-0e9d11b63603"
      },
      "execution_count": 152,
      "outputs": [
        {
          "output_type": "execute_result",
          "data": {
            "text/plain": [
              "SVC()"
            ]
          },
          "metadata": {},
          "execution_count": 152
        }
      ]
    },
    {
      "cell_type": "code",
      "source": [
        "predictions = model.predict(X_test)"
      ],
      "metadata": {
        "id": "J7FOHmpE0NIa"
      },
      "execution_count": 153,
      "outputs": []
    },
    {
      "cell_type": "code",
      "source": [
        "from sklearn.metrics import classification_report,confusion_matrix"
      ],
      "metadata": {
        "id": "jAAOUsDJ0NMX"
      },
      "execution_count": 154,
      "outputs": []
    },
    {
      "cell_type": "code",
      "source": [
        "print(confusion_matrix(y_test,predictions))"
      ],
      "metadata": {
        "colab": {
          "base_uri": "https://localhost:8080/"
        },
        "id": "tysL0hNP0NQV",
        "outputId": "68edd154-31d8-451e-f434-f9837e56a842"
      },
      "execution_count": 155,
      "outputs": [
        {
          "output_type": "stream",
          "name": "stdout",
          "text": [
            "[[1452   39]\n",
            " [ 194 1404]]\n"
          ]
        }
      ]
    },
    {
      "cell_type": "code",
      "source": [
        "print(classification_report(y_test,predictions))"
      ],
      "metadata": {
        "colab": {
          "base_uri": "https://localhost:8080/"
        },
        "id": "NTZ43BDR0NTV",
        "outputId": "96ae3d76-4c05-4748-a3f2-40cbcfc62803"
      },
      "execution_count": 156,
      "outputs": [
        {
          "output_type": "stream",
          "name": "stdout",
          "text": [
            "              precision    recall  f1-score   support\n",
            "\n",
            "           0       0.88      0.97      0.93      1491\n",
            "           1       0.97      0.88      0.92      1598\n",
            "\n",
            "    accuracy                           0.92      3089\n",
            "   macro avg       0.93      0.93      0.92      3089\n",
            "weighted avg       0.93      0.92      0.92      3089\n",
            "\n"
          ]
        }
      ]
    },
    {
      "cell_type": "markdown",
      "source": [
        "the models have accuracy rate of 91-92 percent - anyone would be acceptable"
      ],
      "metadata": {
        "id": "fceu3mjR1LCB"
      }
    },
    {
      "cell_type": "code",
      "source": [
        ""
      ],
      "metadata": {
        "id": "pbm8-wNk0NW9"
      },
      "execution_count": null,
      "outputs": []
    },
    {
      "cell_type": "code",
      "source": [
        ""
      ],
      "metadata": {
        "id": "gf3_tWvE0NbC"
      },
      "execution_count": null,
      "outputs": []
    },
    {
      "cell_type": "code",
      "source": [
        ""
      ],
      "metadata": {
        "id": "260b55O10NeZ"
      },
      "execution_count": null,
      "outputs": []
    },
    {
      "cell_type": "code",
      "source": [
        ""
      ],
      "metadata": {
        "id": "4tHuK_UjxFJW"
      },
      "execution_count": null,
      "outputs": []
    }
  ]
}