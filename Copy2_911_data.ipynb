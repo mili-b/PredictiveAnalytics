{
  "nbformat": 4,
  "nbformat_minor": 0,
  "metadata": {
    "colab": {
      "name": "Copy2.911 data.ipynb",
      "provenance": [],
      "collapsed_sections": [],
      "authorship_tag": "ABX9TyPgQQ4bYU40KMJp/Ei8lDGY",
      "include_colab_link": true
    },
    "kernelspec": {
      "name": "python3",
      "display_name": "Python 3"
    },
    "language_info": {
      "name": "python"
    }
  },
  "cells": [
    {
      "cell_type": "markdown",
      "metadata": {
        "id": "view-in-github",
        "colab_type": "text"
      },
      "source": [
        "<a href=\"https://colab.research.google.com/github/mili-b/PredictiveAnalytics/blob/main/Copy2_911_data.ipynb\" target=\"_parent\"><img src=\"https://colab.research.google.com/assets/colab-badge.svg\" alt=\"Open In Colab\"/></a>"
      ]
    },
    {
      "cell_type": "markdown",
      "source": [
        "# Import Libraries"
      ],
      "metadata": {
        "id": "PSkydkmxOoDV"
      }
    },
    {
      "cell_type": "code",
      "execution_count": 279,
      "metadata": {
        "id": "yAO2uhjzOT_o"
      },
      "outputs": [],
      "source": [
        "\n",
        "import pandas as pd\n",
        "import numpy as np\n",
        "import matplotlib.pyplot as plt\n",
        "import seaborn as sns\n",
        "%matplotlib inline\n",
        "sns.set_style(\"whitegrid\")\n"
      ]
    },
    {
      "cell_type": "markdown",
      "source": [
        "# Read in and Examine the Data"
      ],
      "metadata": {
        "id": "uzsJ2ZDcOyeR"
      }
    },
    {
      "cell_type": "code",
      "source": [
        "df = pd.read_csv('https://raw.githubusercontent.com/mili-b/Data/main/911.csv')\n"
      ],
      "metadata": {
        "id": "QWp1qJC6Ouxk"
      },
      "execution_count": 280,
      "outputs": []
    },
    {
      "cell_type": "code",
      "source": [
        "# number of columns and rows\n",
        "df.shape"
      ],
      "metadata": {
        "colab": {
          "base_uri": "https://localhost:8080/"
        },
        "id": "v59fMCdpOu2G",
        "outputId": "4886cac0-02f5-41b6-82f3-db4de1ec5b83"
      },
      "execution_count": 281,
      "outputs": [
        {
          "output_type": "execute_result",
          "data": {
            "text/plain": [
              "(99492, 9)"
            ]
          },
          "metadata": {},
          "execution_count": 281
        }
      ]
    },
    {
      "cell_type": "code",
      "source": [
        "# view data\n",
        "df.head(3)"
      ],
      "metadata": {
        "colab": {
          "base_uri": "https://localhost:8080/",
          "height": 361
        },
        "id": "_JlW8uPwOu6s",
        "outputId": "fb043fca-efd3-4579-9561-0a48c20d30f0"
      },
      "execution_count": 282,
      "outputs": [
        {
          "output_type": "execute_result",
          "data": {
            "text/plain": [
              "         lat        lng                                               desc  \\\n",
              "0  40.297876 -75.581294  REINDEER CT & DEAD END;  NEW HANOVER; Station ...   \n",
              "1  40.258061 -75.264680  BRIAR PATH & WHITEMARSH LN;  HATFIELD TOWNSHIP...   \n",
              "2  40.121182 -75.351975  HAWS AVE; NORRISTOWN; 2015-12-10 @ 14:39:21-St...   \n",
              "\n",
              "       zip                    title         timeStamp                twp  \\\n",
              "0  19525.0   EMS: BACK PAINS/INJURY  12/10/2015 17:40        NEW HANOVER   \n",
              "1  19446.0  EMS: DIABETIC EMERGENCY  12/10/2015 17:40  HATFIELD TOWNSHIP   \n",
              "2  19401.0      Fire: GAS-ODOR/LEAK  12/10/2015 17:40         NORRISTOWN   \n",
              "\n",
              "                         addr  e  \n",
              "0      REINDEER CT & DEAD END  1  \n",
              "1  BRIAR PATH & WHITEMARSH LN  1  \n",
              "2                    HAWS AVE  1  "
            ],
            "text/html": [
              "\n",
              "  <div id=\"df-dbfaf4ad-075d-497e-9326-f9b6adb0ad12\">\n",
              "    <div class=\"colab-df-container\">\n",
              "      <div>\n",
              "<style scoped>\n",
              "    .dataframe tbody tr th:only-of-type {\n",
              "        vertical-align: middle;\n",
              "    }\n",
              "\n",
              "    .dataframe tbody tr th {\n",
              "        vertical-align: top;\n",
              "    }\n",
              "\n",
              "    .dataframe thead th {\n",
              "        text-align: right;\n",
              "    }\n",
              "</style>\n",
              "<table border=\"1\" class=\"dataframe\">\n",
              "  <thead>\n",
              "    <tr style=\"text-align: right;\">\n",
              "      <th></th>\n",
              "      <th>lat</th>\n",
              "      <th>lng</th>\n",
              "      <th>desc</th>\n",
              "      <th>zip</th>\n",
              "      <th>title</th>\n",
              "      <th>timeStamp</th>\n",
              "      <th>twp</th>\n",
              "      <th>addr</th>\n",
              "      <th>e</th>\n",
              "    </tr>\n",
              "  </thead>\n",
              "  <tbody>\n",
              "    <tr>\n",
              "      <th>0</th>\n",
              "      <td>40.297876</td>\n",
              "      <td>-75.581294</td>\n",
              "      <td>REINDEER CT &amp; DEAD END;  NEW HANOVER; Station ...</td>\n",
              "      <td>19525.0</td>\n",
              "      <td>EMS: BACK PAINS/INJURY</td>\n",
              "      <td>12/10/2015 17:40</td>\n",
              "      <td>NEW HANOVER</td>\n",
              "      <td>REINDEER CT &amp; DEAD END</td>\n",
              "      <td>1</td>\n",
              "    </tr>\n",
              "    <tr>\n",
              "      <th>1</th>\n",
              "      <td>40.258061</td>\n",
              "      <td>-75.264680</td>\n",
              "      <td>BRIAR PATH &amp; WHITEMARSH LN;  HATFIELD TOWNSHIP...</td>\n",
              "      <td>19446.0</td>\n",
              "      <td>EMS: DIABETIC EMERGENCY</td>\n",
              "      <td>12/10/2015 17:40</td>\n",
              "      <td>HATFIELD TOWNSHIP</td>\n",
              "      <td>BRIAR PATH &amp; WHITEMARSH LN</td>\n",
              "      <td>1</td>\n",
              "    </tr>\n",
              "    <tr>\n",
              "      <th>2</th>\n",
              "      <td>40.121182</td>\n",
              "      <td>-75.351975</td>\n",
              "      <td>HAWS AVE; NORRISTOWN; 2015-12-10 @ 14:39:21-St...</td>\n",
              "      <td>19401.0</td>\n",
              "      <td>Fire: GAS-ODOR/LEAK</td>\n",
              "      <td>12/10/2015 17:40</td>\n",
              "      <td>NORRISTOWN</td>\n",
              "      <td>HAWS AVE</td>\n",
              "      <td>1</td>\n",
              "    </tr>\n",
              "  </tbody>\n",
              "</table>\n",
              "</div>\n",
              "      <button class=\"colab-df-convert\" onclick=\"convertToInteractive('df-dbfaf4ad-075d-497e-9326-f9b6adb0ad12')\"\n",
              "              title=\"Convert this dataframe to an interactive table.\"\n",
              "              style=\"display:none;\">\n",
              "        \n",
              "  <svg xmlns=\"http://www.w3.org/2000/svg\" height=\"24px\"viewBox=\"0 0 24 24\"\n",
              "       width=\"24px\">\n",
              "    <path d=\"M0 0h24v24H0V0z\" fill=\"none\"/>\n",
              "    <path d=\"M18.56 5.44l.94 2.06.94-2.06 2.06-.94-2.06-.94-.94-2.06-.94 2.06-2.06.94zm-11 1L8.5 8.5l.94-2.06 2.06-.94-2.06-.94L8.5 2.5l-.94 2.06-2.06.94zm10 10l.94 2.06.94-2.06 2.06-.94-2.06-.94-.94-2.06-.94 2.06-2.06.94z\"/><path d=\"M17.41 7.96l-1.37-1.37c-.4-.4-.92-.59-1.43-.59-.52 0-1.04.2-1.43.59L10.3 9.45l-7.72 7.72c-.78.78-.78 2.05 0 2.83L4 21.41c.39.39.9.59 1.41.59.51 0 1.02-.2 1.41-.59l7.78-7.78 2.81-2.81c.8-.78.8-2.07 0-2.86zM5.41 20L4 18.59l7.72-7.72 1.47 1.35L5.41 20z\"/>\n",
              "  </svg>\n",
              "      </button>\n",
              "      \n",
              "  <style>\n",
              "    .colab-df-container {\n",
              "      display:flex;\n",
              "      flex-wrap:wrap;\n",
              "      gap: 12px;\n",
              "    }\n",
              "\n",
              "    .colab-df-convert {\n",
              "      background-color: #E8F0FE;\n",
              "      border: none;\n",
              "      border-radius: 50%;\n",
              "      cursor: pointer;\n",
              "      display: none;\n",
              "      fill: #1967D2;\n",
              "      height: 32px;\n",
              "      padding: 0 0 0 0;\n",
              "      width: 32px;\n",
              "    }\n",
              "\n",
              "    .colab-df-convert:hover {\n",
              "      background-color: #E2EBFA;\n",
              "      box-shadow: 0px 1px 2px rgba(60, 64, 67, 0.3), 0px 1px 3px 1px rgba(60, 64, 67, 0.15);\n",
              "      fill: #174EA6;\n",
              "    }\n",
              "\n",
              "    [theme=dark] .colab-df-convert {\n",
              "      background-color: #3B4455;\n",
              "      fill: #D2E3FC;\n",
              "    }\n",
              "\n",
              "    [theme=dark] .colab-df-convert:hover {\n",
              "      background-color: #434B5C;\n",
              "      box-shadow: 0px 1px 3px 1px rgba(0, 0, 0, 0.15);\n",
              "      filter: drop-shadow(0px 1px 2px rgba(0, 0, 0, 0.3));\n",
              "      fill: #FFFFFF;\n",
              "    }\n",
              "  </style>\n",
              "\n",
              "      <script>\n",
              "        const buttonEl =\n",
              "          document.querySelector('#df-dbfaf4ad-075d-497e-9326-f9b6adb0ad12 button.colab-df-convert');\n",
              "        buttonEl.style.display =\n",
              "          google.colab.kernel.accessAllowed ? 'block' : 'none';\n",
              "\n",
              "        async function convertToInteractive(key) {\n",
              "          const element = document.querySelector('#df-dbfaf4ad-075d-497e-9326-f9b6adb0ad12');\n",
              "          const dataTable =\n",
              "            await google.colab.kernel.invokeFunction('convertToInteractive',\n",
              "                                                     [key], {});\n",
              "          if (!dataTable) return;\n",
              "\n",
              "          const docLinkHtml = 'Like what you see? Visit the ' +\n",
              "            '<a target=\"_blank\" href=https://colab.research.google.com/notebooks/data_table.ipynb>data table notebook</a>'\n",
              "            + ' to learn more about interactive tables.';\n",
              "          element.innerHTML = '';\n",
              "          dataTable['output_type'] = 'display_data';\n",
              "          await google.colab.output.renderOutput(dataTable, element);\n",
              "          const docLink = document.createElement('div');\n",
              "          docLink.innerHTML = docLinkHtml;\n",
              "          element.appendChild(docLink);\n",
              "        }\n",
              "      </script>\n",
              "    </div>\n",
              "  </div>\n",
              "  "
            ]
          },
          "metadata": {},
          "execution_count": 282
        }
      ]
    },
    {
      "cell_type": "code",
      "source": [
        "# missing data in zip, twp and addr\n",
        "df.isnull().sum()"
      ],
      "metadata": {
        "colab": {
          "base_uri": "https://localhost:8080/"
        },
        "id": "vIaUvuXKOu_E",
        "outputId": "30d4a91e-98e9-4790-c856-a571e79d34b4"
      },
      "execution_count": 283,
      "outputs": [
        {
          "output_type": "execute_result",
          "data": {
            "text/plain": [
              "lat              0\n",
              "lng              0\n",
              "desc             0\n",
              "zip          12855\n",
              "title            0\n",
              "timeStamp        0\n",
              "twp             43\n",
              "addr           519\n",
              "e                0\n",
              "dtype: int64"
            ]
          },
          "metadata": {},
          "execution_count": 283
        }
      ]
    },
    {
      "cell_type": "code",
      "source": [
        "# data types - timeStamp listed as object\n",
        "df.info()"
      ],
      "metadata": {
        "colab": {
          "base_uri": "https://localhost:8080/"
        },
        "id": "WUE417U-OvCg",
        "outputId": "03dff9d9-d710-4a12-b319-91f1f76c0369"
      },
      "execution_count": 284,
      "outputs": [
        {
          "output_type": "stream",
          "name": "stdout",
          "text": [
            "<class 'pandas.core.frame.DataFrame'>\n",
            "RangeIndex: 99492 entries, 0 to 99491\n",
            "Data columns (total 9 columns):\n",
            " #   Column     Non-Null Count  Dtype  \n",
            "---  ------     --------------  -----  \n",
            " 0   lat        99492 non-null  float64\n",
            " 1   lng        99492 non-null  float64\n",
            " 2   desc       99492 non-null  object \n",
            " 3   zip        86637 non-null  float64\n",
            " 4   title      99492 non-null  object \n",
            " 5   timeStamp  99492 non-null  object \n",
            " 6   twp        99449 non-null  object \n",
            " 7   addr       98973 non-null  object \n",
            " 8   e          99492 non-null  int64  \n",
            "dtypes: float64(3), int64(1), object(5)\n",
            "memory usage: 6.8+ MB\n"
          ]
        }
      ]
    },
    {
      "cell_type": "code",
      "source": [
        "# column desc seem to contain a combination of address, township, \n",
        "# station and date of call.  station and data seem to mix order\n",
        "print(df['desc'].values)"
      ],
      "metadata": {
        "colab": {
          "base_uri": "https://localhost:8080/"
        },
        "id": "4n-oIn5EOvQg",
        "outputId": "902302d0-370e-4ffb-b3be-8babd0eaa1aa"
      },
      "execution_count": 285,
      "outputs": [
        {
          "output_type": "stream",
          "name": "stdout",
          "text": [
            "['REINDEER CT & DEAD END;  NEW HANOVER; Station 332; 2015-12-10 @ 17:10:52;'\n",
            " 'BRIAR PATH & WHITEMARSH LN;  HATFIELD TOWNSHIP; Station 345; 2015-12-10 @ 17:29:21;'\n",
            " 'HAWS AVE; NORRISTOWN; 2015-12-10 @ 14:39:21-Station:STA27;' ...\n",
            " 'CHESTNUT ST & WALNUT ST;  NORRISTOWN; Station 308A; 2016-08-24 @ 11:07:31;'\n",
            " 'WELSH RD & WEBSTER LN;  HORSHAM; Station 352; 2016-08-24 @ 11:13:19;'\n",
            " 'MORRIS RD & S BROAD ST; UPPER GWYNEDD; 2016-08-24 @ 11:15:50;']\n"
          ]
        }
      ]
    },
    {
      "cell_type": "markdown",
      "source": [
        "# Data Manipulation"
      ],
      "metadata": {
        "id": "rw_ZKNbqSlkW"
      }
    },
    {
      "cell_type": "markdown",
      "source": [
        "#### split 'twp' into two - Dept and Reason"
      ],
      "metadata": {
        "id": "6TcMVoYoFH57"
      }
    },
    {
      "cell_type": "code",
      "source": [
        "# split 'twp' into 'Dept' and 'Reason' for call - to allow analysis by each\n",
        "\n",
        "##df['Dept'] = df['title'].apply(lambda x: x.split(':')[0])         #this works\n",
        "df['Dept'] = df['title'].apply(lambda title: title.split(':')[0])\n",
        "\n",
        "##df['Reason'] = df['title'].apply(lambda x: x.split(':')[1])        #this works\n",
        "df['Reason'] = df['title'].apply(lambda title: title.split(':')[1])"
      ],
      "metadata": {
        "id": "PYt7sWzlOwAP"
      },
      "execution_count": 286,
      "outputs": []
    },
    {
      "cell_type": "code",
      "source": [
        "#df.head(20)"
      ],
      "metadata": {
        "id": "c20U4JfLOwDn"
      },
      "execution_count": 287,
      "outputs": []
    },
    {
      "cell_type": "code",
      "source": [
        "# a closer look at the Reason column show vehicle accident listed in two forms\n",
        "#  'VEHICLE ACCIDENT -', and ' VEHICLE ACCIDENT'\n",
        "# Traffic dept calls appear to have a dash at the end as in 'VEHICLE ACCIDENT -'\n",
        "# EMS dept calls appear to have no dash at the end as in 'VEHICLE ACCIDENT'\n",
        "\n",
        "df['Reason'].unique()"
      ],
      "metadata": {
        "colab": {
          "base_uri": "https://localhost:8080/"
        },
        "id": "DCw5EpKBKR6e",
        "outputId": "509c7b27-95c4-49dc-d79c-ccd8e436f990"
      },
      "execution_count": 288,
      "outputs": [
        {
          "output_type": "execute_result",
          "data": {
            "text/plain": [
              "array([' BACK PAINS/INJURY', ' DIABETIC EMERGENCY', ' GAS-ODOR/LEAK',\n",
              "       ' CARDIAC EMERGENCY', ' DIZZINESS', ' HEAD INJURY',\n",
              "       ' NAUSEA/VOMITING', ' RESPIRATORY EMERGENCY', ' SYNCOPAL EPISODE',\n",
              "       ' VEHICLE ACCIDENT -', ' VEHICLE ACCIDENT', ' DISABLED VEHICLE -',\n",
              "       ' APPLIANCE FIRE', ' GENERAL WEAKNESS',\n",
              "       ' CARBON MONOXIDE DETECTOR', ' UNKNOWN MEDICAL EMERGENCY',\n",
              "       ' UNRESPONSIVE SUBJECT', ' ALTERED MENTAL STATUS', ' FIRE ALARM',\n",
              "       ' CVA/STROKE', ' ROAD OBSTRUCTION -', ' SUBJECT IN PAIN',\n",
              "       ' HEMORRHAGING', ' FALL VICTIM', ' ASSAULT VICTIM', ' SEIZURES',\n",
              "       ' MEDICAL ALERT ALARM', ' ABDOMINAL PAINS', ' PUMP DETAIL',\n",
              "       ' FIRE INVESTIGATION', ' OVERDOSE', ' MATERNITY',\n",
              "       ' UNCONSCIOUS SUBJECT', ' CHOKING', ' LACERATIONS',\n",
              "       ' TRASH/DUMPSTER FIRE', ' UNKNOWN TYPE FIRE', ' BUILDING FIRE',\n",
              "       ' ELECTRICAL FIRE OUTSIDE', ' DEBRIS/FLUIDS ON HIGHWAY',\n",
              "       ' DEBRIS/FLUIDS ON HIGHWAY -', ' FEVER', ' ALLERGIC REACTION',\n",
              "       ' VEHICLE LEAKING FUEL -', ' FRACTURE', ' BURN VICTIM',\n",
              "       ' RESCUE - GENERAL', ' WOODS/FIELD FIRE', ' FIRE SPECIAL SERVICE',\n",
              "       ' VEHICLE FIRE', ' VEHICLE FIRE -', ' WARRANT SERVICE',\n",
              "       ' S/B AT HELICOPTER LANDING', ' EMS SPECIAL SERVICE',\n",
              "       ' HAZARDOUS ROAD CONDITIONS -', ' RESCUE - ELEVATOR',\n",
              "       ' DEHYDRATION', ' SHOOTING', ' POISONING', ' TRANSFERRED CALL',\n",
              "       ' RESCUE - TECHNICAL', ' VEHICLE LEAKING FUEL', ' EYE INJURY',\n",
              "       ' ELECTROCUTION', ' STABBING', ' FIRE POLICE NEEDED',\n",
              "       ' AMPUTATION', ' ANIMAL BITE', ' HAZARDOUS MATERIALS INCIDENT',\n",
              "       ' TRAIN CRASH', ' RESCUE - WATER', ' CARDIAC ARREST',\n",
              "       ' PLANE CRASH', ' HEAT EXHAUSTION', ' ACTIVE SHOOTER',\n",
              "       ' DISABLED VEHICLE', ' POLICE INFORMATION', ' BOMB DEVICE FOUND',\n",
              "       ' INDUSTRIAL ACCIDENT', ' DROWNING', ' SUSPICIOUS'], dtype=object)"
            ]
          },
          "metadata": {},
          "execution_count": 288
        }
      ]
    },
    {
      "cell_type": "code",
      "source": [
        "# Remove dashes to get a better view/count of each cause\n",
        "\n",
        "df['Reason'] = df.title.str.split(':', expand=True)[0]\n",
        "df['Reason'] = df.title.str.split(':', expand=True)[1].str.replace(' -', '')"
      ],
      "metadata": {
        "id": "TiPmdeAoKSIB"
      },
      "execution_count": 289,
      "outputs": []
    },
    {
      "cell_type": "code",
      "source": [
        "#notice - vehicle accident is listed only once now\n",
        "\n",
        "df['Reason'].unique()"
      ],
      "metadata": {
        "colab": {
          "base_uri": "https://localhost:8080/"
        },
        "id": "kUg__07cNPht",
        "outputId": "f6016bdf-a63a-445c-eaa5-112cf81e241e"
      },
      "execution_count": 290,
      "outputs": [
        {
          "output_type": "execute_result",
          "data": {
            "text/plain": [
              "array([' BACK PAINS/INJURY', ' DIABETIC EMERGENCY', ' GAS-ODOR/LEAK',\n",
              "       ' CARDIAC EMERGENCY', ' DIZZINESS', ' HEAD INJURY',\n",
              "       ' NAUSEA/VOMITING', ' RESPIRATORY EMERGENCY', ' SYNCOPAL EPISODE',\n",
              "       ' VEHICLE ACCIDENT', ' DISABLED VEHICLE', ' APPLIANCE FIRE',\n",
              "       ' GENERAL WEAKNESS', ' CARBON MONOXIDE DETECTOR',\n",
              "       ' UNKNOWN MEDICAL EMERGENCY', ' UNRESPONSIVE SUBJECT',\n",
              "       ' ALTERED MENTAL STATUS', ' FIRE ALARM', ' CVA/STROKE',\n",
              "       ' ROAD OBSTRUCTION', ' SUBJECT IN PAIN', ' HEMORRHAGING',\n",
              "       ' FALL VICTIM', ' ASSAULT VICTIM', ' SEIZURES',\n",
              "       ' MEDICAL ALERT ALARM', ' ABDOMINAL PAINS', ' PUMP DETAIL',\n",
              "       ' FIRE INVESTIGATION', ' OVERDOSE', ' MATERNITY',\n",
              "       ' UNCONSCIOUS SUBJECT', ' CHOKING', ' LACERATIONS',\n",
              "       ' TRASH/DUMPSTER FIRE', ' UNKNOWN TYPE FIRE', ' BUILDING FIRE',\n",
              "       ' ELECTRICAL FIRE OUTSIDE', ' DEBRIS/FLUIDS ON HIGHWAY', ' FEVER',\n",
              "       ' ALLERGIC REACTION', ' VEHICLE LEAKING FUEL', ' FRACTURE',\n",
              "       ' BURN VICTIM', ' RESCUE GENERAL', ' WOODS/FIELD FIRE',\n",
              "       ' FIRE SPECIAL SERVICE', ' VEHICLE FIRE', ' WARRANT SERVICE',\n",
              "       ' S/B AT HELICOPTER LANDING', ' EMS SPECIAL SERVICE',\n",
              "       ' HAZARDOUS ROAD CONDITIONS', ' RESCUE ELEVATOR', ' DEHYDRATION',\n",
              "       ' SHOOTING', ' POISONING', ' TRANSFERRED CALL',\n",
              "       ' RESCUE TECHNICAL', ' EYE INJURY', ' ELECTROCUTION', ' STABBING',\n",
              "       ' FIRE POLICE NEEDED', ' AMPUTATION', ' ANIMAL BITE',\n",
              "       ' HAZARDOUS MATERIALS INCIDENT', ' TRAIN CRASH', ' RESCUE WATER',\n",
              "       ' CARDIAC ARREST', ' PLANE CRASH', ' HEAT EXHAUSTION',\n",
              "       ' ACTIVE SHOOTER', ' POLICE INFORMATION', ' BOMB DEVICE FOUND',\n",
              "       ' INDUSTRIAL ACCIDENT', ' DROWNING', ' SUSPICIOUS'], dtype=object)"
            ]
          },
          "metadata": {},
          "execution_count": 290
        }
      ]
    },
    {
      "cell_type": "code",
      "source": [
        "#df.head(20)"
      ],
      "metadata": {
        "id": "j0jUvikfNP2g"
      },
      "execution_count": 291,
      "outputs": []
    },
    {
      "cell_type": "markdown",
      "source": [
        "#### change 'timeStamp' to datetime and deconstruct"
      ],
      "metadata": {
        "id": "Uv9wkK4wF0um"
      }
    },
    {
      "cell_type": "code",
      "source": [
        "df['timeStamp'] = pd.to_datetime(df['timeStamp'])"
      ],
      "metadata": {
        "id": "l9naSRcUOwHD"
      },
      "execution_count": 292,
      "outputs": []
    },
    {
      "cell_type": "code",
      "source": [
        "print(df['timeStamp'])"
      ],
      "metadata": {
        "colab": {
          "base_uri": "https://localhost:8080/"
        },
        "id": "rTXbRxYLF-JM",
        "outputId": "41d2a99d-115d-43b0-9cf8-6bc9b6f1ffa0"
      },
      "execution_count": 293,
      "outputs": [
        {
          "output_type": "stream",
          "name": "stdout",
          "text": [
            "0       2015-12-10 17:40:00\n",
            "1       2015-12-10 17:40:00\n",
            "2       2015-12-10 17:40:00\n",
            "3       2015-12-10 17:40:00\n",
            "4       2015-12-10 17:40:00\n",
            "                ...        \n",
            "99487   2016-08-24 11:06:00\n",
            "99488   2016-08-24 11:07:00\n",
            "99489   2016-08-24 11:12:00\n",
            "99490   2016-08-24 11:17:00\n",
            "99491   2016-08-24 11:17:00\n",
            "Name: timeStamp, Length: 99492, dtype: datetime64[ns]\n"
          ]
        }
      ]
    },
    {
      "cell_type": "code",
      "source": [
        "# deconstruct 'timestamp' into year, month, day, hour - to facilite analysis \n",
        "# by these components - example - to find most calls by month, day, hour etc\n",
        "\n",
        "df['Hour'] = df.timeStamp.dt.hour\n",
        "df['Weekday'] = df.timeStamp.dt.weekday\n",
        "df['Month'] = df.timeStamp.dt.month\n",
        "df['Year'] = df.timeStamp.dt.year\n",
        "df['Date']=df[\"timeStamp\"].dt.date\n",
        "df['Time']=df[\"timeStamp\"].dt.time\n",
        "\n",
        "df.head(2)"
      ],
      "metadata": {
        "colab": {
          "base_uri": "https://localhost:8080/",
          "height": 298
        },
        "id": "a7-Es8X5F-TE",
        "outputId": "207fd769-6ba0-46ce-b97d-799c9f4b0fc0"
      },
      "execution_count": 294,
      "outputs": [
        {
          "output_type": "execute_result",
          "data": {
            "text/plain": [
              "         lat        lng                                               desc  \\\n",
              "0  40.297876 -75.581294  REINDEER CT & DEAD END;  NEW HANOVER; Station ...   \n",
              "1  40.258061 -75.264680  BRIAR PATH & WHITEMARSH LN;  HATFIELD TOWNSHIP...   \n",
              "\n",
              "       zip                    title           timeStamp                twp  \\\n",
              "0  19525.0   EMS: BACK PAINS/INJURY 2015-12-10 17:40:00        NEW HANOVER   \n",
              "1  19446.0  EMS: DIABETIC EMERGENCY 2015-12-10 17:40:00  HATFIELD TOWNSHIP   \n",
              "\n",
              "                         addr  e Dept               Reason  Hour  Weekday  \\\n",
              "0      REINDEER CT & DEAD END  1  EMS    BACK PAINS/INJURY    17        3   \n",
              "1  BRIAR PATH & WHITEMARSH LN  1  EMS   DIABETIC EMERGENCY    17        3   \n",
              "\n",
              "   Month  Year        Date      Time  \n",
              "0     12  2015  2015-12-10  17:40:00  \n",
              "1     12  2015  2015-12-10  17:40:00  "
            ],
            "text/html": [
              "\n",
              "  <div id=\"df-c79242b3-a7dc-4213-8c8e-6876cb98a8db\">\n",
              "    <div class=\"colab-df-container\">\n",
              "      <div>\n",
              "<style scoped>\n",
              "    .dataframe tbody tr th:only-of-type {\n",
              "        vertical-align: middle;\n",
              "    }\n",
              "\n",
              "    .dataframe tbody tr th {\n",
              "        vertical-align: top;\n",
              "    }\n",
              "\n",
              "    .dataframe thead th {\n",
              "        text-align: right;\n",
              "    }\n",
              "</style>\n",
              "<table border=\"1\" class=\"dataframe\">\n",
              "  <thead>\n",
              "    <tr style=\"text-align: right;\">\n",
              "      <th></th>\n",
              "      <th>lat</th>\n",
              "      <th>lng</th>\n",
              "      <th>desc</th>\n",
              "      <th>zip</th>\n",
              "      <th>title</th>\n",
              "      <th>timeStamp</th>\n",
              "      <th>twp</th>\n",
              "      <th>addr</th>\n",
              "      <th>e</th>\n",
              "      <th>Dept</th>\n",
              "      <th>Reason</th>\n",
              "      <th>Hour</th>\n",
              "      <th>Weekday</th>\n",
              "      <th>Month</th>\n",
              "      <th>Year</th>\n",
              "      <th>Date</th>\n",
              "      <th>Time</th>\n",
              "    </tr>\n",
              "  </thead>\n",
              "  <tbody>\n",
              "    <tr>\n",
              "      <th>0</th>\n",
              "      <td>40.297876</td>\n",
              "      <td>-75.581294</td>\n",
              "      <td>REINDEER CT &amp; DEAD END;  NEW HANOVER; Station ...</td>\n",
              "      <td>19525.0</td>\n",
              "      <td>EMS: BACK PAINS/INJURY</td>\n",
              "      <td>2015-12-10 17:40:00</td>\n",
              "      <td>NEW HANOVER</td>\n",
              "      <td>REINDEER CT &amp; DEAD END</td>\n",
              "      <td>1</td>\n",
              "      <td>EMS</td>\n",
              "      <td>BACK PAINS/INJURY</td>\n",
              "      <td>17</td>\n",
              "      <td>3</td>\n",
              "      <td>12</td>\n",
              "      <td>2015</td>\n",
              "      <td>2015-12-10</td>\n",
              "      <td>17:40:00</td>\n",
              "    </tr>\n",
              "    <tr>\n",
              "      <th>1</th>\n",
              "      <td>40.258061</td>\n",
              "      <td>-75.264680</td>\n",
              "      <td>BRIAR PATH &amp; WHITEMARSH LN;  HATFIELD TOWNSHIP...</td>\n",
              "      <td>19446.0</td>\n",
              "      <td>EMS: DIABETIC EMERGENCY</td>\n",
              "      <td>2015-12-10 17:40:00</td>\n",
              "      <td>HATFIELD TOWNSHIP</td>\n",
              "      <td>BRIAR PATH &amp; WHITEMARSH LN</td>\n",
              "      <td>1</td>\n",
              "      <td>EMS</td>\n",
              "      <td>DIABETIC EMERGENCY</td>\n",
              "      <td>17</td>\n",
              "      <td>3</td>\n",
              "      <td>12</td>\n",
              "      <td>2015</td>\n",
              "      <td>2015-12-10</td>\n",
              "      <td>17:40:00</td>\n",
              "    </tr>\n",
              "  </tbody>\n",
              "</table>\n",
              "</div>\n",
              "      <button class=\"colab-df-convert\" onclick=\"convertToInteractive('df-c79242b3-a7dc-4213-8c8e-6876cb98a8db')\"\n",
              "              title=\"Convert this dataframe to an interactive table.\"\n",
              "              style=\"display:none;\">\n",
              "        \n",
              "  <svg xmlns=\"http://www.w3.org/2000/svg\" height=\"24px\"viewBox=\"0 0 24 24\"\n",
              "       width=\"24px\">\n",
              "    <path d=\"M0 0h24v24H0V0z\" fill=\"none\"/>\n",
              "    <path d=\"M18.56 5.44l.94 2.06.94-2.06 2.06-.94-2.06-.94-.94-2.06-.94 2.06-2.06.94zm-11 1L8.5 8.5l.94-2.06 2.06-.94-2.06-.94L8.5 2.5l-.94 2.06-2.06.94zm10 10l.94 2.06.94-2.06 2.06-.94-2.06-.94-.94-2.06-.94 2.06-2.06.94z\"/><path d=\"M17.41 7.96l-1.37-1.37c-.4-.4-.92-.59-1.43-.59-.52 0-1.04.2-1.43.59L10.3 9.45l-7.72 7.72c-.78.78-.78 2.05 0 2.83L4 21.41c.39.39.9.59 1.41.59.51 0 1.02-.2 1.41-.59l7.78-7.78 2.81-2.81c.8-.78.8-2.07 0-2.86zM5.41 20L4 18.59l7.72-7.72 1.47 1.35L5.41 20z\"/>\n",
              "  </svg>\n",
              "      </button>\n",
              "      \n",
              "  <style>\n",
              "    .colab-df-container {\n",
              "      display:flex;\n",
              "      flex-wrap:wrap;\n",
              "      gap: 12px;\n",
              "    }\n",
              "\n",
              "    .colab-df-convert {\n",
              "      background-color: #E8F0FE;\n",
              "      border: none;\n",
              "      border-radius: 50%;\n",
              "      cursor: pointer;\n",
              "      display: none;\n",
              "      fill: #1967D2;\n",
              "      height: 32px;\n",
              "      padding: 0 0 0 0;\n",
              "      width: 32px;\n",
              "    }\n",
              "\n",
              "    .colab-df-convert:hover {\n",
              "      background-color: #E2EBFA;\n",
              "      box-shadow: 0px 1px 2px rgba(60, 64, 67, 0.3), 0px 1px 3px 1px rgba(60, 64, 67, 0.15);\n",
              "      fill: #174EA6;\n",
              "    }\n",
              "\n",
              "    [theme=dark] .colab-df-convert {\n",
              "      background-color: #3B4455;\n",
              "      fill: #D2E3FC;\n",
              "    }\n",
              "\n",
              "    [theme=dark] .colab-df-convert:hover {\n",
              "      background-color: #434B5C;\n",
              "      box-shadow: 0px 1px 3px 1px rgba(0, 0, 0, 0.15);\n",
              "      filter: drop-shadow(0px 1px 2px rgba(0, 0, 0, 0.3));\n",
              "      fill: #FFFFFF;\n",
              "    }\n",
              "  </style>\n",
              "\n",
              "      <script>\n",
              "        const buttonEl =\n",
              "          document.querySelector('#df-c79242b3-a7dc-4213-8c8e-6876cb98a8db button.colab-df-convert');\n",
              "        buttonEl.style.display =\n",
              "          google.colab.kernel.accessAllowed ? 'block' : 'none';\n",
              "\n",
              "        async function convertToInteractive(key) {\n",
              "          const element = document.querySelector('#df-c79242b3-a7dc-4213-8c8e-6876cb98a8db');\n",
              "          const dataTable =\n",
              "            await google.colab.kernel.invokeFunction('convertToInteractive',\n",
              "                                                     [key], {});\n",
              "          if (!dataTable) return;\n",
              "\n",
              "          const docLinkHtml = 'Like what you see? Visit the ' +\n",
              "            '<a target=\"_blank\" href=https://colab.research.google.com/notebooks/data_table.ipynb>data table notebook</a>'\n",
              "            + ' to learn more about interactive tables.';\n",
              "          element.innerHTML = '';\n",
              "          dataTable['output_type'] = 'display_data';\n",
              "          await google.colab.output.renderOutput(dataTable, element);\n",
              "          const docLink = document.createElement('div');\n",
              "          docLink.innerHTML = docLinkHtml;\n",
              "          element.appendChild(docLink);\n",
              "        }\n",
              "      </script>\n",
              "    </div>\n",
              "  </div>\n",
              "  "
            ]
          },
          "metadata": {},
          "execution_count": 294
        }
      ]
    },
    {
      "cell_type": "code",
      "source": [
        "#change day of week from numbers to names using map funtion\n",
        "# dictionary string names:\n",
        "\n",
        "daymap = {0:'Mon', 1:'Tue', 2:'Wed', 3:'Thur', 4:'Fri', 5:'Sat', 6:'Sun'}\n",
        "df['Weekday'] = df['Weekday'].map(daymap)"
      ],
      "metadata": {
        "id": "SVxgFXOvF-c-"
      },
      "execution_count": 295,
      "outputs": []
    },
    {
      "cell_type": "code",
      "source": [
        "#change month from numbers to names using map funtion\n",
        "# dictionary string names:\n",
        "\n",
        "monthmap = {1:'Jan', 2:'Feb', 3:'Mar', 4:'Apr', 5:'May', 6:'Jun', 7:'Jul', 8:'Aug', 9:'Sep', 10:'Oct', 11:'Nov', 12:'Dec'}\n",
        "df['Month'] = df['Month'].map(monthmap)"
      ],
      "metadata": {
        "id": "0WwFPINSF-oK"
      },
      "execution_count": 296,
      "outputs": []
    },
    {
      "cell_type": "code",
      "source": [
        "df.head(2)"
      ],
      "metadata": {
        "colab": {
          "base_uri": "https://localhost:8080/",
          "height": 298
        },
        "id": "OCxv8YMgF-2v",
        "outputId": "44974a38-2c97-4fda-ec86-633a059eddf7"
      },
      "execution_count": 297,
      "outputs": [
        {
          "output_type": "execute_result",
          "data": {
            "text/plain": [
              "         lat        lng                                               desc  \\\n",
              "0  40.297876 -75.581294  REINDEER CT & DEAD END;  NEW HANOVER; Station ...   \n",
              "1  40.258061 -75.264680  BRIAR PATH & WHITEMARSH LN;  HATFIELD TOWNSHIP...   \n",
              "\n",
              "       zip                    title           timeStamp                twp  \\\n",
              "0  19525.0   EMS: BACK PAINS/INJURY 2015-12-10 17:40:00        NEW HANOVER   \n",
              "1  19446.0  EMS: DIABETIC EMERGENCY 2015-12-10 17:40:00  HATFIELD TOWNSHIP   \n",
              "\n",
              "                         addr  e Dept               Reason  Hour Weekday  \\\n",
              "0      REINDEER CT & DEAD END  1  EMS    BACK PAINS/INJURY    17    Thur   \n",
              "1  BRIAR PATH & WHITEMARSH LN  1  EMS   DIABETIC EMERGENCY    17    Thur   \n",
              "\n",
              "  Month  Year        Date      Time  \n",
              "0   Dec  2015  2015-12-10  17:40:00  \n",
              "1   Dec  2015  2015-12-10  17:40:00  "
            ],
            "text/html": [
              "\n",
              "  <div id=\"df-676af9b8-5527-41cb-99b4-5995cad2b8d4\">\n",
              "    <div class=\"colab-df-container\">\n",
              "      <div>\n",
              "<style scoped>\n",
              "    .dataframe tbody tr th:only-of-type {\n",
              "        vertical-align: middle;\n",
              "    }\n",
              "\n",
              "    .dataframe tbody tr th {\n",
              "        vertical-align: top;\n",
              "    }\n",
              "\n",
              "    .dataframe thead th {\n",
              "        text-align: right;\n",
              "    }\n",
              "</style>\n",
              "<table border=\"1\" class=\"dataframe\">\n",
              "  <thead>\n",
              "    <tr style=\"text-align: right;\">\n",
              "      <th></th>\n",
              "      <th>lat</th>\n",
              "      <th>lng</th>\n",
              "      <th>desc</th>\n",
              "      <th>zip</th>\n",
              "      <th>title</th>\n",
              "      <th>timeStamp</th>\n",
              "      <th>twp</th>\n",
              "      <th>addr</th>\n",
              "      <th>e</th>\n",
              "      <th>Dept</th>\n",
              "      <th>Reason</th>\n",
              "      <th>Hour</th>\n",
              "      <th>Weekday</th>\n",
              "      <th>Month</th>\n",
              "      <th>Year</th>\n",
              "      <th>Date</th>\n",
              "      <th>Time</th>\n",
              "    </tr>\n",
              "  </thead>\n",
              "  <tbody>\n",
              "    <tr>\n",
              "      <th>0</th>\n",
              "      <td>40.297876</td>\n",
              "      <td>-75.581294</td>\n",
              "      <td>REINDEER CT &amp; DEAD END;  NEW HANOVER; Station ...</td>\n",
              "      <td>19525.0</td>\n",
              "      <td>EMS: BACK PAINS/INJURY</td>\n",
              "      <td>2015-12-10 17:40:00</td>\n",
              "      <td>NEW HANOVER</td>\n",
              "      <td>REINDEER CT &amp; DEAD END</td>\n",
              "      <td>1</td>\n",
              "      <td>EMS</td>\n",
              "      <td>BACK PAINS/INJURY</td>\n",
              "      <td>17</td>\n",
              "      <td>Thur</td>\n",
              "      <td>Dec</td>\n",
              "      <td>2015</td>\n",
              "      <td>2015-12-10</td>\n",
              "      <td>17:40:00</td>\n",
              "    </tr>\n",
              "    <tr>\n",
              "      <th>1</th>\n",
              "      <td>40.258061</td>\n",
              "      <td>-75.264680</td>\n",
              "      <td>BRIAR PATH &amp; WHITEMARSH LN;  HATFIELD TOWNSHIP...</td>\n",
              "      <td>19446.0</td>\n",
              "      <td>EMS: DIABETIC EMERGENCY</td>\n",
              "      <td>2015-12-10 17:40:00</td>\n",
              "      <td>HATFIELD TOWNSHIP</td>\n",
              "      <td>BRIAR PATH &amp; WHITEMARSH LN</td>\n",
              "      <td>1</td>\n",
              "      <td>EMS</td>\n",
              "      <td>DIABETIC EMERGENCY</td>\n",
              "      <td>17</td>\n",
              "      <td>Thur</td>\n",
              "      <td>Dec</td>\n",
              "      <td>2015</td>\n",
              "      <td>2015-12-10</td>\n",
              "      <td>17:40:00</td>\n",
              "    </tr>\n",
              "  </tbody>\n",
              "</table>\n",
              "</div>\n",
              "      <button class=\"colab-df-convert\" onclick=\"convertToInteractive('df-676af9b8-5527-41cb-99b4-5995cad2b8d4')\"\n",
              "              title=\"Convert this dataframe to an interactive table.\"\n",
              "              style=\"display:none;\">\n",
              "        \n",
              "  <svg xmlns=\"http://www.w3.org/2000/svg\" height=\"24px\"viewBox=\"0 0 24 24\"\n",
              "       width=\"24px\">\n",
              "    <path d=\"M0 0h24v24H0V0z\" fill=\"none\"/>\n",
              "    <path d=\"M18.56 5.44l.94 2.06.94-2.06 2.06-.94-2.06-.94-.94-2.06-.94 2.06-2.06.94zm-11 1L8.5 8.5l.94-2.06 2.06-.94-2.06-.94L8.5 2.5l-.94 2.06-2.06.94zm10 10l.94 2.06.94-2.06 2.06-.94-2.06-.94-.94-2.06-.94 2.06-2.06.94z\"/><path d=\"M17.41 7.96l-1.37-1.37c-.4-.4-.92-.59-1.43-.59-.52 0-1.04.2-1.43.59L10.3 9.45l-7.72 7.72c-.78.78-.78 2.05 0 2.83L4 21.41c.39.39.9.59 1.41.59.51 0 1.02-.2 1.41-.59l7.78-7.78 2.81-2.81c.8-.78.8-2.07 0-2.86zM5.41 20L4 18.59l7.72-7.72 1.47 1.35L5.41 20z\"/>\n",
              "  </svg>\n",
              "      </button>\n",
              "      \n",
              "  <style>\n",
              "    .colab-df-container {\n",
              "      display:flex;\n",
              "      flex-wrap:wrap;\n",
              "      gap: 12px;\n",
              "    }\n",
              "\n",
              "    .colab-df-convert {\n",
              "      background-color: #E8F0FE;\n",
              "      border: none;\n",
              "      border-radius: 50%;\n",
              "      cursor: pointer;\n",
              "      display: none;\n",
              "      fill: #1967D2;\n",
              "      height: 32px;\n",
              "      padding: 0 0 0 0;\n",
              "      width: 32px;\n",
              "    }\n",
              "\n",
              "    .colab-df-convert:hover {\n",
              "      background-color: #E2EBFA;\n",
              "      box-shadow: 0px 1px 2px rgba(60, 64, 67, 0.3), 0px 1px 3px 1px rgba(60, 64, 67, 0.15);\n",
              "      fill: #174EA6;\n",
              "    }\n",
              "\n",
              "    [theme=dark] .colab-df-convert {\n",
              "      background-color: #3B4455;\n",
              "      fill: #D2E3FC;\n",
              "    }\n",
              "\n",
              "    [theme=dark] .colab-df-convert:hover {\n",
              "      background-color: #434B5C;\n",
              "      box-shadow: 0px 1px 3px 1px rgba(0, 0, 0, 0.15);\n",
              "      filter: drop-shadow(0px 1px 2px rgba(0, 0, 0, 0.3));\n",
              "      fill: #FFFFFF;\n",
              "    }\n",
              "  </style>\n",
              "\n",
              "      <script>\n",
              "        const buttonEl =\n",
              "          document.querySelector('#df-676af9b8-5527-41cb-99b4-5995cad2b8d4 button.colab-df-convert');\n",
              "        buttonEl.style.display =\n",
              "          google.colab.kernel.accessAllowed ? 'block' : 'none';\n",
              "\n",
              "        async function convertToInteractive(key) {\n",
              "          const element = document.querySelector('#df-676af9b8-5527-41cb-99b4-5995cad2b8d4');\n",
              "          const dataTable =\n",
              "            await google.colab.kernel.invokeFunction('convertToInteractive',\n",
              "                                                     [key], {});\n",
              "          if (!dataTable) return;\n",
              "\n",
              "          const docLinkHtml = 'Like what you see? Visit the ' +\n",
              "            '<a target=\"_blank\" href=https://colab.research.google.com/notebooks/data_table.ipynb>data table notebook</a>'\n",
              "            + ' to learn more about interactive tables.';\n",
              "          element.innerHTML = '';\n",
              "          dataTable['output_type'] = 'display_data';\n",
              "          await google.colab.output.renderOutput(dataTable, element);\n",
              "          const docLink = document.createElement('div');\n",
              "          docLink.innerHTML = docLinkHtml;\n",
              "          element.appendChild(docLink);\n",
              "        }\n",
              "      </script>\n",
              "    </div>\n",
              "  </div>\n",
              "  "
            ]
          },
          "metadata": {},
          "execution_count": 297
        }
      ]
    },
    {
      "cell_type": "code",
      "source": [
        ""
      ],
      "metadata": {
        "id": "U6HATerKR5Nm"
      },
      "execution_count": 297,
      "outputs": []
    },
    {
      "cell_type": "markdown",
      "source": [
        "# EDA"
      ],
      "metadata": {
        "id": "knai9BOCnzyB"
      }
    },
    {
      "cell_type": "markdown",
      "source": [
        "### which Dept handled the most call"
      ],
      "metadata": {
        "id": "xV7mkid7STWe"
      }
    },
    {
      "cell_type": "code",
      "source": [
        "# EMS handled most calls, followed by Traffic then fire dept\n",
        "\n",
        "df.groupby(['Dept'])['Dept'].count().sort_values(ascending=False)"
      ],
      "metadata": {
        "colab": {
          "base_uri": "https://localhost:8080/"
        },
        "id": "OYw8hPPJR5Z5",
        "outputId": "700e560f-cef4-445c-8db4-1eced4061760"
      },
      "execution_count": 298,
      "outputs": [
        {
          "output_type": "execute_result",
          "data": {
            "text/plain": [
              "Dept\n",
              "EMS        48877\n",
              "Traffic    35695\n",
              "Fire       14920\n",
              "Name: Dept, dtype: int64"
            ]
          },
          "metadata": {},
          "execution_count": 298
        }
      ]
    },
    {
      "cell_type": "code",
      "source": [
        "## yield same results:\n",
        "# print(df.Dept.value_counts())\n",
        "# print(df.Dept.nunique())"
      ],
      "metadata": {
        "id": "jA_yhq7-UIF0"
      },
      "execution_count": 299,
      "outputs": []
    },
    {
      "cell_type": "markdown",
      "source": [
        "### what are the top reasons each dept was called"
      ],
      "metadata": {
        "id": "vkWGRsKNVZAT"
      }
    },
    {
      "cell_type": "code",
      "source": [
        "df['Reason'].nunique()"
      ],
      "metadata": {
        "colab": {
          "base_uri": "https://localhost:8080/"
        },
        "id": "yXZMLWBEVhkL",
        "outputId": "d8a5eb24-6a32-4df1-e4a3-555255b5ce5b"
      },
      "execution_count": 344,
      "outputs": [
        {
          "output_type": "execute_result",
          "data": {
            "text/plain": [
              "76"
            ]
          },
          "metadata": {},
          "execution_count": 344
        }
      ]
    },
    {
      "cell_type": "code",
      "source": [
        "#df.groupby(df[df['Dept'] == 'EMS'])['Reason'].count().sort_values(ascending=False).head(5)"
      ],
      "metadata": {
        "id": "AhKs8gxuViJq"
      },
      "execution_count": 300,
      "outputs": []
    },
    {
      "cell_type": "code",
      "source": [
        ""
      ],
      "metadata": {
        "id": "4yvOm_a6VhQC"
      },
      "execution_count": 300,
      "outputs": []
    },
    {
      "cell_type": "code",
      "source": [
        "#top reasons each dept was called\n",
        "\n",
        "# df.groupby(['Dept'])['Dept'].count().sort_values(ascending=False)\n",
        "\n",
        "df.groupby(['Dept','Reason'])['Reason'].count()"
      ],
      "metadata": {
        "colab": {
          "base_uri": "https://localhost:8080/"
        },
        "id": "N_sHgeeIo3Qp",
        "outputId": "17f1ef9b-3982-4f41-d4e3-d2e6780bd625"
      },
      "execution_count": 301,
      "outputs": [
        {
          "output_type": "execute_result",
          "data": {
            "text/plain": [
              "Dept     Reason                    \n",
              "EMS       ABDOMINAL PAINS               1436\n",
              "          ACTIVE SHOOTER                   2\n",
              "          ALLERGIC REACTION              438\n",
              "          ALTERED MENTAL STATUS         1386\n",
              "          AMPUTATION                      14\n",
              "                                       ...  \n",
              "Traffic   HAZARDOUS ROAD CONDITIONS     1086\n",
              "          ROAD OBSTRUCTION              3144\n",
              "          VEHICLE ACCIDENT             23066\n",
              "          VEHICLE FIRE                   553\n",
              "          VEHICLE LEAKING FUEL            77\n",
              "Name: Reason, Length: 110, dtype: int64"
            ]
          },
          "metadata": {},
          "execution_count": 301
        }
      ]
    },
    {
      "cell_type": "code",
      "source": [
        "\n",
        "\n",
        "# DeptReason = df.groupby(by=['Dept','Reason']).count()['Reason']\n",
        "# DeptReason.head()"
      ],
      "metadata": {
        "id": "sTYcvF1LIxVK"
      },
      "execution_count": 302,
      "outputs": []
    },
    {
      "cell_type": "markdown",
      "source": [
        "### what were the top 5 reasons for call"
      ],
      "metadata": {
        "id": "0_H0DDPCTO5h"
      }
    },
    {
      "cell_type": "code",
      "source": [
        "# vehichle accidents, disabled vehicle, fire alarm, respiratory emergency and cardiac emergency\n",
        "df.groupby(['Reason'])['Reason'].count().sort_values(ascending=False).head(5)"
      ],
      "metadata": {
        "colab": {
          "base_uri": "https://localhost:8080/"
        },
        "id": "zO6VH-6qTMQp",
        "outputId": "7abea5cf-17de-4e36-9323-776338e49a72"
      },
      "execution_count": 303,
      "outputs": [
        {
          "output_type": "execute_result",
          "data": {
            "text/plain": [
              "Reason\n",
              " VEHICLE ACCIDENT         28639\n",
              " DISABLED VEHICLE          7703\n",
              " FIRE ALARM                5510\n",
              " RESPIRATORY EMERGENCY     5112\n",
              " CARDIAC EMERGENCY         5012\n",
              "Name: Reason, dtype: int64"
            ]
          },
          "metadata": {},
          "execution_count": 303
        }
      ]
    },
    {
      "cell_type": "code",
      "source": [
        "## yield same results:\n",
        "# print(df.Reason.value_counts())\n",
        "# print(df.Reason.nunique())"
      ],
      "metadata": {
        "id": "USknfYWoR5eM"
      },
      "execution_count": 304,
      "outputs": []
    },
    {
      "cell_type": "markdown",
      "source": [
        "### explore Vehicle Accidents\n",
        "###which vehicle accidents involved EMS - suggesting possible injuries"
      ],
      "metadata": {
        "id": "eeub5rQfYoot"
      }
    },
    {
      "cell_type": "code",
      "source": [
        "dfEMS = df[df['Dept'] == 'EMS']\n",
        "#dfEMS"
      ],
      "metadata": {
        "id": "jCem0YlMR5qn"
      },
      "execution_count": 305,
      "outputs": []
    },
    {
      "cell_type": "code",
      "source": [
        "# EMS responded to 3,935 vehicle accidents - the fourth leading cause of EMS response\n",
        "\n",
        "dfEMS.groupby(['Reason'])['Reason'].count().sort_values(ascending=False).head(5)"
      ],
      "metadata": {
        "colab": {
          "base_uri": "https://localhost:8080/"
        },
        "id": "C4OFszyAR5u-",
        "outputId": "74c69b2c-62e7-4000-d0be-a1bd6bbfd9a4"
      },
      "execution_count": 306,
      "outputs": [
        {
          "output_type": "execute_result",
          "data": {
            "text/plain": [
              "Reason\n",
              " RESPIRATORY EMERGENCY    5112\n",
              " CARDIAC EMERGENCY        5012\n",
              " FALL VICTIM              4863\n",
              " VEHICLE ACCIDENT         3935\n",
              " SUBJECT IN PAIN          2687\n",
              "Name: Reason, dtype: int64"
            ]
          },
          "metadata": {},
          "execution_count": 306
        }
      ]
    },
    {
      "cell_type": "markdown",
      "source": [
        "### where are the accidents occuring - by township, zip, address"
      ],
      "metadata": {
        "id": "YA38f0xIb9Z_"
      }
    },
    {
      "cell_type": "code",
      "source": [
        "\n",
        "dfVehAcc = df[df['Reason'] == ' VEHICLE ACCIDENT']\n",
        "dfVehAcc.head(2)\n"
      ],
      "metadata": {
        "colab": {
          "base_uri": "https://localhost:8080/",
          "height": 298
        },
        "id": "SeQ985eGb5mN",
        "outputId": "ed15568c-f845-4bd8-a3b4-b8065fd57075"
      },
      "execution_count": 337,
      "outputs": [
        {
          "output_type": "execute_result",
          "data": {
            "text/plain": [
              "          lat        lng                                               desc  \\\n",
              "9   40.102398 -75.291458  BLUEROUTE  & RAMP I476 NB TO CHEMICAL RD; PLYM...   \n",
              "10  40.231990 -75.251891  RT202 PKWY & KNAPP RD; MONTGOMERY; 2015-12-10 ...   \n",
              "\n",
              "        zip                        title           timeStamp         twp  \\\n",
              "9   19462.0  Traffic: VEHICLE ACCIDENT - 2015-12-10 17:40:00    PLYMOUTH   \n",
              "10      NaN  Traffic: VEHICLE ACCIDENT - 2015-12-10 17:40:00  MONTGOMERY   \n",
              "\n",
              "                                        addr  e     Dept             Reason  \\\n",
              "9   BLUEROUTE  & RAMP I476 NB TO CHEMICAL RD  1  Traffic   VEHICLE ACCIDENT   \n",
              "10                     RT202 PKWY & KNAPP RD  1  Traffic   VEHICLE ACCIDENT   \n",
              "\n",
              "    Hour Weekday Month  Year        Date      Time  \n",
              "9     17    Thur   Dec  2015  2015-12-10  17:40:00  \n",
              "10    17    Thur   Dec  2015  2015-12-10  17:40:00  "
            ],
            "text/html": [
              "\n",
              "  <div id=\"df-f367eb9e-f4bd-4abf-bb40-24fcca451d25\">\n",
              "    <div class=\"colab-df-container\">\n",
              "      <div>\n",
              "<style scoped>\n",
              "    .dataframe tbody tr th:only-of-type {\n",
              "        vertical-align: middle;\n",
              "    }\n",
              "\n",
              "    .dataframe tbody tr th {\n",
              "        vertical-align: top;\n",
              "    }\n",
              "\n",
              "    .dataframe thead th {\n",
              "        text-align: right;\n",
              "    }\n",
              "</style>\n",
              "<table border=\"1\" class=\"dataframe\">\n",
              "  <thead>\n",
              "    <tr style=\"text-align: right;\">\n",
              "      <th></th>\n",
              "      <th>lat</th>\n",
              "      <th>lng</th>\n",
              "      <th>desc</th>\n",
              "      <th>zip</th>\n",
              "      <th>title</th>\n",
              "      <th>timeStamp</th>\n",
              "      <th>twp</th>\n",
              "      <th>addr</th>\n",
              "      <th>e</th>\n",
              "      <th>Dept</th>\n",
              "      <th>Reason</th>\n",
              "      <th>Hour</th>\n",
              "      <th>Weekday</th>\n",
              "      <th>Month</th>\n",
              "      <th>Year</th>\n",
              "      <th>Date</th>\n",
              "      <th>Time</th>\n",
              "    </tr>\n",
              "  </thead>\n",
              "  <tbody>\n",
              "    <tr>\n",
              "      <th>9</th>\n",
              "      <td>40.102398</td>\n",
              "      <td>-75.291458</td>\n",
              "      <td>BLUEROUTE  &amp; RAMP I476 NB TO CHEMICAL RD; PLYM...</td>\n",
              "      <td>19462.0</td>\n",
              "      <td>Traffic: VEHICLE ACCIDENT -</td>\n",
              "      <td>2015-12-10 17:40:00</td>\n",
              "      <td>PLYMOUTH</td>\n",
              "      <td>BLUEROUTE  &amp; RAMP I476 NB TO CHEMICAL RD</td>\n",
              "      <td>1</td>\n",
              "      <td>Traffic</td>\n",
              "      <td>VEHICLE ACCIDENT</td>\n",
              "      <td>17</td>\n",
              "      <td>Thur</td>\n",
              "      <td>Dec</td>\n",
              "      <td>2015</td>\n",
              "      <td>2015-12-10</td>\n",
              "      <td>17:40:00</td>\n",
              "    </tr>\n",
              "    <tr>\n",
              "      <th>10</th>\n",
              "      <td>40.231990</td>\n",
              "      <td>-75.251891</td>\n",
              "      <td>RT202 PKWY &amp; KNAPP RD; MONTGOMERY; 2015-12-10 ...</td>\n",
              "      <td>NaN</td>\n",
              "      <td>Traffic: VEHICLE ACCIDENT -</td>\n",
              "      <td>2015-12-10 17:40:00</td>\n",
              "      <td>MONTGOMERY</td>\n",
              "      <td>RT202 PKWY &amp; KNAPP RD</td>\n",
              "      <td>1</td>\n",
              "      <td>Traffic</td>\n",
              "      <td>VEHICLE ACCIDENT</td>\n",
              "      <td>17</td>\n",
              "      <td>Thur</td>\n",
              "      <td>Dec</td>\n",
              "      <td>2015</td>\n",
              "      <td>2015-12-10</td>\n",
              "      <td>17:40:00</td>\n",
              "    </tr>\n",
              "  </tbody>\n",
              "</table>\n",
              "</div>\n",
              "      <button class=\"colab-df-convert\" onclick=\"convertToInteractive('df-f367eb9e-f4bd-4abf-bb40-24fcca451d25')\"\n",
              "              title=\"Convert this dataframe to an interactive table.\"\n",
              "              style=\"display:none;\">\n",
              "        \n",
              "  <svg xmlns=\"http://www.w3.org/2000/svg\" height=\"24px\"viewBox=\"0 0 24 24\"\n",
              "       width=\"24px\">\n",
              "    <path d=\"M0 0h24v24H0V0z\" fill=\"none\"/>\n",
              "    <path d=\"M18.56 5.44l.94 2.06.94-2.06 2.06-.94-2.06-.94-.94-2.06-.94 2.06-2.06.94zm-11 1L8.5 8.5l.94-2.06 2.06-.94-2.06-.94L8.5 2.5l-.94 2.06-2.06.94zm10 10l.94 2.06.94-2.06 2.06-.94-2.06-.94-.94-2.06-.94 2.06-2.06.94z\"/><path d=\"M17.41 7.96l-1.37-1.37c-.4-.4-.92-.59-1.43-.59-.52 0-1.04.2-1.43.59L10.3 9.45l-7.72 7.72c-.78.78-.78 2.05 0 2.83L4 21.41c.39.39.9.59 1.41.59.51 0 1.02-.2 1.41-.59l7.78-7.78 2.81-2.81c.8-.78.8-2.07 0-2.86zM5.41 20L4 18.59l7.72-7.72 1.47 1.35L5.41 20z\"/>\n",
              "  </svg>\n",
              "      </button>\n",
              "      \n",
              "  <style>\n",
              "    .colab-df-container {\n",
              "      display:flex;\n",
              "      flex-wrap:wrap;\n",
              "      gap: 12px;\n",
              "    }\n",
              "\n",
              "    .colab-df-convert {\n",
              "      background-color: #E8F0FE;\n",
              "      border: none;\n",
              "      border-radius: 50%;\n",
              "      cursor: pointer;\n",
              "      display: none;\n",
              "      fill: #1967D2;\n",
              "      height: 32px;\n",
              "      padding: 0 0 0 0;\n",
              "      width: 32px;\n",
              "    }\n",
              "\n",
              "    .colab-df-convert:hover {\n",
              "      background-color: #E2EBFA;\n",
              "      box-shadow: 0px 1px 2px rgba(60, 64, 67, 0.3), 0px 1px 3px 1px rgba(60, 64, 67, 0.15);\n",
              "      fill: #174EA6;\n",
              "    }\n",
              "\n",
              "    [theme=dark] .colab-df-convert {\n",
              "      background-color: #3B4455;\n",
              "      fill: #D2E3FC;\n",
              "    }\n",
              "\n",
              "    [theme=dark] .colab-df-convert:hover {\n",
              "      background-color: #434B5C;\n",
              "      box-shadow: 0px 1px 3px 1px rgba(0, 0, 0, 0.15);\n",
              "      filter: drop-shadow(0px 1px 2px rgba(0, 0, 0, 0.3));\n",
              "      fill: #FFFFFF;\n",
              "    }\n",
              "  </style>\n",
              "\n",
              "      <script>\n",
              "        const buttonEl =\n",
              "          document.querySelector('#df-f367eb9e-f4bd-4abf-bb40-24fcca451d25 button.colab-df-convert');\n",
              "        buttonEl.style.display =\n",
              "          google.colab.kernel.accessAllowed ? 'block' : 'none';\n",
              "\n",
              "        async function convertToInteractive(key) {\n",
              "          const element = document.querySelector('#df-f367eb9e-f4bd-4abf-bb40-24fcca451d25');\n",
              "          const dataTable =\n",
              "            await google.colab.kernel.invokeFunction('convertToInteractive',\n",
              "                                                     [key], {});\n",
              "          if (!dataTable) return;\n",
              "\n",
              "          const docLinkHtml = 'Like what you see? Visit the ' +\n",
              "            '<a target=\"_blank\" href=https://colab.research.google.com/notebooks/data_table.ipynb>data table notebook</a>'\n",
              "            + ' to learn more about interactive tables.';\n",
              "          element.innerHTML = '';\n",
              "          dataTable['output_type'] = 'display_data';\n",
              "          await google.colab.output.renderOutput(dataTable, element);\n",
              "          const docLink = document.createElement('div');\n",
              "          docLink.innerHTML = docLinkHtml;\n",
              "          element.appendChild(docLink);\n",
              "        }\n",
              "      </script>\n",
              "    </div>\n",
              "  </div>\n",
              "  "
            ]
          },
          "metadata": {},
          "execution_count": 337
        }
      ]
    },
    {
      "cell_type": "code",
      "source": [
        "# 68 unique townships\n",
        "\n",
        "df['twp'].nunique()"
      ],
      "metadata": {
        "colab": {
          "base_uri": "https://localhost:8080/"
        },
        "id": "jlW-ym5ynWhb",
        "outputId": "436e0719-bc5a-41a5-f657-699973e11be6"
      },
      "execution_count": 339,
      "outputs": [
        {
          "output_type": "execute_result",
          "data": {
            "text/plain": [
              "68"
            ]
          },
          "metadata": {},
          "execution_count": 339
        }
      ]
    },
    {
      "cell_type": "code",
      "source": [
        "# although LOWER AND UPPER MERION have the highest number of vehicle accidents,\n",
        "# vehicle accidents do not appear to be highly concentrated in these townships.\n",
        "# about 9.7% of all vehicle accidents occur in Lower Merion\n",
        "# and 6.9% in Upper Merion\n",
        "\n",
        "dfVehAcc.groupby(['twp'])['twp'].count().sort_values(ascending=False).head(5)"
      ],
      "metadata": {
        "colab": {
          "base_uri": "https://localhost:8080/"
        },
        "id": "blXSZ8-Ub520",
        "outputId": "ad9de37a-cd65-43f4-83f3-8eba56ca3f44"
      },
      "execution_count": 340,
      "outputs": [
        {
          "output_type": "execute_result",
          "data": {
            "text/plain": [
              "twp\n",
              "LOWER MERION    2788\n",
              "UPPER MERION    1981\n",
              "ABINGTON        1541\n",
              "CHELTENHAM      1434\n",
              "NORRISTOWN      1164\n",
              "Name: twp, dtype: int64"
            ]
          },
          "metadata": {},
          "execution_count": 340
        }
      ]
    },
    {
      "cell_type": "code",
      "source": [
        "# similarly no extreme vehicle accident concentration by zip\n",
        "\n",
        "dfVehAcc.groupby(['zip'])['zip'].count().sort_values(ascending=False).head(5)"
      ],
      "metadata": {
        "colab": {
          "base_uri": "https://localhost:8080/"
        },
        "id": "k44ohB3Shpum",
        "outputId": "a7f2ff0e-1672-4538-ad0f-557a3db6cd9c"
      },
      "execution_count": 341,
      "outputs": [
        {
          "output_type": "execute_result",
          "data": {
            "text/plain": [
              "zip\n",
              "19401.0    1426\n",
              "19464.0    1317\n",
              "19446.0    1205\n",
              "19403.0    1017\n",
              "19454.0     949\n",
              "Name: zip, dtype: int64"
            ]
          },
          "metadata": {},
          "execution_count": 341
        }
      ]
    },
    {
      "cell_type": "code",
      "source": [
        "# similarly no extreme vehicle accident concentration by address/intersection\n",
        "\n",
        "dfVehAcc.groupby(['addr'])['addr'].count().sort_values(ascending=False).head(5)"
      ],
      "metadata": {
        "colab": {
          "base_uri": "https://localhost:8080/"
        },
        "id": "k1eCok73hqHf",
        "outputId": "d8c52f14-05ef-4e5a-e39f-a477f2f0ea22"
      },
      "execution_count": 342,
      "outputs": [
        {
          "output_type": "execute_result",
          "data": {
            "text/plain": [
              "addr\n",
              "SCHUYLKILL EXPY & WEADLEY RD OVERPASS             125\n",
              "SCHUYLKILL EXPY & CONSHOHOCKEN STATE UNDERPASS    113\n",
              "SCHUYLKILL EXPY & CROTON RD UNDERPASS             102\n",
              "BETHLEHEM PIKE & NORTH WALES RD                    96\n",
              "SCHUYLKILL EXPY & WAVERLY RD UNDERPASS             89\n",
              "Name: addr, dtype: int64"
            ]
          },
          "metadata": {},
          "execution_count": 342
        }
      ]
    },
    {
      "cell_type": "code",
      "source": [
        ""
      ],
      "metadata": {
        "id": "fQQgTOW1rd58"
      },
      "execution_count": null,
      "outputs": []
    },
    {
      "cell_type": "markdown",
      "source": [
        "### what time period did the data cover"
      ],
      "metadata": {
        "id": "IkyWIxIb3pwv"
      }
    },
    {
      "cell_type": "code",
      "source": [
        "# data starts Dec 10, 2015 at 5:40 pm and ends August 24, 2016 at 11:17 am\n",
        "#\n",
        "\n",
        "df['Year'].unique()"
      ],
      "metadata": {
        "colab": {
          "base_uri": "https://localhost:8080/"
        },
        "id": "q9169EpQnmXM",
        "outputId": "175a32bf-c417-44fd-9514-5489e080d315"
      },
      "execution_count": 308,
      "outputs": [
        {
          "output_type": "execute_result",
          "data": {
            "text/plain": [
              "array([2015, 2016])"
            ]
          },
          "metadata": {},
          "execution_count": 308
        }
      ]
    },
    {
      "cell_type": "code",
      "source": [
        "df['timeStamp'].min()"
      ],
      "metadata": {
        "colab": {
          "base_uri": "https://localhost:8080/"
        },
        "id": "6K5uUMUcnmio",
        "outputId": "9206d911-c036-474c-d325-881b3ca5d7d5"
      },
      "execution_count": 309,
      "outputs": [
        {
          "output_type": "execute_result",
          "data": {
            "text/plain": [
              "Timestamp('2015-12-10 17:40:00')"
            ]
          },
          "metadata": {},
          "execution_count": 309
        }
      ]
    },
    {
      "cell_type": "code",
      "source": [
        "df['timeStamp'].max()"
      ],
      "metadata": {
        "colab": {
          "base_uri": "https://localhost:8080/"
        },
        "id": "B34YJP7lnmuj",
        "outputId": "855100f5-fe3f-4b15-ca8c-6868632bea92"
      },
      "execution_count": 310,
      "outputs": [
        {
          "output_type": "execute_result",
          "data": {
            "text/plain": [
              "Timestamp('2016-08-24 11:17:00')"
            ]
          },
          "metadata": {},
          "execution_count": 310
        }
      ]
    },
    {
      "cell_type": "code",
      "source": [
        "df['Date'].min()"
      ],
      "metadata": {
        "colab": {
          "base_uri": "https://localhost:8080/"
        },
        "id": "KMFxBDGJ8avN",
        "outputId": "482dce93-4920-47a3-a75c-23fca6e33e56"
      },
      "execution_count": 311,
      "outputs": [
        {
          "output_type": "execute_result",
          "data": {
            "text/plain": [
              "datetime.date(2015, 12, 10)"
            ]
          },
          "metadata": {},
          "execution_count": 311
        }
      ]
    },
    {
      "cell_type": "code",
      "source": [
        "df['Date'].max()"
      ],
      "metadata": {
        "colab": {
          "base_uri": "https://localhost:8080/"
        },
        "id": "-iWwax1Z8a97",
        "outputId": "1b42a85d-9a99-45c8-c537-306cc312c31e"
      },
      "execution_count": 312,
      "outputs": [
        {
          "output_type": "execute_result",
          "data": {
            "text/plain": [
              "datetime.date(2016, 8, 24)"
            ]
          },
          "metadata": {},
          "execution_count": 312
        }
      ]
    },
    {
      "cell_type": "markdown",
      "source": [
        "### which months, days, dates, hours saw the most calls"
      ],
      "metadata": {
        "id": "F_HO9MrVAKef"
      }
    },
    {
      "cell_type": "code",
      "source": [
        "df['Month'].unique()"
      ],
      "metadata": {
        "colab": {
          "base_uri": "https://localhost:8080/"
        },
        "id": "o-k_ZOUf7VS7",
        "outputId": "f49512ed-6ea7-4f5d-9754-72817bb2ff8a"
      },
      "execution_count": 313,
      "outputs": [
        {
          "output_type": "execute_result",
          "data": {
            "text/plain": [
              "array(['Dec', 'Jan', 'Feb', 'Mar', 'Apr', 'May', 'Jun', 'Jul', 'Aug'],\n",
              "      dtype=object)"
            ]
          },
          "metadata": {},
          "execution_count": 313
        }
      ]
    },
    {
      "cell_type": "code",
      "source": [
        "# while january and july had most calls, the calls were reasonably distributed\n",
        "# over the months\n",
        "# Aughust and December had fewer calls because calls were not recorded for the full months\n",
        "\n",
        "df.groupby(['Month'])['Month'].count().sort_values(ascending=False).head(10)"
      ],
      "metadata": {
        "colab": {
          "base_uri": "https://localhost:8080/"
        },
        "id": "mGy3FD2E1j0T",
        "outputId": "54c6d536-9dbe-4e53-e584-2796c9d77f1c"
      },
      "execution_count": 314,
      "outputs": [
        {
          "output_type": "execute_result",
          "data": {
            "text/plain": [
              "Month\n",
              "Jan    13205\n",
              "Jul    12137\n",
              "Jun    11786\n",
              "Feb    11467\n",
              "May    11423\n",
              "Apr    11326\n",
              "Mar    11101\n",
              "Aug     9078\n",
              "Dec     7969\n",
              "Name: Month, dtype: int64"
            ]
          },
          "metadata": {},
          "execution_count": 314
        }
      ]
    },
    {
      "cell_type": "code",
      "source": [
        "# January 23, 2016 had significantly more calls than othere dates\n",
        "\n",
        "df.groupby(['Date'])['Date'].count().sort_values(ascending=False).head(10)"
      ],
      "metadata": {
        "colab": {
          "base_uri": "https://localhost:8080/"
        },
        "id": "88-08CQ41jrg",
        "outputId": "a5e5f2db-a369-4ffa-8e6a-08073546bce2"
      },
      "execution_count": 315,
      "outputs": [
        {
          "output_type": "execute_result",
          "data": {
            "text/plain": [
              "Date\n",
              "2016-01-23    913\n",
              "2016-02-24    679\n",
              "2016-01-24    662\n",
              "2016-01-12    588\n",
              "2016-04-03    586\n",
              "2016-07-25    580\n",
              "2016-01-25    575\n",
              "2016-02-16    560\n",
              "2016-02-15    541\n",
              "2015-12-23    524\n",
              "Name: Date, dtype: int64"
            ]
          },
          "metadata": {},
          "execution_count": 315
        }
      ]
    },
    {
      "cell_type": "code",
      "source": [
        "# daily call volume\n",
        "# most days calls average between 250 and about 475\n",
        "# 7 days when calls exceed 500 \n",
        "# 3 days when calls were fewer than 200\n",
        "\n",
        "plt.figure(figsize=(12, 8))\n",
        "df.groupby(['Date'])['Date'].count().plot()\n",
        "plt.xticks(rotation=90)"
      ],
      "metadata": {
        "colab": {
          "base_uri": "https://localhost:8080/",
          "height": 583
        },
        "id": "F27NHAfiwssK",
        "outputId": "8d71b00a-73b1-4147-8167-6d3b9e9e0b2b"
      },
      "execution_count": 351,
      "outputs": [
        {
          "output_type": "execute_result",
          "data": {
            "text/plain": [
              "(array([735933., 735964., 735995., 736024., 736055., 736085., 736116.,\n",
              "        736146., 736177., 736208.]),\n",
              " <a list of 10 Text major ticklabel objects>)"
            ]
          },
          "metadata": {},
          "execution_count": 351
        },
        {
          "output_type": "display_data",
          "data": {
            "text/plain": [
              "<Figure size 864x576 with 1 Axes>"
            ],
            "image/png": "[encoded data removed]"
          },
          "metadata": {}
        }
      ]
    },
    {
      "cell_type": "code",
      "source": [
        "# weekends saw fewer calls\n",
        "# tuesday has the most calls\n",
        "\n",
        "df.groupby(['Weekday'])['Weekday'].count().sort_values(ascending=False)"
      ],
      "metadata": {
        "colab": {
          "base_uri": "https://localhost:8080/"
        },
        "id": "WUytLagP1kLH",
        "outputId": "aca5f6ec-9406-481f-a512-30802db9501e"
      },
      "execution_count": 316,
      "outputs": [
        {
          "output_type": "execute_result",
          "data": {
            "text/plain": [
              "Weekday\n",
              "Tue     15150\n",
              "Wed     14879\n",
              "Fri     14833\n",
              "Mon     14680\n",
              "Thur    14478\n",
              "Sat     13336\n",
              "Sun     12136\n",
              "Name: Weekday, dtype: int64"
            ]
          },
          "metadata": {},
          "execution_count": 316
        }
      ]
    },
    {
      "cell_type": "code",
      "source": [
        "\n",
        "df['Hour'].unique()"
      ],
      "metadata": {
        "colab": {
          "base_uri": "https://localhost:8080/"
        },
        "id": "N2yyXiZ8Bp-v",
        "outputId": "13cb5bd4-43e8-4561-992e-ff0513d2e480"
      },
      "execution_count": 317,
      "outputs": [
        {
          "output_type": "execute_result",
          "data": {
            "text/plain": [
              "array([17, 18, 19, 20, 21, 22, 23,  0,  1,  2,  3,  4,  5,  6,  7,  8,  9,\n",
              "       10, 11, 12, 13, 14, 15, 16])"
            ]
          },
          "metadata": {},
          "execution_count": 317
        }
      ]
    },
    {
      "cell_type": "code",
      "source": [
        "# most calls seem to occur between about 8 am (hour 8) to about 8 pm (hour 20)\n",
        "\n",
        "df.groupby(['Hour'])['Hour'].count()"
      ],
      "metadata": {
        "colab": {
          "base_uri": "https://localhost:8080/"
        },
        "id": "mhkGGKe81kXc",
        "outputId": "77bd11fc-19ab-48d3-da16-acedcf0cb703"
      },
      "execution_count": 318,
      "outputs": [
        {
          "output_type": "execute_result",
          "data": {
            "text/plain": [
              "Hour\n",
              "0     2112\n",
              "1     1721\n",
              "2     1549\n",
              "3     1435\n",
              "4     1418\n",
              "5     1629\n",
              "6     2513\n",
              "7     3970\n",
              "8     5044\n",
              "9     5314\n",
              "10    5413\n",
              "11    5543\n",
              "12    6029\n",
              "13    5967\n",
              "14    5997\n",
              "15    6154\n",
              "16    6490\n",
              "17    6517\n",
              "18    5762\n",
              "19    4908\n",
              "20    4377\n",
              "21    3788\n",
              "22    3283\n",
              "23    2559\n",
              "Name: Hour, dtype: int64"
            ]
          },
          "metadata": {},
          "execution_count": 318
        }
      ]
    },
    {
      "cell_type": "code",
      "source": [
        "# most calls occcur in the afternoon - about 3 -5 pm\n",
        "df.groupby(['Hour'])['Hour'].count().sort_values(ascending=False)"
      ],
      "metadata": {
        "colab": {
          "base_uri": "https://localhost:8080/"
        },
        "id": "QASNcG4vDjo6",
        "outputId": "85fa5662-dc66-46e0-b8cc-7bfdfd7461d3"
      },
      "execution_count": 319,
      "outputs": [
        {
          "output_type": "execute_result",
          "data": {
            "text/plain": [
              "Hour\n",
              "17    6517\n",
              "16    6490\n",
              "15    6154\n",
              "12    6029\n",
              "14    5997\n",
              "13    5967\n",
              "18    5762\n",
              "11    5543\n",
              "10    5413\n",
              "9     5314\n",
              "8     5044\n",
              "19    4908\n",
              "20    4377\n",
              "7     3970\n",
              "21    3788\n",
              "22    3283\n",
              "23    2559\n",
              "6     2513\n",
              "0     2112\n",
              "1     1721\n",
              "5     1629\n",
              "2     1549\n",
              "3     1435\n",
              "4     1418\n",
              "Name: Hour, dtype: int64"
            ]
          },
          "metadata": {},
          "execution_count": 319
        }
      ]
    },
    {
      "cell_type": "code",
      "source": [
        "# consistent with above analyses, hours 16 -17 have more calls\n",
        "\n",
        "df.groupby(['Time'])['Time'].count().sort_values(ascending=False).head(10)"
      ],
      "metadata": {
        "colab": {
          "base_uri": "https://localhost:8080/"
        },
        "id": "tPfCpfOgF88h",
        "outputId": "2bd10826-13a6-464e-f6e5-68000beba330"
      },
      "execution_count": 320,
      "outputs": [
        {
          "output_type": "execute_result",
          "data": {
            "text/plain": [
              "Time\n",
              "16:22:00    505\n",
              "16:47:00    485\n",
              "17:22:00    481\n",
              "17:42:00    468\n",
              "17:52:00    468\n",
              "17:37:00    465\n",
              "17:57:00    464\n",
              "16:02:00    460\n",
              "16:07:00    456\n",
              "18:02:00    455\n",
              "Name: Time, dtype: int64"
            ]
          },
          "metadata": {},
          "execution_count": 320
        }
      ]
    },
    {
      "cell_type": "code",
      "source": [
        "# group by weekday and hour"
      ],
      "metadata": {
        "id": "gosWPTA8F9Ic"
      },
      "execution_count": 321,
      "outputs": []
    },
    {
      "cell_type": "code",
      "source": [
        "WkdayHrDistr = df.groupby(by=['Weekday','Hour']).count()['Reason']\n",
        "WkdayHrDistr.head()"
      ],
      "metadata": {
        "colab": {
          "base_uri": "https://localhost:8080/"
        },
        "id": "DnVMQOirF9Vu",
        "outputId": "fd9e49d3-05ab-4744-8a79-e7303d08154b"
      },
      "execution_count": 322,
      "outputs": [
        {
          "output_type": "execute_result",
          "data": {
            "text/plain": [
              "Weekday  Hour\n",
              "Fri      0       275\n",
              "         1       235\n",
              "         2       191\n",
              "         3       175\n",
              "         4       201\n",
              "Name: Reason, dtype: int64"
            ]
          },
          "metadata": {},
          "execution_count": 322
        }
      ]
    },
    {
      "cell_type": "code",
      "source": [
        "\n",
        "WkdayHrDistr = df.groupby(by=['Weekday','Hour']).count()['Reason'].unstack()\n",
        "WkdayHrDistr.head()"
      ],
      "metadata": {
        "colab": {
          "base_uri": "https://localhost:8080/",
          "height": 331
        },
        "id": "SRrRexlMF9iv",
        "outputId": "d363b12c-5e72-44c3-fea6-0f2184d46b97"
      },
      "execution_count": 323,
      "outputs": [
        {
          "output_type": "execute_result",
          "data": {
            "text/plain": [
              "Hour      0    1    2    3    4    5    6    7    8    9   ...   14   15  \\\n",
              "Weekday                                                    ...             \n",
              "Fri      275  235  191  175  201  194  372  598  742  752  ...  932  980   \n",
              "Mon      282  221  201  194  204  267  397  653  819  786  ...  869  913   \n",
              "Sat      375  301  263  260  224  231  257  391  459  640  ...  789  796   \n",
              "Sun      383  306  286  268  242  240  300  402  483  620  ...  684  691   \n",
              "Thur     278  202  233  159  182  203  362  570  777  828  ...  876  969   \n",
              "\n",
              "Hour       16    17   18   19   20   21   22   23  \n",
              "Weekday                                            \n",
              "Fri      1039   980  820  696  667  559  514  474  \n",
              "Mon       989   997  885  746  613  497  472  325  \n",
              "Sat       848   757  778  696  628  572  506  467  \n",
              "Sun       663   714  670  655  537  461  415  330  \n",
              "Thur      935  1013  810  698  617  553  424  354  \n",
              "\n",
              "[5 rows x 24 columns]"
            ],
            "text/html": [
              "\n",
              "  <div id=\"df-159e4821-e21f-49fa-ac4d-325aee1736af\">\n",
              "    <div class=\"colab-df-container\">\n",
              "      <div>\n",
              "<style scoped>\n",
              "    .dataframe tbody tr th:only-of-type {\n",
              "        vertical-align: middle;\n",
              "    }\n",
              "\n",
              "    .dataframe tbody tr th {\n",
              "        vertical-align: top;\n",
              "    }\n",
              "\n",
              "    .dataframe thead th {\n",
              "        text-align: right;\n",
              "    }\n",
              "</style>\n",
              "<table border=\"1\" class=\"dataframe\">\n",
              "  <thead>\n",
              "    <tr style=\"text-align: right;\">\n",
              "      <th>Hour</th>\n",
              "      <th>0</th>\n",
              "      <th>1</th>\n",
              "      <th>2</th>\n",
              "      <th>3</th>\n",
              "      <th>4</th>\n",
              "      <th>5</th>\n",
              "      <th>6</th>\n",
              "      <th>7</th>\n",
              "      <th>8</th>\n",
              "      <th>9</th>\n",
              "      <th>...</th>\n",
              "      <th>14</th>\n",
              "      <th>15</th>\n",
              "      <th>16</th>\n",
              "      <th>17</th>\n",
              "      <th>18</th>\n",
              "      <th>19</th>\n",
              "      <th>20</th>\n",
              "      <th>21</th>\n",
              "      <th>22</th>\n",
              "      <th>23</th>\n",
              "    </tr>\n",
              "    <tr>\n",
              "      <th>Weekday</th>\n",
              "      <th></th>\n",
              "      <th></th>\n",
              "      <th></th>\n",
              "      <th></th>\n",
              "      <th></th>\n",
              "      <th></th>\n",
              "      <th></th>\n",
              "      <th></th>\n",
              "      <th></th>\n",
              "      <th></th>\n",
              "      <th></th>\n",
              "      <th></th>\n",
              "      <th></th>\n",
              "      <th></th>\n",
              "      <th></th>\n",
              "      <th></th>\n",
              "      <th></th>\n",
              "      <th></th>\n",
              "      <th></th>\n",
              "      <th></th>\n",
              "      <th></th>\n",
              "    </tr>\n",
              "  </thead>\n",
              "  <tbody>\n",
              "    <tr>\n",
              "      <th>Fri</th>\n",
              "      <td>275</td>\n",
              "      <td>235</td>\n",
              "      <td>191</td>\n",
              "      <td>175</td>\n",
              "      <td>201</td>\n",
              "      <td>194</td>\n",
              "      <td>372</td>\n",
              "      <td>598</td>\n",
              "      <td>742</td>\n",
              "      <td>752</td>\n",
              "      <td>...</td>\n",
              "      <td>932</td>\n",
              "      <td>980</td>\n",
              "      <td>1039</td>\n",
              "      <td>980</td>\n",
              "      <td>820</td>\n",
              "      <td>696</td>\n",
              "      <td>667</td>\n",
              "      <td>559</td>\n",
              "      <td>514</td>\n",
              "      <td>474</td>\n",
              "    </tr>\n",
              "    <tr>\n",
              "      <th>Mon</th>\n",
              "      <td>282</td>\n",
              "      <td>221</td>\n",
              "      <td>201</td>\n",
              "      <td>194</td>\n",
              "      <td>204</td>\n",
              "      <td>267</td>\n",
              "      <td>397</td>\n",
              "      <td>653</td>\n",
              "      <td>819</td>\n",
              "      <td>786</td>\n",
              "      <td>...</td>\n",
              "      <td>869</td>\n",
              "      <td>913</td>\n",
              "      <td>989</td>\n",
              "      <td>997</td>\n",
              "      <td>885</td>\n",
              "      <td>746</td>\n",
              "      <td>613</td>\n",
              "      <td>497</td>\n",
              "      <td>472</td>\n",
              "      <td>325</td>\n",
              "    </tr>\n",
              "    <tr>\n",
              "      <th>Sat</th>\n",
              "      <td>375</td>\n",
              "      <td>301</td>\n",
              "      <td>263</td>\n",
              "      <td>260</td>\n",
              "      <td>224</td>\n",
              "      <td>231</td>\n",
              "      <td>257</td>\n",
              "      <td>391</td>\n",
              "      <td>459</td>\n",
              "      <td>640</td>\n",
              "      <td>...</td>\n",
              "      <td>789</td>\n",
              "      <td>796</td>\n",
              "      <td>848</td>\n",
              "      <td>757</td>\n",
              "      <td>778</td>\n",
              "      <td>696</td>\n",
              "      <td>628</td>\n",
              "      <td>572</td>\n",
              "      <td>506</td>\n",
              "      <td>467</td>\n",
              "    </tr>\n",
              "    <tr>\n",
              "      <th>Sun</th>\n",
              "      <td>383</td>\n",
              "      <td>306</td>\n",
              "      <td>286</td>\n",
              "      <td>268</td>\n",
              "      <td>242</td>\n",
              "      <td>240</td>\n",
              "      <td>300</td>\n",
              "      <td>402</td>\n",
              "      <td>483</td>\n",
              "      <td>620</td>\n",
              "      <td>...</td>\n",
              "      <td>684</td>\n",
              "      <td>691</td>\n",
              "      <td>663</td>\n",
              "      <td>714</td>\n",
              "      <td>670</td>\n",
              "      <td>655</td>\n",
              "      <td>537</td>\n",
              "      <td>461</td>\n",
              "      <td>415</td>\n",
              "      <td>330</td>\n",
              "    </tr>\n",
              "    <tr>\n",
              "      <th>Thur</th>\n",
              "      <td>278</td>\n",
              "      <td>202</td>\n",
              "      <td>233</td>\n",
              "      <td>159</td>\n",
              "      <td>182</td>\n",
              "      <td>203</td>\n",
              "      <td>362</td>\n",
              "      <td>570</td>\n",
              "      <td>777</td>\n",
              "      <td>828</td>\n",
              "      <td>...</td>\n",
              "      <td>876</td>\n",
              "      <td>969</td>\n",
              "      <td>935</td>\n",
              "      <td>1013</td>\n",
              "      <td>810</td>\n",
              "      <td>698</td>\n",
              "      <td>617</td>\n",
              "      <td>553</td>\n",
              "      <td>424</td>\n",
              "      <td>354</td>\n",
              "    </tr>\n",
              "  </tbody>\n",
              "</table>\n",
              "<p>5 rows × 24 columns</p>\n",
              "</div>\n",
              "      <button class=\"colab-df-convert\" onclick=\"convertToInteractive('df-159e4821-e21f-49fa-ac4d-325aee1736af')\"\n",
              "              title=\"Convert this dataframe to an interactive table.\"\n",
              "              style=\"display:none;\">\n",
              "        \n",
              "  <svg xmlns=\"http://www.w3.org/2000/svg\" height=\"24px\"viewBox=\"0 0 24 24\"\n",
              "       width=\"24px\">\n",
              "    <path d=\"M0 0h24v24H0V0z\" fill=\"none\"/>\n",
              "    <path d=\"M18.56 5.44l.94 2.06.94-2.06 2.06-.94-2.06-.94-.94-2.06-.94 2.06-2.06.94zm-11 1L8.5 8.5l.94-2.06 2.06-.94-2.06-.94L8.5 2.5l-.94 2.06-2.06.94zm10 10l.94 2.06.94-2.06 2.06-.94-2.06-.94-.94-2.06-.94 2.06-2.06.94z\"/><path d=\"M17.41 7.96l-1.37-1.37c-.4-.4-.92-.59-1.43-.59-.52 0-1.04.2-1.43.59L10.3 9.45l-7.72 7.72c-.78.78-.78 2.05 0 2.83L4 21.41c.39.39.9.59 1.41.59.51 0 1.02-.2 1.41-.59l7.78-7.78 2.81-2.81c.8-.78.8-2.07 0-2.86zM5.41 20L4 18.59l7.72-7.72 1.47 1.35L5.41 20z\"/>\n",
              "  </svg>\n",
              "      </button>\n",
              "      \n",
              "  <style>\n",
              "    .colab-df-container {\n",
              "      display:flex;\n",
              "      flex-wrap:wrap;\n",
              "      gap: 12px;\n",
              "    }\n",
              "\n",
              "    .colab-df-convert {\n",
              "      background-color: #E8F0FE;\n",
              "      border: none;\n",
              "      border-radius: 50%;\n",
              "      cursor: pointer;\n",
              "      display: none;\n",
              "      fill: #1967D2;\n",
              "      height: 32px;\n",
              "      padding: 0 0 0 0;\n",
              "      width: 32px;\n",
              "    }\n",
              "\n",
              "    .colab-df-convert:hover {\n",
              "      background-color: #E2EBFA;\n",
              "      box-shadow: 0px 1px 2px rgba(60, 64, 67, 0.3), 0px 1px 3px 1px rgba(60, 64, 67, 0.15);\n",
              "      fill: #174EA6;\n",
              "    }\n",
              "\n",
              "    [theme=dark] .colab-df-convert {\n",
              "      background-color: #3B4455;\n",
              "      fill: #D2E3FC;\n",
              "    }\n",
              "\n",
              "    [theme=dark] .colab-df-convert:hover {\n",
              "      background-color: #434B5C;\n",
              "      box-shadow: 0px 1px 3px 1px rgba(0, 0, 0, 0.15);\n",
              "      filter: drop-shadow(0px 1px 2px rgba(0, 0, 0, 0.3));\n",
              "      fill: #FFFFFF;\n",
              "    }\n",
              "  </style>\n",
              "\n",
              "      <script>\n",
              "        const buttonEl =\n",
              "          document.querySelector('#df-159e4821-e21f-49fa-ac4d-325aee1736af button.colab-df-convert');\n",
              "        buttonEl.style.display =\n",
              "          google.colab.kernel.accessAllowed ? 'block' : 'none';\n",
              "\n",
              "        async function convertToInteractive(key) {\n",
              "          const element = document.querySelector('#df-159e4821-e21f-49fa-ac4d-325aee1736af');\n",
              "          const dataTable =\n",
              "            await google.colab.kernel.invokeFunction('convertToInteractive',\n",
              "                                                     [key], {});\n",
              "          if (!dataTable) return;\n",
              "\n",
              "          const docLinkHtml = 'Like what you see? Visit the ' +\n",
              "            '<a target=\"_blank\" href=https://colab.research.google.com/notebooks/data_table.ipynb>data table notebook</a>'\n",
              "            + ' to learn more about interactive tables.';\n",
              "          element.innerHTML = '';\n",
              "          dataTable['output_type'] = 'display_data';\n",
              "          await google.colab.output.renderOutput(dataTable, element);\n",
              "          const docLink = document.createElement('div');\n",
              "          docLink.innerHTML = docLinkHtml;\n",
              "          element.appendChild(docLink);\n",
              "        }\n",
              "      </script>\n",
              "    </div>\n",
              "  </div>\n",
              "  "
            ]
          },
          "metadata": {},
          "execution_count": 323
        }
      ]
    },
    {
      "cell_type": "code",
      "source": [
        "#\n",
        "# heatmap of weekday and hour confirms the above analyses that:\n",
        "# fewer calls on Saturdays and Sundays - lighter colors\n",
        "# most calls between 8 am to about 6 pm (hours 8 - 18)\n",
        "# most calls in the afternoons - about 4-5 pm (hours 16-17)\n",
        "# least calls from 11 pm - 5 am ( hour 23 - hour 5)\n",
        "\n",
        "plt.figure(figsize=(12, 8))\n",
        "sns.heatmap(WkdayHrDistr, cmap=\"YlGnBu\")"
      ],
      "metadata": {
        "colab": {
          "base_uri": "https://localhost:8080/",
          "height": 515
        },
        "id": "7c-em18pJ7Ar",
        "outputId": "07029ef8-7dd3-4f98-f198-4b69a1456a25"
      },
      "execution_count": 324,
      "outputs": [
        {
          "output_type": "execute_result",
          "data": {
            "text/plain": [
              "<matplotlib.axes._subplots.AxesSubplot at 0x7fb38c34b690>"
            ]
          },
          "metadata": {},
          "execution_count": 324
        },
        {
          "output_type": "display_data",
          "data": {
            "text/plain": [
              "<Figure size 864x576 with 2 Axes>"
            ],
            "image/png": "[encoded data removed]"
          },
          "metadata": {}
        }
      ]
    },
    {
      "cell_type": "code",
      "source": [
        ""
      ],
      "metadata": {
        "id": "oL3vZOqzJ7GN"
      },
      "execution_count": 324,
      "outputs": []
    },
    {
      "cell_type": "markdown",
      "source": [
        "### are there addresses/intersections from which multiple calls originate"
      ],
      "metadata": {
        "id": "9AYiavqzXQkO"
      }
    },
    {
      "cell_type": "code",
      "source": [
        "# Address is not unique - suggesting there are addresses from which\n",
        "# multiple calls originate\n",
        "\n",
        "df['addr'].is_unique"
      ],
      "metadata": {
        "colab": {
          "base_uri": "https://localhost:8080/"
        },
        "id": "dkB61T9AJ7KS",
        "outputId": "0f9ceb03-b3e6-4077-b42c-3ebd1c221de1"
      },
      "execution_count": 325,
      "outputs": [
        {
          "output_type": "execute_result",
          "data": {
            "text/plain": [
              "False"
            ]
          },
          "metadata": {},
          "execution_count": 325
        }
      ]
    },
    {
      "cell_type": "code",
      "source": [
        "# there are 99,492 data points but only 21,930 unique addresses - suggesting \n",
        "# there are multiple addresses/intersections from which calls originate\n",
        "\n",
        "df['addr'].nunique()"
      ],
      "metadata": {
        "colab": {
          "base_uri": "https://localhost:8080/"
        },
        "id": "uYKv9ZCJJ7On",
        "outputId": "3ab6970e-baec-45eb-ff6e-5e79e738b8b0"
      },
      "execution_count": 326,
      "outputs": [
        {
          "output_type": "execute_result",
          "data": {
            "text/plain": [
              "21914"
            ]
          },
          "metadata": {},
          "execution_count": 326
        }
      ]
    },
    {
      "cell_type": "code",
      "source": [
        "# SHANNONDELL DR & SHANNONDELL BLVD is the address/intersection with the \n",
        "# highest number of calls - by far\n",
        "\n",
        "df['addr'].value_counts().head(5)"
      ],
      "metadata": {
        "colab": {
          "base_uri": "https://localhost:8080/"
        },
        "id": "AQU6wytWJ7S4",
        "outputId": "7cd78a29-a03a-4692-ddfb-fb31761eeedb"
      },
      "execution_count": 327,
      "outputs": [
        {
          "output_type": "execute_result",
          "data": {
            "text/plain": [
              "SHANNONDELL DR & SHANNONDELL BLVD    938\n",
              "MAIN ST & OLD SUMNEYTOWN PIKE        390\n",
              "THE FAIRWAY  & RYDAL RD              260\n",
              "GULPH RD & KIRK AVE                  235\n",
              "EVERGREEN RD & W LIGHTCAP RD         232\n",
              "Name: addr, dtype: int64"
            ]
          },
          "metadata": {},
          "execution_count": 327
        }
      ]
    },
    {
      "cell_type": "code",
      "source": [
        "# Explore what is happening at SHANNONDELL DR & SHANNONDELL BLVD\n",
        "# example - to see if intersection prone to traffic accidents\n",
        "# dataframe this address\n",
        "\n",
        "df2 = df[df['addr'] == 'SHANNONDELL DR & SHANNONDELL BLVD']\n",
        "df2.head(2)"
      ],
      "metadata": {
        "colab": {
          "base_uri": "https://localhost:8080/",
          "height": 315
        },
        "id": "cIJK1ZoAJ7XP",
        "outputId": "8f235fdd-3160-4df0-9ad3-67d4bd68ebc5"
      },
      "execution_count": 328,
      "outputs": [
        {
          "output_type": "execute_result",
          "data": {
            "text/plain": [
              "          lat        lng                                               desc  \\\n",
              "25  40.133037 -75.408463  SHANNONDELL DR & SHANNONDELL BLVD;  LOWER PROV...   \n",
              "57  40.133037 -75.408463  SHANNONDELL DR & SHANNONDELL BLVD;  LOWER PROV...   \n",
              "\n",
              "        zip                  title           timeStamp               twp  \\\n",
              "25  19403.0  EMS: GENERAL WEAKNESS 2015-12-10 18:06:00  LOWER PROVIDENCE   \n",
              "57  19403.0        EMS: CVA/STROKE 2015-12-10 19:26:00  LOWER PROVIDENCE   \n",
              "\n",
              "                                 addr  e Dept             Reason  Hour  \\\n",
              "25  SHANNONDELL DR & SHANNONDELL BLVD  1  EMS   GENERAL WEAKNESS    18   \n",
              "57  SHANNONDELL DR & SHANNONDELL BLVD  1  EMS         CVA/STROKE    19   \n",
              "\n",
              "   Weekday Month  Year        Date      Time  \n",
              "25    Thur   Dec  2015  2015-12-10  18:06:00  \n",
              "57    Thur   Dec  2015  2015-12-10  19:26:00  "
            ],
            "text/html": [
              "\n",
              "  <div id=\"df-72ad6575-1ca5-422f-9706-b84c93039e53\">\n",
              "    <div class=\"colab-df-container\">\n",
              "      <div>\n",
              "<style scoped>\n",
              "    .dataframe tbody tr th:only-of-type {\n",
              "        vertical-align: middle;\n",
              "    }\n",
              "\n",
              "    .dataframe tbody tr th {\n",
              "        vertical-align: top;\n",
              "    }\n",
              "\n",
              "    .dataframe thead th {\n",
              "        text-align: right;\n",
              "    }\n",
              "</style>\n",
              "<table border=\"1\" class=\"dataframe\">\n",
              "  <thead>\n",
              "    <tr style=\"text-align: right;\">\n",
              "      <th></th>\n",
              "      <th>lat</th>\n",
              "      <th>lng</th>\n",
              "      <th>desc</th>\n",
              "      <th>zip</th>\n",
              "      <th>title</th>\n",
              "      <th>timeStamp</th>\n",
              "      <th>twp</th>\n",
              "      <th>addr</th>\n",
              "      <th>e</th>\n",
              "      <th>Dept</th>\n",
              "      <th>Reason</th>\n",
              "      <th>Hour</th>\n",
              "      <th>Weekday</th>\n",
              "      <th>Month</th>\n",
              "      <th>Year</th>\n",
              "      <th>Date</th>\n",
              "      <th>Time</th>\n",
              "    </tr>\n",
              "  </thead>\n",
              "  <tbody>\n",
              "    <tr>\n",
              "      <th>25</th>\n",
              "      <td>40.133037</td>\n",
              "      <td>-75.408463</td>\n",
              "      <td>SHANNONDELL DR &amp; SHANNONDELL BLVD;  LOWER PROV...</td>\n",
              "      <td>19403.0</td>\n",
              "      <td>EMS: GENERAL WEAKNESS</td>\n",
              "      <td>2015-12-10 18:06:00</td>\n",
              "      <td>LOWER PROVIDENCE</td>\n",
              "      <td>SHANNONDELL DR &amp; SHANNONDELL BLVD</td>\n",
              "      <td>1</td>\n",
              "      <td>EMS</td>\n",
              "      <td>GENERAL WEAKNESS</td>\n",
              "      <td>18</td>\n",
              "      <td>Thur</td>\n",
              "      <td>Dec</td>\n",
              "      <td>2015</td>\n",
              "      <td>2015-12-10</td>\n",
              "      <td>18:06:00</td>\n",
              "    </tr>\n",
              "    <tr>\n",
              "      <th>57</th>\n",
              "      <td>40.133037</td>\n",
              "      <td>-75.408463</td>\n",
              "      <td>SHANNONDELL DR &amp; SHANNONDELL BLVD;  LOWER PROV...</td>\n",
              "      <td>19403.0</td>\n",
              "      <td>EMS: CVA/STROKE</td>\n",
              "      <td>2015-12-10 19:26:00</td>\n",
              "      <td>LOWER PROVIDENCE</td>\n",
              "      <td>SHANNONDELL DR &amp; SHANNONDELL BLVD</td>\n",
              "      <td>1</td>\n",
              "      <td>EMS</td>\n",
              "      <td>CVA/STROKE</td>\n",
              "      <td>19</td>\n",
              "      <td>Thur</td>\n",
              "      <td>Dec</td>\n",
              "      <td>2015</td>\n",
              "      <td>2015-12-10</td>\n",
              "      <td>19:26:00</td>\n",
              "    </tr>\n",
              "  </tbody>\n",
              "</table>\n",
              "</div>\n",
              "      <button class=\"colab-df-convert\" onclick=\"convertToInteractive('df-72ad6575-1ca5-422f-9706-b84c93039e53')\"\n",
              "              title=\"Convert this dataframe to an interactive table.\"\n",
              "              style=\"display:none;\">\n",
              "        \n",
              "  <svg xmlns=\"http://www.w3.org/2000/svg\" height=\"24px\"viewBox=\"0 0 24 24\"\n",
              "       width=\"24px\">\n",
              "    <path d=\"M0 0h24v24H0V0z\" fill=\"none\"/>\n",
              "    <path d=\"M18.56 5.44l.94 2.06.94-2.06 2.06-.94-2.06-.94-.94-2.06-.94 2.06-2.06.94zm-11 1L8.5 8.5l.94-2.06 2.06-.94-2.06-.94L8.5 2.5l-.94 2.06-2.06.94zm10 10l.94 2.06.94-2.06 2.06-.94-2.06-.94-.94-2.06-.94 2.06-2.06.94z\"/><path d=\"M17.41 7.96l-1.37-1.37c-.4-.4-.92-.59-1.43-.59-.52 0-1.04.2-1.43.59L10.3 9.45l-7.72 7.72c-.78.78-.78 2.05 0 2.83L4 21.41c.39.39.9.59 1.41.59.51 0 1.02-.2 1.41-.59l7.78-7.78 2.81-2.81c.8-.78.8-2.07 0-2.86zM5.41 20L4 18.59l7.72-7.72 1.47 1.35L5.41 20z\"/>\n",
              "  </svg>\n",
              "      </button>\n",
              "      \n",
              "  <style>\n",
              "    .colab-df-container {\n",
              "      display:flex;\n",
              "      flex-wrap:wrap;\n",
              "      gap: 12px;\n",
              "    }\n",
              "\n",
              "    .colab-df-convert {\n",
              "      background-color: #E8F0FE;\n",
              "      border: none;\n",
              "      border-radius: 50%;\n",
              "      cursor: pointer;\n",
              "      display: none;\n",
              "      fill: #1967D2;\n",
              "      height: 32px;\n",
              "      padding: 0 0 0 0;\n",
              "      width: 32px;\n",
              "    }\n",
              "\n",
              "    .colab-df-convert:hover {\n",
              "      background-color: #E2EBFA;\n",
              "      box-shadow: 0px 1px 2px rgba(60, 64, 67, 0.3), 0px 1px 3px 1px rgba(60, 64, 67, 0.15);\n",
              "      fill: #174EA6;\n",
              "    }\n",
              "\n",
              "    [theme=dark] .colab-df-convert {\n",
              "      background-color: #3B4455;\n",
              "      fill: #D2E3FC;\n",
              "    }\n",
              "\n",
              "    [theme=dark] .colab-df-convert:hover {\n",
              "      background-color: #434B5C;\n",
              "      box-shadow: 0px 1px 3px 1px rgba(0, 0, 0, 0.15);\n",
              "      filter: drop-shadow(0px 1px 2px rgba(0, 0, 0, 0.3));\n",
              "      fill: #FFFFFF;\n",
              "    }\n",
              "  </style>\n",
              "\n",
              "      <script>\n",
              "        const buttonEl =\n",
              "          document.querySelector('#df-72ad6575-1ca5-422f-9706-b84c93039e53 button.colab-df-convert');\n",
              "        buttonEl.style.display =\n",
              "          google.colab.kernel.accessAllowed ? 'block' : 'none';\n",
              "\n",
              "        async function convertToInteractive(key) {\n",
              "          const element = document.querySelector('#df-72ad6575-1ca5-422f-9706-b84c93039e53');\n",
              "          const dataTable =\n",
              "            await google.colab.kernel.invokeFunction('convertToInteractive',\n",
              "                                                     [key], {});\n",
              "          if (!dataTable) return;\n",
              "\n",
              "          const docLinkHtml = 'Like what you see? Visit the ' +\n",
              "            '<a target=\"_blank\" href=https://colab.research.google.com/notebooks/data_table.ipynb>data table notebook</a>'\n",
              "            + ' to learn more about interactive tables.';\n",
              "          element.innerHTML = '';\n",
              "          dataTable['output_type'] = 'display_data';\n",
              "          await google.colab.output.renderOutput(dataTable, element);\n",
              "          const docLink = document.createElement('div');\n",
              "          docLink.innerHTML = docLinkHtml;\n",
              "          element.appendChild(docLink);\n",
              "        }\n",
              "      </script>\n",
              "    </div>\n",
              "  </div>\n",
              "  "
            ]
          },
          "metadata": {},
          "execution_count": 328
        }
      ]
    },
    {
      "cell_type": "code",
      "source": [
        "# group this address by department response\n",
        "# most of the calls at this intersection is for EMS - surprisingly none for traffic\n",
        "\n",
        "df2.groupby(['Dept'])['Dept'].count()"
      ],
      "metadata": {
        "colab": {
          "base_uri": "https://localhost:8080/"
        },
        "id": "bg-BKkSZJ7ao",
        "outputId": "93b8daf0-0412-4c3e-ec0a-47c1780e3266"
      },
      "execution_count": 329,
      "outputs": [
        {
          "output_type": "execute_result",
          "data": {
            "text/plain": [
              "Dept\n",
              "EMS     914\n",
              "Fire     24\n",
              "Name: Dept, dtype: int64"
            ]
          },
          "metadata": {},
          "execution_count": 329
        }
      ]
    },
    {
      "cell_type": "code",
      "source": [
        "# reasons called for this address/intersection\n",
        "# most reasons listed could possibly indicate an aging population - BUT\n",
        "# research indicates only 10% of the population is over 65 years and the \n",
        "# median age is only 36\n",
        "# maybe it's more densely populated than other intersections\n",
        "\n",
        "df2.groupby(['Reason'])['Reason'].count().sort_values(ascending = False).head(10)"
      ],
      "metadata": {
        "colab": {
          "base_uri": "https://localhost:8080/"
        },
        "id": "zg6JXT3hY-Xg",
        "outputId": "2d8ba074-fea7-45da-ba4a-4e025edccba6"
      },
      "execution_count": 330,
      "outputs": [
        {
          "output_type": "execute_result",
          "data": {
            "text/plain": [
              "Reason\n",
              " MEDICAL ALERT ALARM      267\n",
              " FALL VICTIM              211\n",
              " CARDIAC EMERGENCY         78\n",
              " RESPIRATORY EMERGENCY     75\n",
              " SUBJECT IN PAIN           39\n",
              " ALTERED MENTAL STATUS     31\n",
              " HEAD INJURY               30\n",
              " CVA/STROKE                25\n",
              " GENERAL WEAKNESS          22\n",
              " FIRE ALARM                21\n",
              "Name: Reason, dtype: int64"
            ]
          },
          "metadata": {},
          "execution_count": 330
        }
      ]
    },
    {
      "cell_type": "code",
      "source": [
        ""
      ],
      "metadata": {
        "id": "WYWXoJhbY-g5"
      },
      "execution_count": 330,
      "outputs": []
    }
  ]
}